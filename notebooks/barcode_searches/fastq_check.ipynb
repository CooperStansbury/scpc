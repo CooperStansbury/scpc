{
 "cells": [
  {
   "cell_type": "code",
   "execution_count": 1,
   "id": "46a28494-9a03-4469-be23-c5f30565b489",
   "metadata": {},
   "outputs": [],
   "source": [
    "import sys\n",
    "import re\n",
    "import numpy as np\n",
    "import pandas as pd\n",
    "import pysam\n",
    "import matplotlib.pyplot as plt\n",
    "import seaborn as sns\n",
    "import pysam\n",
    "import gget"
   ]
  },
  {
   "cell_type": "code",
   "execution_count": 2,
   "id": "7f75037d-126e-4610-bfad-5a944b9bfb7e",
   "metadata": {},
   "outputs": [
    {
     "data": {
      "text/html": [
       "<div>\n",
       "<style scoped>\n",
       "    .dataframe tbody tr th:only-of-type {\n",
       "        vertical-align: middle;\n",
       "    }\n",
       "\n",
       "    .dataframe tbody tr th {\n",
       "        vertical-align: top;\n",
       "    }\n",
       "\n",
       "    .dataframe thead th {\n",
       "        text-align: right;\n",
       "    }\n",
       "</style>\n",
       "<table border=\"1\" class=\"dataframe\">\n",
       "  <thead>\n",
       "    <tr style=\"text-align: right;\">\n",
       "      <th></th>\n",
       "      <th>n_frg</th>\n",
       "      <th>seq_len</th>\n",
       "    </tr>\n",
       "  </thead>\n",
       "  <tbody>\n",
       "    <tr>\n",
       "      <th>0</th>\n",
       "      <td>0</td>\n",
       "      <td>548</td>\n",
       "    </tr>\n",
       "    <tr>\n",
       "      <th>1</th>\n",
       "      <td>0</td>\n",
       "      <td>736</td>\n",
       "    </tr>\n",
       "    <tr>\n",
       "      <th>2</th>\n",
       "      <td>0</td>\n",
       "      <td>665</td>\n",
       "    </tr>\n",
       "    <tr>\n",
       "      <th>3</th>\n",
       "      <td>0</td>\n",
       "      <td>527</td>\n",
       "    </tr>\n",
       "    <tr>\n",
       "      <th>4</th>\n",
       "      <td>0</td>\n",
       "      <td>825</td>\n",
       "    </tr>\n",
       "  </tbody>\n",
       "</table>\n",
       "</div>"
      ],
      "text/plain": [
       "   n_frg  seq_len\n",
       "0      0      548\n",
       "1      0      736\n",
       "2      0      665\n",
       "3      0      527\n",
       "4      0      825"
      ]
     },
     "execution_count": 2,
     "metadata": {},
     "output_type": "execute_result"
    }
   ],
   "source": [
    "fpath = f\"/nfs/turbo/umms-indikar/shared/projects/poreC/data/fastq/p2/scPC96o_3/2024-02-01-scPC96o_3_run2/fastq_pass/barcode01/PAS93920_pass_barcode01_4b64fd13_79b31b3b_12.fastq.gz\"\n",
    "\n",
    "fastq = pysam.FastxFile(fpath)\n",
    "cutter = \"CATG\"\n",
    "\n",
    "res = []\n",
    "\n",
    "for read in fastq:\n",
    "    n_frg = read.sequence.count(cutter)\n",
    "    seq_len = len(read.sequence)\n",
    "\n",
    "    row = {\n",
    "        'n_frg' : n_frg,\n",
    "        'seq_len' : seq_len,\n",
    "    }\n",
    "    res.append(row)\n",
    "\n",
    "res = pd.DataFrame(res)\n",
    "res.head()"
   ]
  },
  {
   "cell_type": "code",
   "execution_count": 3,
   "id": "af482c17-b30c-4b15-a9e0-a038b12bd337",
   "metadata": {},
   "outputs": [
    {
     "data": {
      "text/plain": [
       "n_frg\n",
       "0     3672\n",
       "1      285\n",
       "2       30\n",
       "3        5\n",
       "4        2\n",
       "20       1\n",
       "17       1\n",
       "6        1\n",
       "12       1\n",
       "7        1\n",
       "5        1\n",
       "Name: count, dtype: int64"
      ]
     },
     "execution_count": 3,
     "metadata": {},
     "output_type": "execute_result"
    }
   ],
   "source": [
    "res['n_frg'].value_counts()"
   ]
  },
  {
   "cell_type": "code",
   "execution_count": 4,
   "id": "090f86f3-386e-4153-b93d-67ec25f87ae9",
   "metadata": {},
   "outputs": [
    {
     "data": {
      "text/plain": [
       "n_frg\n",
       "0     0.91800\n",
       "1     0.07125\n",
       "2     0.00750\n",
       "3     0.00125\n",
       "4     0.00050\n",
       "20    0.00025\n",
       "17    0.00025\n",
       "6     0.00025\n",
       "12    0.00025\n",
       "7     0.00025\n",
       "5     0.00025\n",
       "Name: proportion, dtype: float64"
      ]
     },
     "execution_count": 4,
     "metadata": {},
     "output_type": "execute_result"
    }
   ],
   "source": [
    "res['n_frg'].value_counts(normalize=True)"
   ]
  },
  {
   "cell_type": "code",
   "execution_count": 5,
   "id": "85e39687-b4bc-4af7-bba4-b0de5f274da1",
   "metadata": {},
   "outputs": [
    {
     "data": {
      "text/plain": [
       "<AxesSubplot: xlabel='n_frg', ylabel='seq_len'>"
      ]
     },
     "execution_count": 5,
     "metadata": {},
     "output_type": "execute_result"
    },
    {
     "data": {
      "image/png": "[encoded data removed]",
      "text/plain": [
       "<Figure size 640x480 with 1 Axes>"
      ]
     },
     "metadata": {},
     "output_type": "display_data"
    }
   ],
   "source": [
    "sns.histplot(data=res, \n",
    "             x='n_frg',\n",
    "             y='seq_len',\n",
    "             bins=(4, 10),\n",
    "             stat='percent',\n",
    "             discrete=(True, False),\n",
    "             )"
   ]
  },
  {
   "cell_type": "code",
   "execution_count": 6,
   "id": "582a395d-bc57-41dc-b75a-54037ad1ed95",
   "metadata": {},
   "outputs": [
    {
     "name": "stderr",
     "output_type": "stream",
     "text": [
      "Tue Feb 27 11:26:44 2024 INFO Sequence recognized as nucleotide sequence.\n",
      "Tue Feb 27 11:26:44 2024 INFO BLAST will use program 'blastn' with database 'nt'.\n"
     ]
    },
    {
     "name": "stdout",
     "output_type": "stream",
     "text": [
      "\n",
      "n_frg=0 seq_len=532\n",
      "GTGTTATGTTACGTGCTTCGTTCAGTTACGTATTGCTGGTGCTGAAGAAAGTTGTTGGTGTCTTTGTGTTAACCTTTCTGTTGGTGCTGATATTGCGGTGCTGAAGAAAGTTGTCGGTGTCTTTGTGTTAACCTTTCTGTTGGTGCTGATATTGCGGTGCTGAAGAAAGTTGTCGGTGTCTTTGTGTTAACCTTTCTGTTGGTGCTGATATTGCGGTGCTGAAGAAAGTTGTCGGTGTCTTTGTGTTAACCTTTCTGTTGGTGCTGATATTGCGGTGCTGAAGAAAGTTGTCGGTGCTTGTGTTAACCTTTCTGTTGGTGCTGATATTGCGGGGTGCTAAAAAAGTTGTCGGTGTCTTTGTGTTAACCTTTCTGTTGGTGCTGATATTGTGGTGCTGAAGAAAGTTGTCGGTGTCTTTGTGTTAACCTTTCTGTTGGTGCTGATATTGCGGTGCTGAAGAAAGTTGTCGGTGTCTTTGTGTTAACCTTTCTGTTGGTGCTGATATTGCGGTGCTGAAGTAGAGCGACAGGCT\n"
     ]
    },
    {
     "name": "stderr",
     "output_type": "stream",
     "text": [
      "Tue Feb 27 11:26:45 2024 INFO BLAST initiated with search ID XW3A5Y1T016. Estimated time to completion: 30 seconds.\n",
      "Tue Feb 27 11:27:17 2024 INFO Retrieving results...\n",
      "Tue Feb 27 11:27:17 2024 INFO Sequence recognized as nucleotide sequence.\n",
      "Tue Feb 27 11:27:17 2024 INFO BLAST will use program 'blastn' with database 'nt'.\n"
     ]
    },
    {
     "name": "stdout",
     "output_type": "stream",
     "text": [
      "\n",
      "n_frg=0 seq_len=518\n",
      "GTTTTTGTATTCTACTCGTTCAGTTACGTATTGCTGGTGCTGAAGAAAGTTGTCGGTGTCTTTGTGTTAACCTTTCTGTTGGTGCTGATATTGTGGTGCTGAAGAAAGTTGTCGGTGTCTTTGTGTTAACCTTTCTGTTGGTGCTGATATTGCGGTGCTGAAGAAAAAAGTTGTGCGGTGTCTTTGTGTTAACCTTTCTGTTGGTGTAAATTGGAATTGTTATAAAGAATTATGGTGTGTTCTTGCTAACCTTTCTGTTGGTGCTGATATTGCGGTGGTGCTGAAGAAAGTTGTCGGTGTCTTTGTGTTAACCTTTCTGTTGGTGCTGATATTGCGGTGCTGAAGAAAGCTGTCGGTGTCTTTGTGTTAACCTTTCTGTTGGTGCTGATATTGTGGTGCTGAAGAAAGTTGTCGGTGTCTTTGTGTTAACCTTTCTGTTGGTGCTGAAGATAGAGCGACAGGCAAGTAGGTTAACACAAAGACACCTACACTTTCTTCAGCACCAGCAATACGTTGGT\n"
     ]
    },
    {
     "name": "stderr",
     "output_type": "stream",
     "text": [
      "Tue Feb 27 11:27:18 2024 INFO BLAST initiated with search ID XW3B6RME013. Estimated time to completion: 30 seconds.\n",
      "Tue Feb 27 11:27:48 2024 INFO BLASTING...\n",
      "Tue Feb 27 11:28:50 2024 INFO Retrieving results...\n",
      "Tue Feb 27 11:28:50 2024 INFO Sequence recognized as nucleotide sequence.\n",
      "Tue Feb 27 11:28:50 2024 INFO BLAST will use program 'blastn' with database 'nt'.\n"
     ]
    },
    {
     "name": "stdout",
     "output_type": "stream",
     "text": [
      "\n",
      "n_frg=1 seq_len=577\n",
      "ATGTTTTGCATGTATTCGTTCAGTTACGTGTATGCTGGTGCTAGTGTTTTTGCGTGGGAATGAATCCTTTTTAACCTTTCTGTTGGTGCTCTGATGTTGGTGCTGAAGAAAGTTGTCAGGTGTCTTTGTGTTAACCTTTCTGTTGGTGCTGATATGCAGGTGCTGAAGAAAGTTGTCGTATTATGTTAACCTTTTATCTTGATGCTGATATTGCGGTGCTGAAGAAAGTTGTCGGTGTCTTTGTTAACCTTTCCTGTTGGTGCTGATGTTGCGGTGCTGAAGAAAGTTGTTCGGTGTCTTTGTGTTAACTTTTCTGTTCTGGTGCTGATCTGTCGTGTGTTGAAGAAAGTTGTCGGTGTCTTTGTGTTAACCTTTTTATCTTGATATAATATGCGGTGCTGAAGAAAGTTGTCGGTGTCTTTGTGTAACTCTTGCTGTTGGTGCTGATCTGCCATATGAAGAACCTGTGTCGTGTCTTTGTGTTAACTTTTCTGTTTTTCCATTATAAAGATCGAGCGACAGGCAAGTAGGTTAACACAAAGAGCACCAACAACTTTCTTCACGCCACAATTGGTTA\n"
     ]
    },
    {
     "name": "stderr",
     "output_type": "stream",
     "text": [
      "Tue Feb 27 11:28:51 2024 INFO BLAST initiated with search ID XW3E3XDP016. Estimated time to completion: 30 seconds.\n",
      "Tue Feb 27 11:29:21 2024 INFO BLASTING...\n",
      "Tue Feb 27 11:30:23 2024 INFO BLASTING...\n",
      "Tue Feb 27 11:31:24 2024 INFO BLASTING...\n",
      "Tue Feb 27 11:32:25 2024 INFO BLASTING...\n",
      "Tue Feb 27 11:33:27 2024 INFO BLASTING...\n",
      "Tue Feb 27 11:34:30 2024 INFO Retrieving results...\n",
      "Tue Feb 27 11:34:30 2024 INFO Sequence recognized as nucleotide sequence.\n",
      "Tue Feb 27 11:34:30 2024 INFO BLAST will use program 'blastn' with database 'nt'.\n"
     ]
    },
    {
     "name": "stdout",
     "output_type": "stream",
     "text": [
      "\n",
      "n_frg=0 seq_len=492\n",
      "TTGCATCTACTGGTTCAGTTACGTGTATTGCTTGTCTTTGTGTTAACCTACTTGCCTGTCGCTCTATCTTCAAGAACGCCAAAGGTTAACACAAAGGCACCGACAACTTTCTTCAGCACCGCAATATCAGCACCAACAGAAAGGTTAACACAAAGACACCGACAACTTTCTTCAGCACCGCCGACAACTTTCTTCAGCACCGCAATATCAGCACCAACAGAAAGGTTAACACAAAGACACCGACAACTTTCTTCAGCACCACCGACAACTTTCTTCAGCACCGCAATATCAGCACCAACAGAAAGGTTAACACAAAGACACCGACAACTTTCTTCAGCAGCAATATCAGCACCAACAGAAAGGTTAACACAAAGACACCGACAACTTTCTTCAGCACCAACAACTTTCTTTTCAGCACCACAATATCAGCACCAACAGAAAGGTTAACAGGATTCATTCCCACGGTAACACCAGCACCAGCAATACGTAGTG\n"
     ]
    },
    {
     "name": "stderr",
     "output_type": "stream",
     "text": [
      "Tue Feb 27 11:34:30 2024 INFO BLAST initiated with search ID XW3SPF1B016. Estimated time to completion: 30 seconds.\n",
      "Tue Feb 27 11:35:02 2024 INFO Retrieving results...\n"
     ]
    },
    {
     "data": {
      "text/html": [
       "<div>\n",
       "<style scoped>\n",
       "    .dataframe tbody tr th:only-of-type {\n",
       "        vertical-align: middle;\n",
       "    }\n",
       "\n",
       "    .dataframe tbody tr th {\n",
       "        vertical-align: top;\n",
       "    }\n",
       "\n",
       "    .dataframe thead th {\n",
       "        text-align: right;\n",
       "    }\n",
       "</style>\n",
       "<table border=\"1\" class=\"dataframe\">\n",
       "  <thead>\n",
       "    <tr style=\"text-align: right;\">\n",
       "      <th></th>\n",
       "      <th>Description</th>\n",
       "      <th>Scientific Name</th>\n",
       "      <th>Common Name</th>\n",
       "      <th>Taxid</th>\n",
       "      <th>Max Score</th>\n",
       "      <th>Total Score</th>\n",
       "      <th>Query Cover</th>\n",
       "      <th>E value</th>\n",
       "      <th>Per. Ident</th>\n",
       "      <th>Acc. Len</th>\n",
       "      <th>Accession</th>\n",
       "      <th>read_name</th>\n",
       "    </tr>\n",
       "  </thead>\n",
       "  <tbody>\n",
       "    <tr>\n",
       "      <th>0</th>\n",
       "      <td>Uncultured Parasutterella sp. clone MinION_con...</td>\n",
       "      <td>uncultured Parasutterella sp.</td>\n",
       "      <td>NaN</td>\n",
       "      <td>1263098</td>\n",
       "      <td>145.0</td>\n",
       "      <td>924.0</td>\n",
       "      <td>93%</td>\n",
       "      <td>2.000000e-29</td>\n",
       "      <td>97.62%</td>\n",
       "      <td>4379</td>\n",
       "      <td>MN135767.1</td>\n",
       "      <td>d2e216fe-c419-430d-9db0-fe09922fdc83</td>\n",
       "    </tr>\n",
       "    <tr>\n",
       "      <th>1</th>\n",
       "      <td>Uncultured Parasutterella sp. clone MinION_con...</td>\n",
       "      <td>uncultured Parasutterella sp.</td>\n",
       "      <td>NaN</td>\n",
       "      <td>1263098</td>\n",
       "      <td>132.0</td>\n",
       "      <td>1186.0</td>\n",
       "      <td>93%</td>\n",
       "      <td>1.000000e-25</td>\n",
       "      <td>95.24%</td>\n",
       "      <td>4114</td>\n",
       "      <td>MN135768.1</td>\n",
       "      <td>d2e216fe-c419-430d-9db0-fe09922fdc83</td>\n",
       "    </tr>\n",
       "    <tr>\n",
       "      <th>2</th>\n",
       "      <td>Uncultured Parasutterella sp. clone MinION_con...</td>\n",
       "      <td>uncultured Parasutterella sp.</td>\n",
       "      <td>NaN</td>\n",
       "      <td>1263098</td>\n",
       "      <td>99.0</td>\n",
       "      <td>555.0</td>\n",
       "      <td>65%</td>\n",
       "      <td>1.000000e-15</td>\n",
       "      <td>88.89%</td>\n",
       "      <td>4151</td>\n",
       "      <td>MN135764.1</td>\n",
       "      <td>d2e216fe-c419-430d-9db0-fe09922fdc83</td>\n",
       "    </tr>\n",
       "    <tr>\n",
       "      <th>3</th>\n",
       "      <td>[Candida] auris isolate B12043 chromosome 5</td>\n",
       "      <td>[Candida] auris</td>\n",
       "      <td>NaN</td>\n",
       "      <td>498019</td>\n",
       "      <td>76.8</td>\n",
       "      <td>429.0</td>\n",
       "      <td>44%</td>\n",
       "      <td>6.000000e-09</td>\n",
       "      <td>100.00%</td>\n",
       "      <td>1029387</td>\n",
       "      <td>CP050670.1</td>\n",
       "      <td>d2e216fe-c419-430d-9db0-fe09922fdc83</td>\n",
       "    </tr>\n",
       "    <tr>\n",
       "      <th>4</th>\n",
       "      <td>Lactiplantibacillus sp. AMBF275 isolate AMBF27...</td>\n",
       "      <td>Lactiplantibacillus carotarum</td>\n",
       "      <td>NaN</td>\n",
       "      <td>2993456</td>\n",
       "      <td>75.0</td>\n",
       "      <td>433.0</td>\n",
       "      <td>44%</td>\n",
       "      <td>2.000000e-08</td>\n",
       "      <td>100.00%</td>\n",
       "      <td>26145</td>\n",
       "      <td>OX443577.1</td>\n",
       "      <td>d2e216fe-c419-430d-9db0-fe09922fdc83</td>\n",
       "    </tr>\n",
       "  </tbody>\n",
       "</table>\n",
       "</div>"
      ],
      "text/plain": [
       "                                         Description  \\\n",
       "0  Uncultured Parasutterella sp. clone MinION_con...   \n",
       "1  Uncultured Parasutterella sp. clone MinION_con...   \n",
       "2  Uncultured Parasutterella sp. clone MinION_con...   \n",
       "3        [Candida] auris isolate B12043 chromosome 5   \n",
       "4  Lactiplantibacillus sp. AMBF275 isolate AMBF27...   \n",
       "\n",
       "                 Scientific Name Common Name    Taxid  Max Score  Total Score  \\\n",
       "0  uncultured Parasutterella sp.         NaN  1263098      145.0        924.0   \n",
       "1  uncultured Parasutterella sp.         NaN  1263098      132.0       1186.0   \n",
       "2  uncultured Parasutterella sp.         NaN  1263098       99.0        555.0   \n",
       "3                [Candida] auris         NaN   498019       76.8        429.0   \n",
       "4  Lactiplantibacillus carotarum         NaN  2993456       75.0        433.0   \n",
       "\n",
       "  Query Cover       E value Per. Ident  Acc. Len   Accession  \\\n",
       "0         93%  2.000000e-29     97.62%      4379  MN135767.1   \n",
       "1         93%  1.000000e-25     95.24%      4114  MN135768.1   \n",
       "2         65%  1.000000e-15     88.89%      4151  MN135764.1   \n",
       "3         44%  6.000000e-09    100.00%   1029387  CP050670.1   \n",
       "4         44%  2.000000e-08    100.00%     26145  OX443577.1   \n",
       "\n",
       "                              read_name  \n",
       "0  d2e216fe-c419-430d-9db0-fe09922fdc83  \n",
       "1  d2e216fe-c419-430d-9db0-fe09922fdc83  \n",
       "2  d2e216fe-c419-430d-9db0-fe09922fdc83  \n",
       "3  d2e216fe-c419-430d-9db0-fe09922fdc83  \n",
       "4  d2e216fe-c419-430d-9db0-fe09922fdc83  "
      ]
     },
     "execution_count": 6,
     "metadata": {},
     "output_type": "execute_result"
    }
   ],
   "source": [
    "stop = 4\n",
    "count = -1\n",
    "\n",
    "fpath = f\"/scratch/indikar_root/indikar1/cstansbu/scpc_test/fastq/b01.raw.fastq\"\n",
    "fastq = pysam.FastxFile(fpath)\n",
    "\n",
    "res = []\n",
    "for read in fastq:\n",
    "    n_frg = read.sequence.count(cutter)\n",
    "    seq_len = len(read.sequence)\n",
    "    count += 1\n",
    "    if count == stop:\n",
    "        break\n",
    "\n",
    "    print()\n",
    "    print(f\"{n_frg=} {seq_len=}\")\n",
    "    print(read.sequence)\n",
    "    edf = gget.blast(read.sequence)\n",
    "    edf['read_name'] = read.name\n",
    "    res.append(edf)\n",
    "\n",
    "\n",
    "res = pd.concat(res)\n",
    "res.head()"
   ]
  },
  {
   "cell_type": "code",
   "execution_count": 13,
   "id": "e548d19d-3e3d-4025-93be-86c9c709da53",
   "metadata": {},
   "outputs": [
    {
     "name": "stderr",
     "output_type": "stream",
     "text": [
      "Tue Feb 27 11:42:49 2024 INFO Sequence recognized as nucleotide sequence.\n",
      "Tue Feb 27 11:42:49 2024 INFO BLAST will use program 'blastn' with database 'nt'.\n"
     ]
    },
    {
     "name": "stdout",
     "output_type": "stream",
     "text": [
      "n_frg=0 seq_len=532\n"
     ]
    },
    {
     "name": "stderr",
     "output_type": "stream",
     "text": [
      "Tue Feb 27 11:42:49 2024 INFO BLAST initiated with search ID XW489X5M016. Estimated time to completion: 30 seconds.\n",
      "Tue Feb 27 11:43:20 2024 INFO BLASTING...\n",
      "Tue Feb 27 11:44:21 2024 INFO BLASTING...\n",
      "Tue Feb 27 11:45:22 2024 INFO BLASTING...\n",
      "Tue Feb 27 11:46:24 2024 INFO Retrieving results...\n"
     ]
    },
    {
     "name": "stdout",
     "output_type": "stream",
     "text": [
      "                                         Description  \\\n",
      "0  Uncultured Parasutterella sp. clone MinION_con...   \n",
      "1  Uncultured Parasutterella sp. clone MinION_con...   \n",
      "2  Uncultured Parasutterella sp. clone MinION_con...   \n",
      "3        [Candida] auris isolate B12043 chromosome 5   \n",
      "4  Lactiplantibacillus sp. AMBF275 isolate AMBF27...   \n",
      "\n",
      "                 Scientific Name Common Name    Taxid  Max Score  Total Score  \\\n",
      "0  uncultured Parasutterella sp.         NaN  1263098      145.0        924.0   \n",
      "1  uncultured Parasutterella sp.         NaN  1263098      132.0       1186.0   \n",
      "2  uncultured Parasutterella sp.         NaN  1263098       99.0        555.0   \n",
      "3                [Candida] auris         NaN   498019       76.8        429.0   \n",
      "4  Lactiplantibacillus carotarum         NaN  2993456       75.0        433.0   \n",
      "\n",
      "  Query Cover       E value Per. Ident  Acc. Len   Accession  \n",
      "0         93%  2.000000e-29     97.62%      4379  MN135767.1  \n",
      "1         93%  1.000000e-25     95.24%      4114  MN135768.1  \n",
      "2         65%  1.000000e-15     88.89%      4151  MN135764.1  \n",
      "3         44%  6.000000e-09    100.00%   1029387  CP050670.1  \n",
      "4         44%  2.000000e-08    100.00%     26145  OX443577.1  \n"
     ]
    }
   ],
   "source": [
    "thresh = 30\n",
    "\n",
    "fpath = f\"/scratch/indikar_root/indikar1/cstansbu/scpc_test/fastq/b01.raw.fastq\"\n",
    "fastq = pysam.FastxFile(fpath)\n",
    "\n",
    "res = []\n",
    "for read in fastq:\n",
    "    n_frg = read.sequence.count(cutter)\n",
    "    seq_len = len(read.sequence)\n",
    "    quals = read.get_quality_array()\n",
    "\n",
    "    if np.mean(quals) > thresh:\n",
    "        print(f\"{n_frg=} {seq_len=}\")\n",
    "\n",
    "        edf = gget.blast(read.sequence)\n",
    "        print(edf.head())\n",
    "        break"
   ]
  },
  {
   "cell_type": "code",
   "execution_count": null,
   "id": "731a0540-1206-49c1-a6ec-dc1cd4376b2a",
   "metadata": {},
   "outputs": [],
   "source": []
  },
  {
   "cell_type": "code",
   "execution_count": null,
   "id": "4afd3324-fe6f-4e8a-9980-b531318ac9e7",
   "metadata": {},
   "outputs": [],
   "source": []
  },
  {
   "cell_type": "code",
   "execution_count": null,
   "id": "776c21cb-d244-474d-96ec-56a21ca3f149",
   "metadata": {},
   "outputs": [],
   "source": []
  },
  {
   "cell_type": "code",
   "execution_count": null,
   "id": "98947281-7a51-4def-b1b4-8c5a2f1bd10c",
   "metadata": {},
   "outputs": [],
   "source": []
  },
  {
   "cell_type": "code",
   "execution_count": null,
   "id": "2683202f-2975-4528-912f-aee3f668a581",
   "metadata": {},
   "outputs": [],
   "source": []
  },
  {
   "cell_type": "code",
   "execution_count": 7,
   "id": "c68c73ee-cbbd-42ab-aa01-a15bfdb33090",
   "metadata": {},
   "outputs": [
    {
     "data": {
      "text/plain": [
       "Scientific Name\n",
       "Trichoderma virens FT-333                          28\n",
       "uncultured Parasutterella sp.                      22\n",
       "[Candida] auris                                    20\n",
       "Lactiplantibacillus carotarum                      12\n",
       "Enterobacter hormaechei                             8\n",
       "uncultured Turicimonas sp.                          6\n",
       "Severe acute respiratory syndrome coronavirus 2     5\n",
       "Luteimonas granuli                                  4\n",
       "Streptomyces koelreuteriae                          4\n",
       "Hebeloma theobrominum                               2\n",
       "Heterocephalus glaber                               2\n",
       "Staphylococcus pseudintermedius                     2\n",
       "Nephridiophagidae sp.                               2\n",
       "Staphylococcus phage S-CoN_Ph14                     1\n",
       "Mucor sp.                                           1\n",
       "Name: count, dtype: int64"
      ]
     },
     "execution_count": 7,
     "metadata": {},
     "output_type": "execute_result"
    }
   ],
   "source": [
    "res['Scientific Name'].value_counts()"
   ]
  },
  {
   "cell_type": "code",
   "execution_count": 8,
   "id": "aa360b6b-54a6-49c6-adcc-fd512919d815",
   "metadata": {},
   "outputs": [
    {
     "data": {
      "text/plain": [
       "'Uncultured Parasutterella sp. clone MinION_consensus13 16S ribosomal RNA gene, partial sequence; 16S-23S ribosomal RNA intergenic spacer, complete sequence; and 23S ribosomal RNA gene, partial sequence'"
      ]
     },
     "execution_count": 8,
     "metadata": {},
     "output_type": "execute_result"
    }
   ],
   "source": [
    "res['Description'].values[0]"
   ]
  },
  {
   "cell_type": "code",
   "execution_count": 9,
   "id": "7c8f2349-46d5-43fe-aaea-9946fe617cdf",
   "metadata": {},
   "outputs": [
    {
     "data": {
      "text/html": [
       "<div>\n",
       "<style scoped>\n",
       "    .dataframe tbody tr th:only-of-type {\n",
       "        vertical-align: middle;\n",
       "    }\n",
       "\n",
       "    .dataframe tbody tr th {\n",
       "        vertical-align: top;\n",
       "    }\n",
       "\n",
       "    .dataframe thead th {\n",
       "        text-align: right;\n",
       "    }\n",
       "</style>\n",
       "<table border=\"1\" class=\"dataframe\">\n",
       "  <thead>\n",
       "    <tr style=\"text-align: right;\">\n",
       "      <th></th>\n",
       "      <th>Description</th>\n",
       "      <th>Scientific Name</th>\n",
       "      <th>Common Name</th>\n",
       "      <th>Taxid</th>\n",
       "      <th>Max Score</th>\n",
       "      <th>Total Score</th>\n",
       "      <th>Query Cover</th>\n",
       "      <th>E value</th>\n",
       "      <th>Per. Ident</th>\n",
       "      <th>Acc. Len</th>\n",
       "      <th>Accession</th>\n",
       "      <th>read_name</th>\n",
       "    </tr>\n",
       "  </thead>\n",
       "  <tbody>\n",
       "    <tr>\n",
       "      <th>0</th>\n",
       "      <td>Uncultured Parasutterella sp. clone MinION_con...</td>\n",
       "      <td>uncultured Parasutterella sp.</td>\n",
       "      <td>NaN</td>\n",
       "      <td>1263098</td>\n",
       "      <td>145.0</td>\n",
       "      <td>924.0</td>\n",
       "      <td>93%</td>\n",
       "      <td>2.000000e-29</td>\n",
       "      <td>97.62%</td>\n",
       "      <td>4379</td>\n",
       "      <td>MN135767.1</td>\n",
       "      <td>d2e216fe-c419-430d-9db0-fe09922fdc83</td>\n",
       "    </tr>\n",
       "    <tr>\n",
       "      <th>1</th>\n",
       "      <td>Uncultured Parasutterella sp. clone MinION_con...</td>\n",
       "      <td>uncultured Parasutterella sp.</td>\n",
       "      <td>NaN</td>\n",
       "      <td>1263098</td>\n",
       "      <td>132.0</td>\n",
       "      <td>1186.0</td>\n",
       "      <td>93%</td>\n",
       "      <td>1.000000e-25</td>\n",
       "      <td>95.24%</td>\n",
       "      <td>4114</td>\n",
       "      <td>MN135768.1</td>\n",
       "      <td>d2e216fe-c419-430d-9db0-fe09922fdc83</td>\n",
       "    </tr>\n",
       "    <tr>\n",
       "      <th>2</th>\n",
       "      <td>Uncultured Parasutterella sp. clone MinION_con...</td>\n",
       "      <td>uncultured Parasutterella sp.</td>\n",
       "      <td>NaN</td>\n",
       "      <td>1263098</td>\n",
       "      <td>99.0</td>\n",
       "      <td>555.0</td>\n",
       "      <td>65%</td>\n",
       "      <td>1.000000e-15</td>\n",
       "      <td>88.89%</td>\n",
       "      <td>4151</td>\n",
       "      <td>MN135764.1</td>\n",
       "      <td>d2e216fe-c419-430d-9db0-fe09922fdc83</td>\n",
       "    </tr>\n",
       "    <tr>\n",
       "      <th>3</th>\n",
       "      <td>[Candida] auris isolate B12043 chromosome 5</td>\n",
       "      <td>[Candida] auris</td>\n",
       "      <td>NaN</td>\n",
       "      <td>498019</td>\n",
       "      <td>76.8</td>\n",
       "      <td>429.0</td>\n",
       "      <td>44%</td>\n",
       "      <td>6.000000e-09</td>\n",
       "      <td>100.00%</td>\n",
       "      <td>1029387</td>\n",
       "      <td>CP050670.1</td>\n",
       "      <td>d2e216fe-c419-430d-9db0-fe09922fdc83</td>\n",
       "    </tr>\n",
       "    <tr>\n",
       "      <th>4</th>\n",
       "      <td>Lactiplantibacillus sp. AMBF275 isolate AMBF27...</td>\n",
       "      <td>Lactiplantibacillus carotarum</td>\n",
       "      <td>NaN</td>\n",
       "      <td>2993456</td>\n",
       "      <td>75.0</td>\n",
       "      <td>433.0</td>\n",
       "      <td>44%</td>\n",
       "      <td>2.000000e-08</td>\n",
       "      <td>100.00%</td>\n",
       "      <td>26145</td>\n",
       "      <td>OX443577.1</td>\n",
       "      <td>d2e216fe-c419-430d-9db0-fe09922fdc83</td>\n",
       "    </tr>\n",
       "  </tbody>\n",
       "</table>\n",
       "</div>"
      ],
      "text/plain": [
       "                                         Description  \\\n",
       "0  Uncultured Parasutterella sp. clone MinION_con...   \n",
       "1  Uncultured Parasutterella sp. clone MinION_con...   \n",
       "2  Uncultured Parasutterella sp. clone MinION_con...   \n",
       "3        [Candida] auris isolate B12043 chromosome 5   \n",
       "4  Lactiplantibacillus sp. AMBF275 isolate AMBF27...   \n",
       "\n",
       "                 Scientific Name Common Name    Taxid  Max Score  Total Score  \\\n",
       "0  uncultured Parasutterella sp.         NaN  1263098      145.0        924.0   \n",
       "1  uncultured Parasutterella sp.         NaN  1263098      132.0       1186.0   \n",
       "2  uncultured Parasutterella sp.         NaN  1263098       99.0        555.0   \n",
       "3                [Candida] auris         NaN   498019       76.8        429.0   \n",
       "4  Lactiplantibacillus carotarum         NaN  2993456       75.0        433.0   \n",
       "\n",
       "  Query Cover       E value Per. Ident  Acc. Len   Accession  \\\n",
       "0         93%  2.000000e-29     97.62%      4379  MN135767.1   \n",
       "1         93%  1.000000e-25     95.24%      4114  MN135768.1   \n",
       "2         65%  1.000000e-15     88.89%      4151  MN135764.1   \n",
       "3         44%  6.000000e-09    100.00%   1029387  CP050670.1   \n",
       "4         44%  2.000000e-08    100.00%     26145  OX443577.1   \n",
       "\n",
       "                              read_name  \n",
       "0  d2e216fe-c419-430d-9db0-fe09922fdc83  \n",
       "1  d2e216fe-c419-430d-9db0-fe09922fdc83  \n",
       "2  d2e216fe-c419-430d-9db0-fe09922fdc83  \n",
       "3  d2e216fe-c419-430d-9db0-fe09922fdc83  \n",
       "4  d2e216fe-c419-430d-9db0-fe09922fdc83  "
      ]
     },
     "execution_count": 9,
     "metadata": {},
     "output_type": "execute_result"
    }
   ],
   "source": [
    "res.head()"
   ]
  },
  {
   "cell_type": "code",
   "execution_count": 10,
   "id": "5ebf87d2-6759-4509-9970-165b25f92e78",
   "metadata": {},
   "outputs": [
    {
     "ename": "SyntaxError",
     "evalue": "'break' outside loop (668683560.py, line 1)",
     "output_type": "error",
     "traceback": [
      "\u001b[0;36m  Cell \u001b[0;32mIn[10], line 1\u001b[0;36m\u001b[0m\n\u001b[0;31m    break\u001b[0m\n\u001b[0m    ^\u001b[0m\n\u001b[0;31mSyntaxError\u001b[0m\u001b[0;31m:\u001b[0m 'break' outside loop\n"
     ]
    }
   ],
   "source": [
    "break"
   ]
  },
  {
   "cell_type": "code",
   "execution_count": null,
   "id": "2cc1e03f-7464-4784-adce-ad25bdb28aed",
   "metadata": {},
   "outputs": [],
   "source": [
    "stop = 45\n",
    "count = -1\n",
    "fastq = pysam.FastxFile(fpath)\n",
    "\n",
    "res = []\n",
    "for read in fastq:\n",
    "    seq = read.sequence\n",
    "    quals = read.get_quality_array()\n",
    "    \n",
    "    print(seq)\n",
    "    print()\n",
    "    print(quals)\n",
    "\n",
    "    break"
   ]
  },
  {
   "cell_type": "code",
   "execution_count": null,
   "id": "6aa722e0-9112-43e9-a263-507f142baaed",
   "metadata": {},
   "outputs": [],
   "source": [
    "np.mean(quals)"
   ]
  },
  {
   "cell_type": "code",
   "execution_count": null,
   "id": "8c92d523-4699-49c3-b2c0-7f0df0cc7a28",
   "metadata": {},
   "outputs": [],
   "source": [
    "fpath = f\"/nfs/turbo/umms-indikar/shared/projects/poreC/data/fastq/p2/scPC96o_2/Run2/fastq_pass/barcode01/PAS87012_pass_barcode01_a3fcacfb_67c73f7f_0.fastq.gz\"\n",
    "\n",
    "stop = 45\n",
    "count = -1\n",
    "fastq = pysam.FastxFile(fpath)\n",
    "\n",
    "res = []\n",
    "for read in fastq:\n",
    "    seq = read.sequence\n",
    "    quals = read.get_quality_array()\n",
    "    res.append(np.mean(quals))\n",
    "\n",
    "\n",
    "sns.histplot(res)"
   ]
  },
  {
   "cell_type": "code",
   "execution_count": null,
   "id": "8d54671e-e035-43ae-a9ed-361723b5e642",
   "metadata": {},
   "outputs": [],
   "source": [
    "fpath = f\"/nfs/turbo/umms-indikar/shared/projects/poreC/data/fastq/p2/scPC96o_3/2024-02-01-scPC96o_3_run2/fastq_pass/barcode01/PAS93920_pass_barcode01_4b64fd13_79b31b3b_12.fastq.gz\"\n",
    "\n",
    "stop = 45\n",
    "count = -1\n",
    "fastq = pysam.FastxFile(fpath)\n",
    "\n",
    "res = []\n",
    "for read in fastq:\n",
    "    seq = read.sequence\n",
    "    quals = read.get_quality_array()\n",
    "    res.append(np.mean(quals))\n",
    "\n",
    "sns.histplot(res)"
   ]
  },
  {
   "cell_type": "code",
   "execution_count": null,
   "id": "ea041b15-baef-4f8e-804e-c76584f5afa5",
   "metadata": {},
   "outputs": [],
   "source": []
  }
 ],
 "metadata": {
  "kernelspec": {
   "display_name": "Python 3 (ipykernel)",
   "language": "python",
   "name": "python3"
  },
  "language_info": {
   "codemirror_mode": {
    "name": "ipython",
    "version": 3
   },
   "file_extension": ".py",
   "mimetype": "text/x-python",
   "name": "python",
   "nbconvert_exporter": "python",
   "pygments_lexer": "ipython3",
   "version": "3.9.7"
  }
 },
 "nbformat": 4,
 "nbformat_minor": 5
}
