{
 "cells": [
  {
   "cell_type": "code",
   "execution_count": 43,
   "id": "3f8477d1-5b41-49ba-b97b-f40734060503",
   "metadata": {},
   "outputs": [],
   "source": [
    "import pandas as pd\n",
    "import numpy as np\n",
    "import scanpy as sc\n",
    "import sys\n",
    "import os\n",
    "import pysam\n",
    "import mappy as mp\n",
    "import re\n",
    "import matplotlib.pyplot as plt\n",
    "import seaborn as sns\n",
    "from Bio.Seq import Seq\n",
    "from collections import Counter\n",
    "import io"
   ]
  },
  {
   "cell_type": "code",
   "execution_count": 5,
   "id": "5be4bb8a-a38f-45bd-b646-ab9ab8a46fc3",
   "metadata": {},
   "outputs": [
    {
     "name": "stdout",
     "output_type": "stream",
     "text": [
      "codes.shape=(172653, 9)\n"
     ]
    },
    {
     "data": {
      "text/html": [
       "<div>\n",
       "<style scoped>\n",
       "    .dataframe tbody tr th:only-of-type {\n",
       "        vertical-align: middle;\n",
       "    }\n",
       "\n",
       "    .dataframe tbody tr th {\n",
       "        vertical-align: top;\n",
       "    }\n",
       "\n",
       "    .dataframe thead th {\n",
       "        text-align: right;\n",
       "    }\n",
       "</style>\n",
       "<table border=\"1\" class=\"dataframe\">\n",
       "  <thead>\n",
       "    <tr style=\"text-align: right;\">\n",
       "      <th></th>\n",
       "      <th>seqID</th>\n",
       "      <th>patternName</th>\n",
       "      <th>pattern</th>\n",
       "      <th>strand</th>\n",
       "      <th>start</th>\n",
       "      <th>end</th>\n",
       "      <th>matched</th>\n",
       "      <th>n_barcode_per_strand</th>\n",
       "      <th>n_barcode</th>\n",
       "    </tr>\n",
       "  </thead>\n",
       "  <tbody>\n",
       "    <tr>\n",
       "      <th>0</th>\n",
       "      <td>2a2a0067-90d8-480d-b863-6ec4097df341</td>\n",
       "      <td>b24</td>\n",
       "      <td>GCATAGTTCTGCATGATGGGTTAG</td>\n",
       "      <td>+</td>\n",
       "      <td>40</td>\n",
       "      <td>63</td>\n",
       "      <td>GCATAGTTCTGCATGATGGGTTAG</td>\n",
       "      <td>1</td>\n",
       "      <td>2</td>\n",
       "    </tr>\n",
       "    <tr>\n",
       "      <th>1</th>\n",
       "      <td>2a2a0067-90d8-480d-b863-6ec4097df341</td>\n",
       "      <td>b24</td>\n",
       "      <td>GCATAGTTCTGCATGATGGGTTAG</td>\n",
       "      <td>-</td>\n",
       "      <td>1561</td>\n",
       "      <td>1584</td>\n",
       "      <td>GCATAGTTCTGCATGATGGGTTAG</td>\n",
       "      <td>1</td>\n",
       "      <td>2</td>\n",
       "    </tr>\n",
       "    <tr>\n",
       "      <th>2</th>\n",
       "      <td>a830eca5-7897-4d18-95cf-0014429e2751</td>\n",
       "      <td>b24</td>\n",
       "      <td>GCATAGTTCTGCATGATGGGTTAG</td>\n",
       "      <td>+</td>\n",
       "      <td>43</td>\n",
       "      <td>66</td>\n",
       "      <td>GCATAGTTCTGCATGATGGGTTAG</td>\n",
       "      <td>1</td>\n",
       "      <td>2</td>\n",
       "    </tr>\n",
       "    <tr>\n",
       "      <th>3</th>\n",
       "      <td>a830eca5-7897-4d18-95cf-0014429e2751</td>\n",
       "      <td>b24</td>\n",
       "      <td>GCATAGTTCTGCATGATGGGTTAG</td>\n",
       "      <td>-</td>\n",
       "      <td>1456</td>\n",
       "      <td>1479</td>\n",
       "      <td>GCATAGTTCTGCATGATGGGTTAG</td>\n",
       "      <td>1</td>\n",
       "      <td>2</td>\n",
       "    </tr>\n",
       "    <tr>\n",
       "      <th>4</th>\n",
       "      <td>d8ed6771-2c05-4367-aafe-4c9fa9091f82</td>\n",
       "      <td>b24</td>\n",
       "      <td>GCATAGTTCTGCATGATGGGTTAG</td>\n",
       "      <td>+</td>\n",
       "      <td>35</td>\n",
       "      <td>58</td>\n",
       "      <td>GCATAGTTCTGCATGATGGGTTAG</td>\n",
       "      <td>1</td>\n",
       "      <td>2</td>\n",
       "    </tr>\n",
       "  </tbody>\n",
       "</table>\n",
       "</div>"
      ],
      "text/plain": [
       "                                  seqID patternName                   pattern  \\\n",
       "0  2a2a0067-90d8-480d-b863-6ec4097df341         b24  GCATAGTTCTGCATGATGGGTTAG   \n",
       "1  2a2a0067-90d8-480d-b863-6ec4097df341         b24  GCATAGTTCTGCATGATGGGTTAG   \n",
       "2  a830eca5-7897-4d18-95cf-0014429e2751         b24  GCATAGTTCTGCATGATGGGTTAG   \n",
       "3  a830eca5-7897-4d18-95cf-0014429e2751         b24  GCATAGTTCTGCATGATGGGTTAG   \n",
       "4  d8ed6771-2c05-4367-aafe-4c9fa9091f82         b24  GCATAGTTCTGCATGATGGGTTAG   \n",
       "\n",
       "  strand  start   end                   matched  n_barcode_per_strand  \\\n",
       "0      +     40    63  GCATAGTTCTGCATGATGGGTTAG                     1   \n",
       "1      -   1561  1584  GCATAGTTCTGCATGATGGGTTAG                     1   \n",
       "2      +     43    66  GCATAGTTCTGCATGATGGGTTAG                     1   \n",
       "3      -   1456  1479  GCATAGTTCTGCATGATGGGTTAG                     1   \n",
       "4      +     35    58  GCATAGTTCTGCATGATGGGTTAG                     1   \n",
       "\n",
       "   n_barcode  \n",
       "0          2  \n",
       "1          2  \n",
       "2          2  \n",
       "3          2  \n",
       "4          2  "
      ]
     },
     "execution_count": 5,
     "metadata": {},
     "output_type": "execute_result"
    }
   ],
   "source": [
    "fpath = \"/scratch/indikar_root/indikar1/cstansbu/scpc_test/barcode_locations/o3b24.csv\"\n",
    "codes = pd.read_csv(fpath, sep='\\t')\n",
    "\n",
    "# exclude miscalled barcodes\n",
    "codes = codes[codes['patternName'] == 'b24']\n",
    "\n",
    "# count the barcodes per read\n",
    "codes['n_barcode_per_strand'] = codes.groupby(['seqID', 'strand'])['patternName'].transform('count')\n",
    "codes['n_barcode'] = codes.groupby('seqID')['patternName'].transform('count')\n",
    "\n",
    "print(f\"{codes.shape=}\")\n",
    "codes.head()"
   ]
  },
  {
   "cell_type": "code",
   "execution_count": 6,
   "id": "3f96df84-f07e-4655-8557-898226b09777",
   "metadata": {},
   "outputs": [
    {
     "name": "stdout",
     "output_type": "stream",
     "text": [
      "multi.shape=(138656, 9)\n",
      "multi['seqID'].nunique()=69328\n"
     ]
    },
    {
     "data": {
      "text/html": [
       "<div>\n",
       "<style scoped>\n",
       "    .dataframe tbody tr th:only-of-type {\n",
       "        vertical-align: middle;\n",
       "    }\n",
       "\n",
       "    .dataframe tbody tr th {\n",
       "        vertical-align: top;\n",
       "    }\n",
       "\n",
       "    .dataframe thead th {\n",
       "        text-align: right;\n",
       "    }\n",
       "</style>\n",
       "<table border=\"1\" class=\"dataframe\">\n",
       "  <thead>\n",
       "    <tr style=\"text-align: right;\">\n",
       "      <th></th>\n",
       "      <th>seqID</th>\n",
       "      <th>patternName</th>\n",
       "      <th>pattern</th>\n",
       "      <th>strand</th>\n",
       "      <th>start</th>\n",
       "      <th>end</th>\n",
       "      <th>matched</th>\n",
       "      <th>n_barcode_per_strand</th>\n",
       "      <th>n_barcode</th>\n",
       "    </tr>\n",
       "  </thead>\n",
       "  <tbody>\n",
       "    <tr>\n",
       "      <th>0</th>\n",
       "      <td>2a2a0067-90d8-480d-b863-6ec4097df341</td>\n",
       "      <td>b24</td>\n",
       "      <td>GCATAGTTCTGCATGATGGGTTAG</td>\n",
       "      <td>+</td>\n",
       "      <td>40</td>\n",
       "      <td>63</td>\n",
       "      <td>GCATAGTTCTGCATGATGGGTTAG</td>\n",
       "      <td>1</td>\n",
       "      <td>2</td>\n",
       "    </tr>\n",
       "    <tr>\n",
       "      <th>1</th>\n",
       "      <td>2a2a0067-90d8-480d-b863-6ec4097df341</td>\n",
       "      <td>b24</td>\n",
       "      <td>GCATAGTTCTGCATGATGGGTTAG</td>\n",
       "      <td>-</td>\n",
       "      <td>1561</td>\n",
       "      <td>1584</td>\n",
       "      <td>GCATAGTTCTGCATGATGGGTTAG</td>\n",
       "      <td>1</td>\n",
       "      <td>2</td>\n",
       "    </tr>\n",
       "    <tr>\n",
       "      <th>2</th>\n",
       "      <td>a830eca5-7897-4d18-95cf-0014429e2751</td>\n",
       "      <td>b24</td>\n",
       "      <td>GCATAGTTCTGCATGATGGGTTAG</td>\n",
       "      <td>+</td>\n",
       "      <td>43</td>\n",
       "      <td>66</td>\n",
       "      <td>GCATAGTTCTGCATGATGGGTTAG</td>\n",
       "      <td>1</td>\n",
       "      <td>2</td>\n",
       "    </tr>\n",
       "    <tr>\n",
       "      <th>3</th>\n",
       "      <td>a830eca5-7897-4d18-95cf-0014429e2751</td>\n",
       "      <td>b24</td>\n",
       "      <td>GCATAGTTCTGCATGATGGGTTAG</td>\n",
       "      <td>-</td>\n",
       "      <td>1456</td>\n",
       "      <td>1479</td>\n",
       "      <td>GCATAGTTCTGCATGATGGGTTAG</td>\n",
       "      <td>1</td>\n",
       "      <td>2</td>\n",
       "    </tr>\n",
       "    <tr>\n",
       "      <th>4</th>\n",
       "      <td>d8ed6771-2c05-4367-aafe-4c9fa9091f82</td>\n",
       "      <td>b24</td>\n",
       "      <td>GCATAGTTCTGCATGATGGGTTAG</td>\n",
       "      <td>+</td>\n",
       "      <td>35</td>\n",
       "      <td>58</td>\n",
       "      <td>GCATAGTTCTGCATGATGGGTTAG</td>\n",
       "      <td>1</td>\n",
       "      <td>2</td>\n",
       "    </tr>\n",
       "  </tbody>\n",
       "</table>\n",
       "</div>"
      ],
      "text/plain": [
       "                                  seqID patternName                   pattern  \\\n",
       "0  2a2a0067-90d8-480d-b863-6ec4097df341         b24  GCATAGTTCTGCATGATGGGTTAG   \n",
       "1  2a2a0067-90d8-480d-b863-6ec4097df341         b24  GCATAGTTCTGCATGATGGGTTAG   \n",
       "2  a830eca5-7897-4d18-95cf-0014429e2751         b24  GCATAGTTCTGCATGATGGGTTAG   \n",
       "3  a830eca5-7897-4d18-95cf-0014429e2751         b24  GCATAGTTCTGCATGATGGGTTAG   \n",
       "4  d8ed6771-2c05-4367-aafe-4c9fa9091f82         b24  GCATAGTTCTGCATGATGGGTTAG   \n",
       "\n",
       "  strand  start   end                   matched  n_barcode_per_strand  \\\n",
       "0      +     40    63  GCATAGTTCTGCATGATGGGTTAG                     1   \n",
       "1      -   1561  1584  GCATAGTTCTGCATGATGGGTTAG                     1   \n",
       "2      +     43    66  GCATAGTTCTGCATGATGGGTTAG                     1   \n",
       "3      -   1456  1479  GCATAGTTCTGCATGATGGGTTAG                     1   \n",
       "4      +     35    58  GCATAGTTCTGCATGATGGGTTAG                     1   \n",
       "\n",
       "   n_barcode  \n",
       "0          2  \n",
       "1          2  \n",
       "2          2  \n",
       "3          2  \n",
       "4          2  "
      ]
     },
     "execution_count": 6,
     "metadata": {},
     "output_type": "execute_result"
    }
   ],
   "source": [
    "# get reads with multiple barcodes on the same strand\n",
    "n_codes = 2\n",
    "multi = codes.copy()\n",
    "multi = multi[multi['n_barcode'] == n_codes]\n",
    "print(f\"{multi.shape=}\")\n",
    "print(f\"{multi['seqID'].nunique()=}\")\n",
    "multi.head()"
   ]
  },
  {
   "cell_type": "code",
   "execution_count": null,
   "id": "65f42fa1-4797-4b94-838d-930cccf6b08e",
   "metadata": {},
   "outputs": [],
   "source": [
    "break"
   ]
  },
  {
   "cell_type": "code",
   "execution_count": 36,
   "id": "ee696d05-41da-4096-9baf-f3da3a7218e1",
   "metadata": {},
   "outputs": [
    {
     "name": "stdout",
     "output_type": "stream",
     "text": [
      "adapter\n",
      "TTCTGTTGGTGCTGATATTGC     4030\n",
      "ACTTGCCTGTCGCTCTATCTTC    3239\n",
      "Name: count, dtype: int64\n",
      "\n",
      "adapter                 position\n",
      "TTCTGTTGGTGCTGATATTGC   32          479\n",
      "                        33          455\n",
      "                        34          418\n",
      "ACTTGCCTGTCGCTCTATCTTC  32          403\n",
      "TTCTGTTGGTGCTGATATTGC   37          400\n",
      "Name: count, dtype: int64\n"
     ]
    }
   ],
   "source": [
    "# loop through the fastq records\n",
    "\n",
    "fpath = \"/scratch/indikar_root/indikar1/cstansbu/scpc_test/fastq/o3b24.raw.fastq\"\n",
    "\n",
    "barcode = 'GCATAGTTCTGCATGATGGGTTAG'\n",
    "pre_code = \"GGTGCTG\"\n",
    "post_code = \"TTAACCT\"\n",
    "adapters = [\n",
    "    'TTCTGTTGGTGCTGATATTGC',\n",
    "    'ACTTGCCTGTCGCTCTATCTTC',\n",
    "]\n",
    "\n",
    "fastq_file = pysam.FastqFile(fpath)\n",
    "\n",
    "buffer = 24\n",
    "flanking_seqs = []\n",
    "\n",
    "stop = 10000\n",
    "count = -1\n",
    "for read in fastq_file:\n",
    "    count +=1 \n",
    "    if count == stop:\n",
    "        break\n",
    "\n",
    "    seq = read.sequence \n",
    "\n",
    "    for i, adapter in enumerate(adapters):\n",
    "        search = f\"{pre_code}{barcode}{post_code}{adapter}\"\n",
    "        offset = len(search)\n",
    "        res = seq.find(search)\n",
    "        if res != -1:\n",
    "            subseq = seq[res+offset:buffer+res+offset]\n",
    "            search_row = {\n",
    "                'read_name' : read.name,\n",
    "                'position' : res,\n",
    "                'end_pos' : buffer+res+offset,\n",
    "                'adapter' : adapter,\n",
    "                'flanking_sequence' : subseq,\n",
    "                'seq' : seq,\n",
    "            \n",
    "            }\n",
    "            flanking_seqs.append(search_row)\n",
    "       \n",
    "\n",
    "flanking_seqs = pd.DataFrame(flanking_seqs)\n",
    "\n",
    "print(flanking_seqs['adapter'].value_counts())\n",
    "print()\n",
    "print(flanking_seqs[['adapter', 'position']].value_counts().head(5))"
   ]
  },
  {
   "cell_type": "code",
   "execution_count": 61,
   "id": "f5fed418-5bdd-4b1d-a464-61b4845d1bba",
   "metadata": {},
   "outputs": [
    {
     "data": {
      "text/plain": [
       "60"
      ]
     },
     "execution_count": 61,
     "metadata": {},
     "output_type": "execute_result"
    }
   ],
   "source": [
    "offset"
   ]
  },
  {
   "cell_type": "code",
   "execution_count": 37,
   "id": "9b5f333f-25fa-43b4-ab4c-7bd31b139cd7",
   "metadata": {},
   "outputs": [
    {
     "data": {
      "text/plain": [
       "count\n",
       "1    0.997241\n",
       "2    0.002759\n",
       "Name: proportion, dtype: float64"
      ]
     },
     "execution_count": 37,
     "metadata": {},
     "output_type": "execute_result"
    }
   ],
   "source": [
    "t = flanking_seqs['read_name'].value_counts()\n",
    "t.value_counts(normalize=True)"
   ]
  },
  {
   "cell_type": "code",
   "execution_count": 38,
   "id": "1cdd1c60-95d2-4f99-b744-a33685a54830",
   "metadata": {},
   "outputs": [
    {
     "name": "stdout",
     "output_type": "stream",
     "text": [
      "\n",
      "adapter                 flanking_sequence       \n",
      "TTCTGTTGGTGCTGATATTGC   GGCGTCTGCTTGGGTGTTTAACCT    2759\n",
      "ACTTGCCTGTCGCTCTATCTTC  GGCGTCTGCTTGGGTGTTTAACCT    2592\n",
      "TTCTGTTGGTGCTGATATTGC   GGTGCTGAACAACCGAACCTTTGA     111\n",
      "ACTTGCCTGTCGCTCTATCTTC  AGCATATGCTTGGGTGTTTAACCT      83\n",
      "TTCTGTTGGTGCTGATATTGC   AGCATATGCTTGGGTGTTTAACCT      80\n",
      "                                                    ... \n",
      "                        AGCATATGCTGGGTGTTTAACCTA       1\n",
      "                        AGCATATGCTGGGTGTTTAACCTT       1\n",
      "                        AGCATATGCTTGGGTGCTTAACCT       1\n",
      "                        AGCATATGCTTGGGTGTTTAAACC       1\n",
      "                        TGTGCTGTGGAAGATGAGACCCTG       1\n",
      "Name: count, Length: 713, dtype: int64\n"
     ]
    }
   ],
   "source": [
    "print()\n",
    "print(flanking_seqs[['adapter', 'flanking_sequence']].value_counts())"
   ]
  },
  {
   "cell_type": "markdown",
   "id": "227bd649-fe50-449e-8b2a-132127a276be",
   "metadata": {},
   "source": [
    "# align some sequence"
   ]
  },
  {
   "cell_type": "code",
   "execution_count": 44,
   "id": "fd684462-daee-40ae-822c-dc8359a47cc8",
   "metadata": {},
   "outputs": [
    {
     "name": "stdout",
     "output_type": "stream",
     "text": [
      "done\n"
     ]
    }
   ],
   "source": [
    "ref_path = \"/scratch/indikar_root/indikar1/cstansbu/scpc_test/references/GRCm39.fa\"\n",
    "a = mp.Aligner(ref_path)\n",
    "print('done')"
   ]
  },
  {
   "cell_type": "code",
   "execution_count": 54,
   "id": "a707ec3a-12e7-48d5-9262-df2fddc0f150",
   "metadata": {},
   "outputs": [
    {
     "data": {
      "text/html": [
       "<div>\n",
       "<style scoped>\n",
       "    .dataframe tbody tr th:only-of-type {\n",
       "        vertical-align: middle;\n",
       "    }\n",
       "\n",
       "    .dataframe tbody tr th {\n",
       "        vertical-align: top;\n",
       "    }\n",
       "\n",
       "    .dataframe thead th {\n",
       "        text-align: right;\n",
       "    }\n",
       "</style>\n",
       "<table border=\"1\" class=\"dataframe\">\n",
       "  <thead>\n",
       "    <tr style=\"text-align: right;\">\n",
       "      <th></th>\n",
       "      <th>read_name</th>\n",
       "      <th>adapter</th>\n",
       "      <th>read_start_pos</th>\n",
       "      <th>chrom</th>\n",
       "      <th>ref_start</th>\n",
       "      <th>mapq</th>\n",
       "      <th>is_primary</th>\n",
       "    </tr>\n",
       "  </thead>\n",
       "  <tbody>\n",
       "    <tr>\n",
       "      <th>0</th>\n",
       "      <td>2a2a0067-90d8-480d-b863-6ec4097df341</td>\n",
       "      <td>ACTTGCCTGTCGCTCTATCTTC</td>\n",
       "      <td>116</td>\n",
       "      <td>4</td>\n",
       "      <td>106565530</td>\n",
       "      <td>60</td>\n",
       "      <td>True</td>\n",
       "    </tr>\n",
       "    <tr>\n",
       "      <th>1</th>\n",
       "      <td>a830eca5-7897-4d18-95cf-0014429e2751</td>\n",
       "      <td>ACTTGCCTGTCGCTCTATCTTC</td>\n",
       "      <td>119</td>\n",
       "      <td>11</td>\n",
       "      <td>72604180</td>\n",
       "      <td>60</td>\n",
       "      <td>True</td>\n",
       "    </tr>\n",
       "    <tr>\n",
       "      <th>2</th>\n",
       "      <td>a830eca5-7897-4d18-95cf-0014429e2751</td>\n",
       "      <td>ACTTGCCTGTCGCTCTATCTTC</td>\n",
       "      <td>119</td>\n",
       "      <td>2</td>\n",
       "      <td>98497393</td>\n",
       "      <td>4</td>\n",
       "      <td>True</td>\n",
       "    </tr>\n",
       "    <tr>\n",
       "      <th>3</th>\n",
       "      <td>a830eca5-7897-4d18-95cf-0014429e2751</td>\n",
       "      <td>ACTTGCCTGTCGCTCTATCTTC</td>\n",
       "      <td>119</td>\n",
       "      <td>2</td>\n",
       "      <td>98496908</td>\n",
       "      <td>0</td>\n",
       "      <td>False</td>\n",
       "    </tr>\n",
       "    <tr>\n",
       "      <th>4</th>\n",
       "      <td>a830eca5-7897-4d18-95cf-0014429e2751</td>\n",
       "      <td>ACTTGCCTGTCGCTCTATCTTC</td>\n",
       "      <td>119</td>\n",
       "      <td>14</td>\n",
       "      <td>3052659</td>\n",
       "      <td>0</td>\n",
       "      <td>False</td>\n",
       "    </tr>\n",
       "  </tbody>\n",
       "</table>\n",
       "</div>"
      ],
      "text/plain": [
       "                              read_name                 adapter  \\\n",
       "0  2a2a0067-90d8-480d-b863-6ec4097df341  ACTTGCCTGTCGCTCTATCTTC   \n",
       "1  a830eca5-7897-4d18-95cf-0014429e2751  ACTTGCCTGTCGCTCTATCTTC   \n",
       "2  a830eca5-7897-4d18-95cf-0014429e2751  ACTTGCCTGTCGCTCTATCTTC   \n",
       "3  a830eca5-7897-4d18-95cf-0014429e2751  ACTTGCCTGTCGCTCTATCTTC   \n",
       "4  a830eca5-7897-4d18-95cf-0014429e2751  ACTTGCCTGTCGCTCTATCTTC   \n",
       "\n",
       "   read_start_pos chrom  ref_start  mapq  is_primary  \n",
       "0             116     4  106565530    60        True  \n",
       "1             119    11   72604180    60        True  \n",
       "2             119     2   98497393     4        True  \n",
       "3             119     2   98496908     0       False  \n",
       "4             119    14    3052659     0       False  "
      ]
     },
     "execution_count": 54,
     "metadata": {},
     "output_type": "execute_result"
    }
   ],
   "source": [
    "buffer = 250\n",
    "\n",
    "res = []\n",
    "for idx, row in flanking_seqs.iterrows():\n",
    "    start_pos = row['end_pos'] # position where search sequence ends and mouse should begin\n",
    "    seq = row['seq']\n",
    "\n",
    "    search_seq = seq[start_pos:start_pos+buffer]\n",
    "\n",
    "    for hit in a.map(search_seq): # traverse alignments\n",
    "        map_row = {\n",
    "            'read_name' : row['read_name'],\n",
    "            'adapter' : row['adapter'],\n",
    "            'read_start_pos' : start_pos,\n",
    "            'chrom' : hit.ctg,\n",
    "            'ref_start' : hit.r_st,\n",
    "            'mapq' : hit.mapq,\n",
    "            'is_primary' : hit.is_primary\n",
    "        }\n",
    "\n",
    "        res.append(map_row)\n",
    "        \n",
    "res = pd.DataFrame(res)\n",
    "res.head()"
   ]
  },
  {
   "cell_type": "code",
   "execution_count": 57,
   "id": "18b5ac2d-ad9d-4b18-9ce0-99ab53225776",
   "metadata": {},
   "outputs": [
    {
     "name": "stdout",
     "output_type": "stream",
     "text": [
      "7249\n",
      "\n",
      "6695\n",
      "\n",
      "5418\n"
     ]
    }
   ],
   "source": [
    "print(flanking_seqs['read_name'].nunique())\n",
    "print()\n",
    "print(res['read_name'].nunique())\n",
    "t = res[res['mapq'] > 55]\n",
    "print()\n",
    "print(t['read_name'].nunique())"
   ]
  },
  {
   "cell_type": "code",
   "execution_count": 59,
   "id": "c938d700-1fad-49fa-951b-0f860ec814c0",
   "metadata": {},
   "outputs": [
    {
     "data": {
      "text/plain": [
       "0.7474134363360464"
      ]
     },
     "execution_count": 59,
     "metadata": {},
     "output_type": "execute_result"
    }
   ],
   "source": [
    "5418/ 7249"
   ]
  },
  {
   "cell_type": "code",
   "execution_count": null,
   "id": "fdf1867b-8bb2-4891-89cb-4cd1f5fab1d1",
   "metadata": {},
   "outputs": [],
   "source": []
  },
  {
   "cell_type": "code",
   "execution_count": null,
   "id": "bed85804-7117-4ffb-9d8e-20bf5dc29a55",
   "metadata": {},
   "outputs": [],
   "source": []
  }
 ],
 "metadata": {
  "kernelspec": {
   "display_name": "Python 3 (ipykernel)",
   "language": "python",
   "name": "python3"
  },
  "language_info": {
   "codemirror_mode": {
    "name": "ipython",
    "version": 3
   },
   "file_extension": ".py",
   "mimetype": "text/x-python",
   "name": "python",
   "nbconvert_exporter": "python",
   "pygments_lexer": "ipython3",
   "version": "3.9.7"
  }
 },
 "nbformat": 4,
 "nbformat_minor": 5
}
