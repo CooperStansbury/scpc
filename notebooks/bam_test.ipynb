{
 "cells": [
  {
   "cell_type": "code",
   "execution_count": 1,
   "id": "05791af8-a0ba-4c22-80ef-85dfde15b2eb",
   "metadata": {},
   "outputs": [],
   "source": [
    "import pysam \n",
    "import pandas as pd"
   ]
  },
  {
   "cell_type": "code",
   "execution_count": 6,
   "id": "0b6f893d-3ed2-42b0-8033-f77c7efa7b28",
   "metadata": {},
   "outputs": [
    {
     "name": "stdout",
     "output_type": "stream",
     "text": [
      "['__class__', '__copy__', '__deepcopy__', '__delattr__', '__dir__', '__doc__', '__eq__', '__format__', '__ge__', '__getattribute__', '__gt__', '__hash__', '__init__', '__init_subclass__', '__le__', '__lt__', '__ne__', '__new__', '__pyx_vtable__', '__reduce__', '__reduce_ex__', '__repr__', '__setattr__', '__setstate__', '__sizeof__', '__str__', '__subclasshook__', 'aend', 'alen', 'aligned_pairs', 'bin', 'blocks', 'cigar', 'cigarstring', 'cigartuples', 'compare', 'flag', 'from_dict', 'fromstring', 'get_aligned_pairs', 'get_blocks', 'get_cigar_stats', 'get_forward_qualities', 'get_forward_sequence', 'get_overlap', 'get_reference_positions', 'get_reference_sequence', 'get_tag', 'get_tags', 'has_tag', 'header', 'infer_query_length', 'infer_read_length', 'inferred_length', 'is_duplicate', 'is_forward', 'is_mapped', 'is_paired', 'is_proper_pair', 'is_qcfail', 'is_read1', 'is_read2', 'is_reverse', 'is_secondary', 'is_supplementary', 'is_unmapped', 'isize', 'mapping_quality', 'mapq', 'mate_is_forward', 'mate_is_mapped', 'mate_is_reverse', 'mate_is_unmapped', 'modified_bases', 'modified_bases_forward', 'mpos', 'mrnm', 'next_reference_id', 'next_reference_name', 'next_reference_start', 'opt', 'overlap', 'pnext', 'pos', 'positions', 'qend', 'qlen', 'qname', 'qqual', 'qstart', 'qual', 'query', 'query_alignment_end', 'query_alignment_length', 'query_alignment_qualities', 'query_alignment_sequence', 'query_alignment_start', 'query_length', 'query_name', 'query_qualities', 'query_sequence', 'reference_end', 'reference_id', 'reference_length', 'reference_name', 'reference_start', 'rlen', 'rname', 'rnext', 'seq', 'setTag', 'set_tag', 'set_tags', 'tags', 'template_length', 'tid', 'tlen', 'to_dict', 'to_string', 'tostring']\n"
     ]
    }
   ],
   "source": [
    "fpath = \"/scratch/indikar_root/indikar1/cstansbu/scpc_test/minimap2/b01.GRCm39.raw.bam\"\n",
    "\n",
    "bamfile = pysam.AlignmentFile(fpath, \"rb\")\n",
    "\n",
    "\n",
    "for rec in bamfile.fetch('2'):\n",
    "    print(dir(rec))\n",
    "    break\n"
   ]
  },
  {
   "cell_type": "code",
   "execution_count": 7,
   "id": "8551e3f2-6bd4-4372-9dc0-0735f1c138bc",
   "metadata": {},
   "outputs": [
    {
     "data": {
      "text/plain": [
       "{'name': '1f1f7b0b-a9b8-4947-9534-c075ab047303',\n",
       " 'flag': '2048',\n",
       " 'ref_name': '2',\n",
       " 'ref_pos': '3729873',\n",
       " 'map_quality': '60',\n",
       " 'cigar': '273H158M1380H',\n",
       " 'next_ref_name': '*',\n",
       " 'next_ref_pos': '0',\n",
       " 'length': '0',\n",
       " 'seq': 'CATGAATCGAGAAAATGTCCTGCCAGGCAGTGGTGGCATATGCCTTTAATCCCAGCACTTGGGAGGCAGAGGCAGGCGGAATTCTGAGTTCAAGGCCAGCCTGGTCTACAGAGTGAGTTCCCTAACAGCCAGGGCTACACAGAAAAACCCTGCCATGA',\n",
       " 'qual': '9GD>>?>=1////7:877777=FIJFQHGNLKHSEKGJGCHHJFKFIDCDDHSLISHFINFIIFKMHIKDHKDEIDDCEIIJMNIABBBBGSSIJIMOINKSJKJHOEEJFGIGMHLGRNHGGHHJESHSLFJSGFEHEECHBCDFLSLIIGSIFDEC',\n",
       " 'tags': ['NM:i:1',\n",
       "  'ms:i:310',\n",
       "  'AS:i:310',\n",
       "  'nn:i:0',\n",
       "  'tp:A:P',\n",
       "  'cm:i:9',\n",
       "  's1:i:77',\n",
       "  's2:i:0',\n",
       "  'de:f:0.0063',\n",
       "  'SA:Z:6,48074450,+,660S273M1I877S,60,1;18,23901608,-,609S275M927S,60,4;2,98496909,-,1147S239M425S,2,9;14,121376007,+,159S118M1534S,60,2;',\n",
       "  'rl:i:118']}"
      ]
     },
     "execution_count": 7,
     "metadata": {},
     "output_type": "execute_result"
    }
   ],
   "source": [
    "rec.to_dict()"
   ]
  },
  {
   "cell_type": "code",
   "execution_count": null,
   "id": "0dd46f6d-2ff4-4c60-9b29-95175b9ef7b1",
   "metadata": {},
   "outputs": [],
   "source": []
  }
 ],
 "metadata": {
  "kernelspec": {
   "display_name": "Python 3 (ipykernel)",
   "language": "python",
   "name": "python3"
  },
  "language_info": {
   "codemirror_mode": {
    "name": "ipython",
    "version": 3
   },
   "file_extension": ".py",
   "mimetype": "text/x-python",
   "name": "python",
   "nbconvert_exporter": "python",
   "pygments_lexer": "ipython3",
   "version": "3.9.7"
  }
 },
 "nbformat": 4,
 "nbformat_minor": 5
}
