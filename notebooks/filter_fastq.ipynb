{
 "cells": [
  {
   "cell_type": "code",
   "execution_count": 1,
   "id": "791631da-48fb-4a84-a99d-91c524412c04",
   "metadata": {},
   "outputs": [],
   "source": [
    "import sys\n",
    "import re\n",
    "import os\n",
    "import numpy as np\n",
    "import pandas as pd\n",
    "import pysam\n",
    "from Bio.Seq import Seq\n",
    "from Bio import Restriction\n",
    "from Bio import SeqIO"
   ]
  },
  {
   "cell_type": "code",
   "execution_count": 50,
   "id": "f1298498-fd6f-440a-86ca-1020f5de7352",
   "metadata": {},
   "outputs": [
    {
     "data": {
      "text/html": [
       "<div>\n",
       "<style scoped>\n",
       "    .dataframe tbody tr th:only-of-type {\n",
       "        vertical-align: middle;\n",
       "    }\n",
       "\n",
       "    .dataframe tbody tr th {\n",
       "        vertical-align: top;\n",
       "    }\n",
       "\n",
       "    .dataframe thead th {\n",
       "        text-align: right;\n",
       "    }\n",
       "</style>\n",
       "<table border=\"1\" class=\"dataframe\">\n",
       "  <thead>\n",
       "    <tr style=\"text-align: right;\">\n",
       "      <th></th>\n",
       "      <th>read_name</th>\n",
       "      <th>seq_length</th>\n",
       "      <th>n_enzymes</th>\n",
       "      <th>enzyme_sites</th>\n",
       "      <th>n_barcode_forward</th>\n",
       "      <th>forward_sites</th>\n",
       "      <th>n_barcode_reverse_comp</th>\n",
       "      <th>reverse_comp_sites</th>\n",
       "      <th>mean_base_quality</th>\n",
       "      <th>median_base_quality</th>\n",
       "      <th>min_base_quality</th>\n",
       "      <th>max_base_quality</th>\n",
       "    </tr>\n",
       "  </thead>\n",
       "  <tbody>\n",
       "    <tr>\n",
       "      <th>0</th>\n",
       "      <td>d2e216fe-c419-430d-9db0-fe09922fdc83</td>\n",
       "      <td>532</td>\n",
       "      <td>0</td>\n",
       "      <td>-1</td>\n",
       "      <td>5</td>\n",
       "      <td>103;162;221;397;456</td>\n",
       "      <td>0</td>\n",
       "      <td>-1</td>\n",
       "      <td>36</td>\n",
       "      <td>41</td>\n",
       "      <td>2</td>\n",
       "      <td>50</td>\n",
       "    </tr>\n",
       "    <tr>\n",
       "      <th>1</th>\n",
       "      <td>69df1420-7e2b-43b4-b44d-a2fc93f85617</td>\n",
       "      <td>518</td>\n",
       "      <td>0</td>\n",
       "      <td>-1</td>\n",
       "      <td>4</td>\n",
       "      <td>42;101;283;401</td>\n",
       "      <td>0</td>\n",
       "      <td>-1</td>\n",
       "      <td>34</td>\n",
       "      <td>40</td>\n",
       "      <td>2</td>\n",
       "      <td>50</td>\n",
       "    </tr>\n",
       "    <tr>\n",
       "      <th>2</th>\n",
       "      <td>fe7ece18-4bef-42ae-b7ef-e1f4ceeceba0</td>\n",
       "      <td>577</td>\n",
       "      <td>1</td>\n",
       "      <td>13</td>\n",
       "      <td>2</td>\n",
       "      <td>342;401</td>\n",
       "      <td>0</td>\n",
       "      <td>-1</td>\n",
       "      <td>13</td>\n",
       "      <td>11</td>\n",
       "      <td>3</td>\n",
       "      <td>41</td>\n",
       "    </tr>\n",
       "    <tr>\n",
       "      <th>3</th>\n",
       "      <td>4fbae019-2d11-48a5-9747-c06a9c890ee4</td>\n",
       "      <td>492</td>\n",
       "      <td>0</td>\n",
       "      <td>-1</td>\n",
       "      <td>0</td>\n",
       "      <td>-1</td>\n",
       "      <td>4</td>\n",
       "      <td>148;229;310;367</td>\n",
       "      <td>34</td>\n",
       "      <td>39</td>\n",
       "      <td>3</td>\n",
       "      <td>50</td>\n",
       "    </tr>\n",
       "    <tr>\n",
       "      <th>4</th>\n",
       "      <td>7e329a6b-4628-4d4d-8c02-61d80a3999dd</td>\n",
       "      <td>1158</td>\n",
       "      <td>0</td>\n",
       "      <td>-1</td>\n",
       "      <td>6</td>\n",
       "      <td>58;115;177;305;426;485</td>\n",
       "      <td>0</td>\n",
       "      <td>-1</td>\n",
       "      <td>36</td>\n",
       "      <td>41</td>\n",
       "      <td>2</td>\n",
       "      <td>50</td>\n",
       "    </tr>\n",
       "  </tbody>\n",
       "</table>\n",
       "</div>"
      ],
      "text/plain": [
       "                              read_name  seq_length  n_enzymes enzyme_sites  \\\n",
       "0  d2e216fe-c419-430d-9db0-fe09922fdc83         532          0           -1   \n",
       "1  69df1420-7e2b-43b4-b44d-a2fc93f85617         518          0           -1   \n",
       "2  fe7ece18-4bef-42ae-b7ef-e1f4ceeceba0         577          1           13   \n",
       "3  4fbae019-2d11-48a5-9747-c06a9c890ee4         492          0           -1   \n",
       "4  7e329a6b-4628-4d4d-8c02-61d80a3999dd        1158          0           -1   \n",
       "\n",
       "   n_barcode_forward           forward_sites  n_barcode_reverse_comp  \\\n",
       "0                  5     103;162;221;397;456                       0   \n",
       "1                  4          42;101;283;401                       0   \n",
       "2                  2                 342;401                       0   \n",
       "3                  0                      -1                       4   \n",
       "4                  6  58;115;177;305;426;485                       0   \n",
       "\n",
       "  reverse_comp_sites  mean_base_quality  median_base_quality  \\\n",
       "0                 -1                 36                   41   \n",
       "1                 -1                 34                   40   \n",
       "2                 -1                 13                   11   \n",
       "3    148;229;310;367                 34                   39   \n",
       "4                 -1                 36                   41   \n",
       "\n",
       "   min_base_quality  max_base_quality  \n",
       "0                 2                50  \n",
       "1                 2                50  \n",
       "2                 3                41  \n",
       "3                 3                50  \n",
       "4                 2                50  "
      ]
     },
     "execution_count": 50,
     "metadata": {},
     "output_type": "execute_result"
    }
   ],
   "source": [
    "def parse_fastq(fpath, rb, barcode, barcode_rc):\n",
    "    \"\"\"a function to parse a fastq file \"\"\"\n",
    "    res = []\n",
    "    for read in pysam.FastxFile(fpath):\n",
    "        read_seq = read.sequence\n",
    "        \n",
    "        # look for restriction sites\n",
    "        search_results = rb.search(Seq(read_seq))\n",
    "        sites = list(search_results.values())[0]\n",
    "        n_sites = len(sites)\n",
    "        if n_sites == 0:\n",
    "            sites = [-1]\n",
    "\n",
    "        # barcode searching\n",
    "        n_barcode_forward = read_seq.count(barcode)\n",
    "        n_barcode_reverse_comp = read_seq.count(barcode_rc)\n",
    "\n",
    "        forward_sites = [-1]\n",
    "        if n_barcode_forward > 0:\n",
    "            forward_sites = [m.start() for m in re.finditer(barcode, read_seq)]\n",
    "\n",
    "        reverse_comp_sites = [-1]\n",
    "        if n_barcode_reverse_comp > 0:\n",
    "            reverse_comp_sites = [m.start() for m in re.finditer(barcode_rc, read_seq)]\n",
    "\n",
    "        # get the base call qualities\n",
    "        quals = read.get_quality_array()\n",
    "        row = {\n",
    "            'read_name' : read.name,\n",
    "            'seq_length' : len(read_seq),\n",
    "            'n_enzymes' : n_sites,\n",
    "            'enzyme_sites' : \";\".join([str(x) for x in sites]),\n",
    "            'n_barcode_forward' : n_barcode_forward,\n",
    "            'forward_sites' : \";\".join([str(x) for x in forward_sites]),\n",
    "            'n_barcode_reverse_comp' : n_barcode_reverse_comp,\n",
    "            'reverse_comp_sites' : \";\".join([str(x) for x in reverse_comp_sites]),\n",
    "            'mean_base_quality' : int(np.mean(quals)),\n",
    "            'median_base_quality' : int(np.median(quals)),\n",
    "            'min_base_quality' : np.min(quals),\n",
    "            'max_base_quality' : np.max(quals),\n",
    "        }\n",
    "        res.append(row)\n",
    "    return pd.DataFrame(res)\n",
    "\n",
    "\n",
    "fastq_path = \"/scratch/indikar_root/indikar1/cstansbu/scpc_test/fastq/b01.raw.fastq\"\n",
    "barcode_path = \"../config/barcodes.txt\"\n",
    "enzyme = 'NlaIII'\n",
    "\n",
    "# set up restriction enzyme\n",
    "rb = Restriction.RestrictionBatch([enzyme])\n",
    "\n",
    "# set up get barcodes\n",
    "barcode_id = os.path.basename(fastq_path).split(\".\")[0]\n",
    "code_df = pd.read_csv(barcode_path)\n",
    "barcode = code_df[code_df['cell_id'] == barcode_id]['barcode'].values[0]\n",
    "barcode_rc = str(Seq(barcode).reverse_complement())\n",
    "\n",
    "df = parse_fastq(fastq_path, rb, barcode, barcode_rc)\n",
    "df.head()"
   ]
  },
  {
   "cell_type": "code",
   "execution_count": 30,
   "id": "aa1d6ab7-765e-4ae9-9580-721e807c1ffd",
   "metadata": {},
   "outputs": [
    {
     "data": {
      "text/plain": [
       "0"
      ]
     },
     "execution_count": 30,
     "metadata": {},
     "output_type": "execute_result"
    }
   ],
   "source": []
  },
  {
   "cell_type": "code",
   "execution_count": 3,
   "id": "ed8ed47e-1e49-42c9-bd89-edab66bc6814",
   "metadata": {},
   "outputs": [
    {
     "ename": "SyntaxError",
     "evalue": "'break' outside loop (668683560.py, line 1)",
     "output_type": "error",
     "traceback": [
      "\u001b[0;36m  Cell \u001b[0;32mIn[3], line 1\u001b[0;36m\u001b[0m\n\u001b[0;31m    break\u001b[0m\n\u001b[0m    ^\u001b[0m\n\u001b[0;31mSyntaxError\u001b[0m\u001b[0;31m:\u001b[0m 'break' outside loop\n"
     ]
    }
   ],
   "source": [
    "break"
   ]
  },
  {
   "cell_type": "code",
   "execution_count": null,
   "id": "cc763c56-9370-4e67-a903-14ae0d090fd7",
   "metadata": {},
   "outputs": [],
   "source": [
    "rb = Restriction.RestrictionBatch([enzyme])"
   ]
  },
  {
   "cell_type": "code",
   "execution_count": null,
   "id": "e6a6512f-3578-45a9-974f-0ddae2a53d59",
   "metadata": {},
   "outputs": [],
   "source": []
  },
  {
   "cell_type": "code",
   "execution_count": null,
   "id": "c9c05203-6b49-4846-a855-f5af1d5c4398",
   "metadata": {},
   "outputs": [],
   "source": []
  },
  {
   "cell_type": "code",
   "execution_count": null,
   "id": "d24ddd3f-ee05-4291-ae9e-454e94952eac",
   "metadata": {},
   "outputs": [],
   "source": [
    "break"
   ]
  },
  {
   "cell_type": "code",
   "execution_count": null,
   "id": "c618be6f-7525-4feb-b968-9c0470ad8d1e",
   "metadata": {},
   "outputs": [],
   "source": [
    "# load ont_barcodes\n",
    "fpath = \"../resources/ONT_barcode_96_sequences.csv\"\n",
    "df = pd.read_csv(fpath)\n",
    "codes = dict(zip(df.Barcode.values, df.Sequence.values))\n",
    "df.head()"
   ]
  },
  {
   "cell_type": "code",
   "execution_count": null,
   "id": "67e45a66-d71b-41e2-9a38-6d03fa9fd7f4",
   "metadata": {},
   "outputs": [],
   "source": [
    "# for _, record in res.sample(40).iterrows():\n",
    "#     barcode = record['barcode']\n",
    "#     read_name = record['read_name']\n",
    "#     ont_seq = codes[barcode]\n",
    "#     read_seq = record['sequence']\n",
    "#     seq_len = record[\"seq_length\"]\n",
    "#     n_NlaIII = record[\"n_NlaIII\"]\n",
    "\n",
    "#     rev_comp = str(Seq(barcode).reverse_complement())\n",
    "\n",
    "#     has_code = ont_seq in read_seq\n",
    "#     has_code_rev = rev_comp in read_seq\n",
    "#     print(f\"{barcode=} {n_NlaIII=} {seq_len=} {has_code=}\")"
   ]
  },
  {
   "cell_type": "code",
   "execution_count": null,
   "id": "635bfa08-fcb6-4db6-9c2d-edc7bb8c5bf0",
   "metadata": {},
   "outputs": [],
   "source": [
    "df = []\n",
    "\n",
    "for _, record in res.iterrows():\n",
    "    barcode = record['barcode']\n",
    "    read_name = record['read_name']\n",
    "    ont_seq = codes[barcode]\n",
    "    read_seq = record['sequence']\n",
    "    seq_len = record[\"seq_length\"]\n",
    "    n_NlaIII = record[\"n_NlaIII\"]\n",
    "\n",
    "    hits = read_seq.count(ont_seq)\n",
    "    hits_rc = read_seq.count(str(Seq(ont_seq).reverse_complement()))\n",
    "\n",
    "    row = {\n",
    "        'run' : record['run'],\n",
    "        'read_name' : read_name,\n",
    "        'barcode' : barcode,\n",
    "        'seq_len' : seq_len,\n",
    "        'n_NlaIII' : n_NlaIII,\n",
    "        'n_barcodes' : hits,\n",
    "        'n_barcodes_rc' : hits_rc,\n",
    "        'mean_base_quality' : record['mean_base_quality'],\n",
    "    }\n",
    "\n",
    "    df.append(row)\n",
    "\n",
    "df  = pd.DataFrame(df)\n",
    "df.head()\n"
   ]
  },
  {
   "cell_type": "markdown",
   "id": "ecd2dff4-a87e-4a64-8296-ae0f993a37ae",
   "metadata": {},
   "source": [
    "# count NlaIII sites"
   ]
  },
  {
   "cell_type": "code",
   "execution_count": null,
   "id": "93ab6f2a-13b4-4696-b513-9d1081331164",
   "metadata": {},
   "outputs": [],
   "source": [
    "df['ord'] = np.where(df['n_NlaIII'] == 0, 'none', 'higher')\n",
    "df['ord'] = np.where(df['n_NlaIII'] == 1, 'pair', df['ord'] )\n",
    "df['ord'].value_counts(normalize=True)"
   ]
  },
  {
   "cell_type": "markdown",
   "id": "6c852518-3bc7-4062-a51f-3b3e0fa17243",
   "metadata": {},
   "source": [
    "# count barcodes"
   ]
  },
  {
   "cell_type": "code",
   "execution_count": null,
   "id": "446bf17a-0243-4878-bfb0-79ba241560a8",
   "metadata": {},
   "outputs": [],
   "source": [
    "df['cat'] = np.where(df['n_barcodes'] == 1, 'one', 'none')\n",
    "df['cat'] = np.where(df['n_barcodes'] > 1, 'mulitple', df['cat'])\n",
    "\n",
    "print(df.shape)\n",
    "print(df['barcode'].nunique())\n",
    "df['cat'].value_counts(normalize=True)"
   ]
  },
  {
   "cell_type": "code",
   "execution_count": null,
   "id": "12de30bc-571d-420c-a82d-f74e80cb9f76",
   "metadata": {},
   "outputs": [],
   "source": [
    "df['cat_rc'] = np.where(df['n_barcodes_rc'] == 1, 'one', 'none')\n",
    "df['cat_rc'] = np.where(df['n_barcodes_rc'] > 1, 'mulitple', df['cat_rc'])\n",
    "\n",
    "print(df.shape)\n",
    "print(df['barcode'].nunique())\n",
    "df['cat_rc'].value_counts(normalize=True)"
   ]
  },
  {
   "cell_type": "code",
   "execution_count": null,
   "id": "e461fd06-a2dc-4037-ac0f-f41415461dfb",
   "metadata": {},
   "outputs": [],
   "source": [
    "plt.rcParams['figure.figsize'] = 5, 3\n",
    "plt.rcParams['figure.dpi'] = 200\n",
    "\n",
    "M = pd.crosstab(df['cat'], df['ord'], normalize=True)\n",
    "print(M)\n",
    "sns.heatmap(M, annot=True,  fmt=\".2f\", lw=1, cbar=False)"
   ]
  },
  {
   "cell_type": "code",
   "execution_count": null,
   "id": "3b3d9d74-1ee9-4d21-a42b-4c1286bdf287",
   "metadata": {},
   "outputs": [],
   "source": [
    "plt.rcParams['figure.figsize'] = 5, 3\n",
    "plt.rcParams['figure.dpi'] = 200\n",
    "\n",
    "M = pd.crosstab(df['cat_rc'], df['ord'], normalize=True)\n",
    "print(M)\n",
    "sns.heatmap(M, annot=True,  fmt=\".2f\", lw=1, cbar=False)"
   ]
  },
  {
   "cell_type": "code",
   "execution_count": null,
   "id": "68b7e084-2abe-46fe-8eb0-9eda1482216f",
   "metadata": {},
   "outputs": [],
   "source": [
    "plt.rcParams['figure.figsize'] = 5, 3\n",
    "plt.rcParams['figure.dpi'] = 200\n",
    "\n",
    "M = pd.crosstab(df['cat'], df['cat_rc'], normalize=True)\n",
    "print(M)\n",
    "sns.heatmap(M, annot=True,  fmt=\".2f\", lw=1, cbar=False)"
   ]
  },
  {
   "cell_type": "markdown",
   "id": "e68fda3a-aa0c-41ec-8e0a-680abc46011e",
   "metadata": {},
   "source": [
    "# number of reads with exactly one barcode (RC + forward)"
   ]
  },
  {
   "cell_type": "code",
   "execution_count": null,
   "id": "f6f73682-809f-40ad-a645-8bb3053dab09",
   "metadata": {},
   "outputs": [],
   "source": [
    "test = df[df['n_barcodes'].isin([0, 1])]\n",
    "test = test[test['n_barcodes_rc'].isin([0, 1])]\n",
    "\n",
    "test = test[(test['n_barcodes'] != 0) & (test['n_barcodes_rc'] != 0)]\n",
    "\n",
    "print(f\"{test.shape=}\")\n",
    "print(test['ord'].value_counts(normalize=True))\n",
    "\n",
    "test.head()"
   ]
  },
  {
   "cell_type": "code",
   "execution_count": null,
   "id": "4e64b1fc-c78a-47eb-ba9f-1651193688c5",
   "metadata": {},
   "outputs": [],
   "source": [
    "plt.rcParams['figure.figsize'] = 8, 2.5\n",
    "plt.rcParams['figure.dpi'] = 200\n",
    "\n",
    "sns.boxplot(data=df, \n",
    "                x='n_barcodes',\n",
    "                y='mean_base_quality',\n",
    "                showfliers=False)\n",
    "\n",
    "plt.show()"
   ]
  },
  {
   "cell_type": "code",
   "execution_count": null,
   "id": "24f4350b-7825-453b-851f-f181159c20a8",
   "metadata": {},
   "outputs": [],
   "source": [
    "plt.rcParams['figure.figsize'] = 8, 2.5\n",
    "plt.rcParams['figure.dpi'] = 200\n",
    "\n",
    "sns.boxplot(data=df, \n",
    "                x='n_barcodes',\n",
    "                y='seq_len',\n",
    "                showfliers=False)\n",
    "plt.show()"
   ]
  },
  {
   "cell_type": "code",
   "execution_count": null,
   "id": "7f270bcf-978d-49e3-bca5-a1d161af79fb",
   "metadata": {},
   "outputs": [],
   "source": [
    "plt.rcParams['figure.figsize'] = 4, 3\n",
    "plt.rcParams['figure.dpi'] = 200\n",
    "\n",
    "sns.boxplot(data=df, \n",
    "                x='run',\n",
    "                y='n_barcodes')\n",
    "plt.show()"
   ]
  },
  {
   "cell_type": "code",
   "execution_count": null,
   "id": "d36f7a29-c426-46c8-86bd-d47933fbb26d",
   "metadata": {},
   "outputs": [],
   "source": [
    "plt.rcParams['figure.figsize'] = 8, 2.5\n",
    "plt.rcParams['figure.dpi'] = 200\n",
    "\n",
    "sns.boxplot(data=df,\n",
    "            x='barcode',\n",
    "            y='n_barcodes',\n",
    "            showfliers=False)\n",
    "\n",
    "plt.xticks([])\n",
    "plt.show()"
   ]
  },
  {
   "cell_type": "markdown",
   "id": "5eef2ce6-ee06-4a0a-adae-45286b83b00f",
   "metadata": {},
   "source": [
    "# multiple barcodes"
   ]
  },
  {
   "cell_type": "code",
   "execution_count": null,
   "id": "cca137e6-9617-4edf-a918-367d039803f6",
   "metadata": {},
   "outputs": [],
   "source": [
    "# let's look at a few extreme cases\n",
    "barcodes = df[df['n_barcodes'] > 15]['read_name'].unique()\n",
    "pdf = res[res['read_name'].isin(barcodes)]\n",
    "\n",
    "for _, record in pdf.head(10).iterrows():\n",
    "    print(\"===== \", record['run'], record['barcode'], \" =====\")\n",
    "    ont_seq = codes[record['barcode']]\n",
    "    ont_seq_rc = str(Seq(ont_seq).reverse_complement())\n",
    "    print('READ NAME: ', record['read_name'])\n",
    "    print('NUMBER NlaIII SITES: ', record['n_NlaIII'])\n",
    "    print('ONT BARCODE: ', ont_seq)\n",
    "    print('ONT BARCODE (RC): ', ont_seq_rc)\n",
    "\n",
    "    red_ont = f\"\\033[91m{ont_seq}\\033[0m\"\n",
    "    blue_ont = f\"\\033[94m{ont_seq_rc}\\033[0m\"\n",
    "    cutter = f\"\\033[92mCATG\\033[0m\"\n",
    "    highlighted_text = re.sub(ont_seq, red_ont, record['sequence'])\n",
    "    highlighted_text = re.sub(ont_seq_rc, blue_ont, highlighted_text)\n",
    "    highlighted_text = re.sub('CATG', cutter, highlighted_text)\n",
    "    print('READ SEQUENCE: ', highlighted_text)\n",
    "    print()"
   ]
  },
  {
   "cell_type": "markdown",
   "id": "8957522e-c1b8-401b-ba7d-7ca59b16dca5",
   "metadata": {},
   "source": [
    "# Extactly one forward barcode"
   ]
  },
  {
   "cell_type": "code",
   "execution_count": null,
   "id": "f7dfb0fd-ff02-4d81-bc69-d0c46b969406",
   "metadata": {},
   "outputs": [],
   "source": [
    "# let's look at a few extreme cases\n",
    "barcodes = df[(df['n_barcodes'] == 1) ]['read_name'].unique()\n",
    "pdf = res[res['read_name'].isin(barcodes)]\n",
    "\n",
    "\n",
    "for _, record in pdf.head(10).iterrows():\n",
    "    print(\"===== \", record['run'], record['barcode'], \" =====\")\n",
    "    ont_seq = codes[record['barcode']]\n",
    "    ont_seq_rc = str(Seq(ont_seq).reverse_complement())\n",
    "    print('READ NAME: ', record['read_name'])\n",
    "    print('NUMBER NlaIII SITES: ', record['n_NlaIII'])\n",
    "    print('ONT BARCODE: ', ont_seq)\n",
    "    print('ONT BARCODE (RC): ', ont_seq_rc)\n",
    "\n",
    "    red_ont = f\"\\033[91m{ont_seq}\\033[0m\"\n",
    "    blue_ont = f\"\\033[94m{ont_seq_rc}\\033[0m\"\n",
    "    cutter = f\"\\033[92mCATG\\033[0m\"\n",
    "    highlighted_text = re.sub(ont_seq, red_ont, record['sequence'])\n",
    "    highlighted_text = re.sub(ont_seq_rc, blue_ont, highlighted_text)\n",
    "    highlighted_text = re.sub('CATG', cutter, highlighted_text)\n",
    "    print('READ SEQUENCE: ', highlighted_text)\n",
    "    print()\n"
   ]
  },
  {
   "cell_type": "code",
   "execution_count": null,
   "id": "fe545fed-8c37-45b7-a6ef-4a5066460416",
   "metadata": {},
   "outputs": [],
   "source": [
    "# let's look at a few extreme cases\n",
    "barcodes = df[(df['n_barcodes_rc'] == 1) ]['read_name'].unique()\n",
    "pdf = res[res['read_name'].isin(barcodes)]\n",
    "\n",
    "\n",
    "for _, record in pdf.head(10).iterrows():\n",
    "    print(\"===== \", record['run'], record['barcode'], \" =====\")\n",
    "    ont_seq = codes[record['barcode']]\n",
    "    ont_seq_rc = str(Seq(ont_seq).reverse_complement())\n",
    "    print('READ NAME: ', record['read_name'])\n",
    "    print('NUMBER NlaIII SITES: ', record['n_NlaIII'])\n",
    "    print('ONT BARCODE: ', ont_seq)\n",
    "    print('ONT BARCODE (RC): ', ont_seq_rc)\n",
    "\n",
    "    red_ont = f\"\\033[91m{ont_seq}\\033[0m\"\n",
    "    blue_ont = f\"\\033[94m{ont_seq_rc}\\033[0m\"\n",
    "    cutter = f\"\\033[92mCATG\\033[0m\"\n",
    "    highlighted_text = re.sub(ont_seq, red_ont, record['sequence'])\n",
    "    highlighted_text = re.sub(ont_seq_rc, blue_ont, highlighted_text)\n",
    "    highlighted_text = re.sub('CATG', cutter, highlighted_text)\n",
    "    print('READ SEQUENCE: ', highlighted_text)\n",
    "    print()"
   ]
  },
  {
   "cell_type": "markdown",
   "id": "53db8942-5357-440a-856a-a190fd6832ff",
   "metadata": {},
   "source": [
    "# No forward barcodes, reverse only"
   ]
  },
  {
   "cell_type": "code",
   "execution_count": null,
   "id": "046614cb-5ac1-4cc0-b33a-7052f66fe5b3",
   "metadata": {},
   "outputs": [],
   "source": [
    "# let's look at a few extreme cases\n",
    "barcodes = df[(df['n_barcodes'] == 0) & (df['n_barcodes_rc'] == 1) ]['read_name'].unique()\n",
    "pdf = res[res['read_name'].isin(barcodes)]\n",
    "\n",
    "\n",
    "for _, record in pdf.head(10).iterrows():\n",
    "    print(\"===== \", record['run'], record['barcode'], \" =====\")\n",
    "    ont_seq = codes[record['barcode']]\n",
    "    ont_seq_rc = str(Seq(ont_seq).reverse_complement())\n",
    "    print('READ NAME: ', record['read_name'])\n",
    "    print('NUMBER NlaIII SITES: ', record['n_NlaIII'])\n",
    "    print('ONT BARCODE: ', ont_seq)\n",
    "    print('ONT BARCODE (RC): ', ont_seq_rc)\n",
    "\n",
    "    red_ont = f\"\\033[91m{ont_seq}\\033[0m\"\n",
    "    blue_ont = f\"\\033[94m{ont_seq_rc}\\033[0m\"\n",
    "    cutter = f\"\\033[92mCATG\\033[0m\"\n",
    "    highlighted_text = re.sub(ont_seq, red_ont, record['sequence'])\n",
    "    highlighted_text = re.sub(ont_seq_rc, blue_ont, highlighted_text)\n",
    "    highlighted_text = re.sub('CATG', cutter, highlighted_text)\n",
    "    print('READ SEQUENCE: ', highlighted_text)\n",
    "    print()\n"
   ]
  },
  {
   "cell_type": "code",
   "execution_count": null,
   "id": "fbd256fc-1a29-4b88-a7f0-f37b1ca891e5",
   "metadata": {},
   "outputs": [],
   "source": [
    "break"
   ]
  },
  {
   "cell_type": "code",
   "execution_count": null,
   "id": "b466e611-2677-4b2a-a5f4-c09be0f35515",
   "metadata": {},
   "outputs": [],
   "source": []
  },
  {
   "cell_type": "code",
   "execution_count": null,
   "id": "1b0cf771-3b23-49cb-9d32-216a392a5f2d",
   "metadata": {},
   "outputs": [],
   "source": []
  },
  {
   "cell_type": "code",
   "execution_count": null,
   "id": "82ed146c-5fe5-4d4e-abd4-c15c3ecdd7d9",
   "metadata": {},
   "outputs": [],
   "source": []
  },
  {
   "cell_type": "code",
   "execution_count": null,
   "id": "cc567b30-c7f7-4933-b3bc-86b06d9429ab",
   "metadata": {},
   "outputs": [],
   "source": [
    "# look for all barcodes in a few sequences\n",
    "for _, record in res.sample(100).iterrows():\n",
    "    read_seq = record['sequence']\n",
    "    barcode = record['barcode']\n",
    "    for bc, ont_seq in codes.items():\n",
    "        if ont_seq in read_seq:\n",
    "            print(f\"cell barcode: {barcode} found: {bc}\")"
   ]
  },
  {
   "cell_type": "code",
   "execution_count": null,
   "id": "23f4f5cf-674f-466a-a137-1c29e83812c2",
   "metadata": {},
   "outputs": [],
   "source": []
  }
 ],
 "metadata": {
  "kernelspec": {
   "display_name": "Python 3 (ipykernel)",
   "language": "python",
   "name": "python3"
  },
  "language_info": {
   "codemirror_mode": {
    "name": "ipython",
    "version": 3
   },
   "file_extension": ".py",
   "mimetype": "text/x-python",
   "name": "python",
   "nbconvert_exporter": "python",
   "pygments_lexer": "ipython3",
   "version": "3.9.7"
  }
 },
 "nbformat": 4,
 "nbformat_minor": 5
}
