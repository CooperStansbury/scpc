{
 "cells": [
  {
   "cell_type": "code",
   "execution_count": 1,
   "id": "e26f0bcc-a670-4b18-9396-c0754b74572a",
   "metadata": {},
   "outputs": [],
   "source": [
    "import sys\n",
    "import re\n",
    "import os\n",
    "import numpy as np\n",
    "import pandas as pd\n",
    "import pysam\n",
    "import matplotlib.pyplot as plt\n",
    "import seaborn as sns\n",
    "import pysam\n",
    "from Bio.Seq import Seq\n",
    "import gget\n",
    "import mappy as mp"
   ]
  },
  {
   "cell_type": "code",
   "execution_count": 2,
   "id": "e88eb8f2-63e4-4d24-a3ff-2e58d1d7e16f",
   "metadata": {},
   "outputs": [
    {
     "name": "stderr",
     "output_type": "stream",
     "text": [
      "[E::hts_open_format] Failed to open file \"/scratch/indikar_root/indikar1/cstansbu/scpc_test/merged_bam/b01.GRCm39.bam\" : No such file or directory\n"
     ]
    },
    {
     "ename": "FileNotFoundError",
     "evalue": "[Errno 2] could not open alignment file `/scratch/indikar_root/indikar1/cstansbu/scpc_test/merged_bam/b01.GRCm39.bam`: No such file or directory",
     "output_type": "error",
     "traceback": [
      "\u001b[0;31m---------------------------------------------------------------------------\u001b[0m",
      "\u001b[0;31mFileNotFoundError\u001b[0m                         Traceback (most recent call last)",
      "Cell \u001b[0;32mIn[2], line 4\u001b[0m\n\u001b[1;32m      1\u001b[0m \u001b[38;5;66;03m# get alignments from bamfiles\u001b[39;00m\n\u001b[1;32m      3\u001b[0m fpath \u001b[38;5;241m=\u001b[39m \u001b[38;5;124m\"\u001b[39m\u001b[38;5;124m/scratch/indikar_root/indikar1/cstansbu/scpc_test/merged_bam/b01.GRCm39.bam\u001b[39m\u001b[38;5;124m\"\u001b[39m\n\u001b[0;32m----> 4\u001b[0m bamfile \u001b[38;5;241m=\u001b[39m \u001b[43mpysam\u001b[49m\u001b[38;5;241;43m.\u001b[39;49m\u001b[43mAlignmentFile\u001b[49m\u001b[43m(\u001b[49m\u001b[43mfpath\u001b[49m\u001b[43m,\u001b[49m\u001b[43m \u001b[49m\u001b[38;5;124;43m\"\u001b[39;49m\u001b[38;5;124;43mrb\u001b[39;49m\u001b[38;5;124;43m\"\u001b[39;49m\u001b[43m)\u001b[49m\n\u001b[1;32m      7\u001b[0m res \u001b[38;5;241m=\u001b[39m []\n\u001b[1;32m      8\u001b[0m \u001b[38;5;28;01mfor\u001b[39;00m align \u001b[38;5;129;01min\u001b[39;00m bamfile:\n",
      "File \u001b[0;32mpysam/libcalignmentfile.pyx:751\u001b[0m, in \u001b[0;36mpysam.libcalignmentfile.AlignmentFile.__cinit__\u001b[0;34m()\u001b[0m\n",
      "File \u001b[0;32mpysam/libcalignmentfile.pyx:950\u001b[0m, in \u001b[0;36mpysam.libcalignmentfile.AlignmentFile._open\u001b[0;34m()\u001b[0m\n",
      "\u001b[0;31mFileNotFoundError\u001b[0m: [Errno 2] could not open alignment file `/scratch/indikar_root/indikar1/cstansbu/scpc_test/merged_bam/b01.GRCm39.bam`: No such file or directory"
     ]
    }
   ],
   "source": [
    "# get alignments from bamfiles\n",
    "\n",
    "fpath = \"/scratch/indikar_root/indikar1/cstansbu/scpc_test/merged_bam/b01.GRCm39.bam\"\n",
    "bamfile = pysam.AlignmentFile(fpath, \"rb\")\n",
    "\n",
    "\n",
    "res = []\n",
    "for align in bamfile:\n",
    "\n",
    "    read_name = align.qname\n",
    "    offset = 0\n",
    "    is_digested = False\n",
    "    flag = '-1'\n",
    "        \n",
    "    if \"_\" in read_name:\n",
    "        read_name = read_name.split(\"_\")[0]\n",
    "        offset = int(align.qname.split(\"_\")[2])\n",
    "        flag = int(align.qname.split(\"_\")[1])\n",
    "        is_digested = True\n",
    "        \n",
    "    row = {\n",
    "        'read_name' : read_name,\n",
    "        'is_digested' : is_digested,\n",
    "        'mapping_quality' : align.mapping_quality,\n",
    "        'flag' : flag,\n",
    "        'chrom' : align.reference_name,\n",
    "        'read_start' : align.qstart + offset,\n",
    "        'read_end' : align.qend + offset,\n",
    "        'ref_start' : align.reference_start,\n",
    "        'ref_end' : align.reference_end,\n",
    "    }\n",
    "\n",
    "    res.append(row)\n",
    "\n",
    "res = pd.DataFrame(res)\n",
    "res = res.drop_duplicates()\n",
    "res['align_id'] = res.groupby('read_name').cumcount() + 1\n",
    "print(f\"{res.shape=}\")\n",
    "res.head()"
   ]
  },
  {
   "cell_type": "code",
   "execution_count": null,
   "id": "1ced418b-b390-463c-aa02-ef620314b747",
   "metadata": {},
   "outputs": [],
   "source": [
    "break"
   ]
  },
  {
   "cell_type": "code",
   "execution_count": null,
   "id": "b0142008-b36b-4b87-9cc9-7aac574afca2",
   "metadata": {},
   "outputs": [],
   "source": [
    "fpath = \"/scratch/indikar_root/indikar1/cstansbu/scpc_test/sequence_reports/b01.report.pq\"\n",
    "\n",
    "df = pd.read_parquet(fpath)\n",
    "print(f\"{df.shape=}\")\n",
    "df.head()"
   ]
  },
  {
   "cell_type": "code",
   "execution_count": null,
   "id": "a534b37c-4e1e-444e-844b-ca50a4245fe4",
   "metadata": {},
   "outputs": [],
   "source": [
    "# how many map?\n",
    "df['is_mapped'] = df['read_name'].isin(res['read_name'].unique())\n",
    "df['is_mapped'].value_counts(normalize=True)"
   ]
  },
  {
   "cell_type": "code",
   "execution_count": null,
   "id": "75a7ef13-e654-4d31-8b64-9503fa13f4d2",
   "metadata": {},
   "outputs": [],
   "source": [
    "# how many map perfectly?\n",
    "\n",
    "perf = res[res['mapping_quality'] > 0]\n",
    "\n",
    "df['is_mapped'] = df['read_name'].isin(perf['read_name'].unique())\n",
    "df['is_mapped'].value_counts(normalize=True)"
   ]
  },
  {
   "cell_type": "code",
   "execution_count": null,
   "id": "14431631-a7a4-44b1-bec4-808b740f8569",
   "metadata": {},
   "outputs": [],
   "source": [
    "pdf = df.copy()\n",
    "print(f\"{pdf.shape=}\")\n",
    "\n",
    "mask = (pdf['n_enzymes'] > 0)\n",
    "pdf = pdf[mask]\n",
    "\n",
    "mask = (pdf['n_barcode_forward'].isin([0, 1]))\n",
    "pdf = pdf[mask]\n",
    "\n",
    "mask = (pdf['n_barcode_reverse_comp'].isin([0, 1]))\n",
    "pdf = pdf[mask]\n",
    "\n",
    "mask = (pdf['n_barcode_forward'] != 0) | (pdf['n_barcode_reverse_comp'] != 0)\n",
    "pdf = pdf[mask]\n",
    "\n",
    "\n",
    "print(f\"{pdf.shape=}\")\n",
    "\n",
    "\n",
    "pdf.head()"
   ]
  },
  {
   "cell_type": "code",
   "execution_count": null,
   "id": "e2bd86d4-041a-4d16-a5a1-9b3e9d9478ba",
   "metadata": {},
   "outputs": [],
   "source": [
    "perf = res[res['mapping_quality'] > 0]\n",
    "\n",
    "pdf['is_mapped'] = pdf['read_name'].isin(perf['read_name'].unique())\n",
    "pdf['is_mapped'].value_counts(normalize=True)"
   ]
  },
  {
   "cell_type": "code",
   "execution_count": null,
   "id": "4d45b078-6795-415e-a519-ef0459aee0db",
   "metadata": {},
   "outputs": [],
   "source": []
  },
  {
   "cell_type": "code",
   "execution_count": null,
   "id": "cf4a879c-1c6d-47de-ad34-835f275d4e2e",
   "metadata": {},
   "outputs": [],
   "source": [
    "x"
   ]
  },
  {
   "cell_type": "code",
   "execution_count": null,
   "id": "59b531ed-d5ca-4eaf-9af4-54e7f2a5714b",
   "metadata": {},
   "outputs": [],
   "source": [
    "# pdf = df.copy()\n",
    "# sns.boxplot(data=pdf, \n",
    "#             x='n_enzymes',\n",
    "#             y='mean_base_quality')"
   ]
  },
  {
   "cell_type": "code",
   "execution_count": null,
   "id": "7241453f-c950-4ab5-82a6-21f186c2d165",
   "metadata": {},
   "outputs": [],
   "source": []
  }
 ],
 "metadata": {
  "kernelspec": {
   "display_name": "Python 3 (ipykernel)",
   "language": "python",
   "name": "python3"
  },
  "language_info": {
   "codemirror_mode": {
    "name": "ipython",
    "version": 3
   },
   "file_extension": ".py",
   "mimetype": "text/x-python",
   "name": "python",
   "nbconvert_exporter": "python",
   "pygments_lexer": "ipython3",
   "version": "3.9.7"
  }
 },
 "nbformat": 4,
 "nbformat_minor": 5
}
