{
 "cells": [
  {
   "cell_type": "code",
   "execution_count": 1,
   "id": "2c0fc47e-846a-4b9e-a6d3-e818a3136fa6",
   "metadata": {},
   "outputs": [],
   "source": [
    "import sys\n",
    "import re\n",
    "import numpy as np\n",
    "import pandas as pd\n",
    "import pysam\n",
    "import matplotlib.pyplot as plt\n",
    "import seaborn as sns"
   ]
  },
  {
   "cell_type": "code",
   "execution_count": 2,
   "id": "f35b96f8-1f6d-414d-bf7b-da1c9a03d5aa",
   "metadata": {},
   "outputs": [
    {
     "name": "stdout",
     "output_type": "stream",
     "text": [
      "snp.shape=(157247, 12)\n",
      "snp['read_name'].nunique()=2616\n"
     ]
    },
    {
     "data": {
      "text/html": [
       "<div>\n",
       "<style scoped>\n",
       "    .dataframe tbody tr th:only-of-type {\n",
       "        vertical-align: middle;\n",
       "    }\n",
       "\n",
       "    .dataframe tbody tr th {\n",
       "        vertical-align: top;\n",
       "    }\n",
       "\n",
       "    .dataframe thead th {\n",
       "        text-align: right;\n",
       "    }\n",
       "</style>\n",
       "<table border=\"1\" class=\"dataframe\">\n",
       "  <thead>\n",
       "    <tr style=\"text-align: right;\">\n",
       "      <th></th>\n",
       "      <th>read_name</th>\n",
       "      <th>read_length_on_ref</th>\n",
       "      <th>align_idx</th>\n",
       "      <th>reference_base</th>\n",
       "      <th>read_base</th>\n",
       "      <th>read_base_quality</th>\n",
       "      <th>read_mapping_quality</th>\n",
       "      <th>129S1_SvImJ</th>\n",
       "      <th>CAST_EiJ</th>\n",
       "      <th>read_match_ref</th>\n",
       "      <th>read_match_129S1_SvImJ</th>\n",
       "      <th>read_match_CAST_EiJ</th>\n",
       "    </tr>\n",
       "  </thead>\n",
       "  <tbody>\n",
       "    <tr>\n",
       "      <th>0</th>\n",
       "      <td>a64d8e74-1a5a-5b3e-ad30-6115efbe07e2</td>\n",
       "      <td>87</td>\n",
       "      <td>0</td>\n",
       "      <td>G</td>\n",
       "      <td>A</td>\n",
       "      <td>4</td>\n",
       "      <td>47</td>\n",
       "      <td>G</td>\n",
       "      <td>G</td>\n",
       "      <td>False</td>\n",
       "      <td>False</td>\n",
       "      <td>False</td>\n",
       "    </tr>\n",
       "    <tr>\n",
       "      <th>1</th>\n",
       "      <td>a64d8e74-1a5a-5b3e-ad30-6115efbe07e2</td>\n",
       "      <td>87</td>\n",
       "      <td>0</td>\n",
       "      <td>G</td>\n",
       "      <td>T</td>\n",
       "      <td>8</td>\n",
       "      <td>47</td>\n",
       "      <td>G</td>\n",
       "      <td>G</td>\n",
       "      <td>False</td>\n",
       "      <td>False</td>\n",
       "      <td>False</td>\n",
       "    </tr>\n",
       "    <tr>\n",
       "      <th>2</th>\n",
       "      <td>a64d8e74-1a5a-5b3e-ad30-6115efbe07e2</td>\n",
       "      <td>87</td>\n",
       "      <td>0</td>\n",
       "      <td>G</td>\n",
       "      <td>A</td>\n",
       "      <td>6</td>\n",
       "      <td>47</td>\n",
       "      <td>G</td>\n",
       "      <td>G</td>\n",
       "      <td>False</td>\n",
       "      <td>False</td>\n",
       "      <td>False</td>\n",
       "    </tr>\n",
       "    <tr>\n",
       "      <th>3</th>\n",
       "      <td>709fb70d-a873-4477-901d-313de5d8bdbd</td>\n",
       "      <td>761</td>\n",
       "      <td>0</td>\n",
       "      <td>A</td>\n",
       "      <td>T</td>\n",
       "      <td>4</td>\n",
       "      <td>60</td>\n",
       "      <td>A</td>\n",
       "      <td>A</td>\n",
       "      <td>False</td>\n",
       "      <td>False</td>\n",
       "      <td>False</td>\n",
       "    </tr>\n",
       "    <tr>\n",
       "      <th>4</th>\n",
       "      <td>709fb70d-a873-4477-901d-313de5d8bdbd</td>\n",
       "      <td>761</td>\n",
       "      <td>0</td>\n",
       "      <td>A</td>\n",
       "      <td>A</td>\n",
       "      <td>50</td>\n",
       "      <td>60</td>\n",
       "      <td>A</td>\n",
       "      <td>A</td>\n",
       "      <td>True</td>\n",
       "      <td>True</td>\n",
       "      <td>True</td>\n",
       "    </tr>\n",
       "  </tbody>\n",
       "</table>\n",
       "</div>"
      ],
      "text/plain": [
       "                              read_name  read_length_on_ref  align_idx  \\\n",
       "0  a64d8e74-1a5a-5b3e-ad30-6115efbe07e2                  87          0   \n",
       "1  a64d8e74-1a5a-5b3e-ad30-6115efbe07e2                  87          0   \n",
       "2  a64d8e74-1a5a-5b3e-ad30-6115efbe07e2                  87          0   \n",
       "3  709fb70d-a873-4477-901d-313de5d8bdbd                 761          0   \n",
       "4  709fb70d-a873-4477-901d-313de5d8bdbd                 761          0   \n",
       "\n",
       "  reference_base read_base  read_base_quality  read_mapping_quality  \\\n",
       "0              G         A                  4                    47   \n",
       "1              G         T                  8                    47   \n",
       "2              G         A                  6                    47   \n",
       "3              A         T                  4                    60   \n",
       "4              A         A                 50                    60   \n",
       "\n",
       "  129S1_SvImJ CAST_EiJ  read_match_ref  read_match_129S1_SvImJ  \\\n",
       "0           G        G           False                   False   \n",
       "1           G        G           False                   False   \n",
       "2           G        G           False                   False   \n",
       "3           A        A           False                   False   \n",
       "4           A        A            True                    True   \n",
       "\n",
       "   read_match_CAST_EiJ  \n",
       "0                False  \n",
       "1                False  \n",
       "2                False  \n",
       "3                False  \n",
       "4                 True  "
      ]
     },
     "execution_count": 2,
     "metadata": {},
     "output_type": "execute_result"
    }
   ],
   "source": [
    "snp_path = \"/scratch/indikar_root/indikar1/cstansbu/scpc_test/snp_positions/b11.GRCm39.f1219.snps.pq\"\n",
    "snp = pd.read_parquet(snp_path)\n",
    "print(f\"{snp.shape=}\")\n",
    "print(f\"{snp['read_name'].nunique()=}\")\n",
    "snp.head()"
   ]
  },
  {
   "cell_type": "code",
   "execution_count": 6,
   "id": "6aeae843-c06a-4d13-aed1-e8d889f047dc",
   "metadata": {},
   "outputs": [
    {
     "name": "stdout",
     "output_type": "stream",
     "text": [
      "pdf.shape=(20899, 12)\n",
      "pdf['read_name'].nunique()=2145\n",
      "pdf.shape=(20899, 12)\n"
     ]
    },
    {
     "data": {
      "text/plain": [
       "haplotype\n",
       "129S1_SvImJ    10612\n",
       "CAST_EiJ       10287\n",
       "Name: count, dtype: int64"
      ]
     },
     "execution_count": 6,
     "metadata": {},
     "output_type": "execute_result"
    }
   ],
   "source": [
    "pdf = snp[snp['129S1_SvImJ'] != snp['CAST_EiJ']]\n",
    "\n",
    "pdf = pdf[pdf['read_match_129S1_SvImJ'] | pdf['read_match_CAST_EiJ']]\n",
    "\n",
    "print(f\"{pdf.shape=}\")\n",
    "print(f\"{pdf['read_name'].nunique()=}\")\n",
    "print(f\"{pdf.shape=}\")\n",
    "\n",
    "pdf['haplotype'] = np.where(pdf['read_match_129S1_SvImJ'], '129S1_SvImJ', 'CAST_EiJ')\n",
    "\n",
    "pdf['haplotype'].value_counts(dropna=False)"
   ]
  },
  {
   "cell_type": "code",
   "execution_count": 7,
   "id": "d6bb08c4-4312-423a-b27f-3ef5d16f8283",
   "metadata": {},
   "outputs": [
    {
     "data": {
      "text/plain": [
       "0.819954128440367"
      ]
     },
     "execution_count": 7,
     "metadata": {},
     "output_type": "execute_result"
    }
   ],
   "source": [
    "2145 / 2616"
   ]
  },
  {
   "cell_type": "code",
   "execution_count": 8,
   "id": "3e1ebdf9-092b-4b3d-a173-24a8c2935825",
   "metadata": {},
   "outputs": [
    {
     "name": "stdout",
     "output_type": "stream",
     "text": [
      "df.shape=(685240, 12)\n",
      "df['read_name'].nunique()=101745\n"
     ]
    },
    {
     "data": {
      "text/html": [
       "<div>\n",
       "<style scoped>\n",
       "    .dataframe tbody tr th:only-of-type {\n",
       "        vertical-align: middle;\n",
       "    }\n",
       "\n",
       "    .dataframe tbody tr th {\n",
       "        vertical-align: top;\n",
       "    }\n",
       "\n",
       "    .dataframe thead th {\n",
       "        text-align: right;\n",
       "    }\n",
       "</style>\n",
       "<table border=\"1\" class=\"dataframe\">\n",
       "  <thead>\n",
       "    <tr style=\"text-align: right;\">\n",
       "      <th></th>\n",
       "      <th>read_name</th>\n",
       "      <th>align_idx</th>\n",
       "      <th>align_type</th>\n",
       "      <th>read_start</th>\n",
       "      <th>read_end</th>\n",
       "      <th>chrom</th>\n",
       "      <th>ref_start</th>\n",
       "      <th>ref_end</th>\n",
       "      <th>mapping_quality</th>\n",
       "      <th>is_reverse</th>\n",
       "      <th>is_duplicate</th>\n",
       "      <th>alignment_score</th>\n",
       "    </tr>\n",
       "  </thead>\n",
       "  <tbody>\n",
       "    <tr>\n",
       "      <th>0</th>\n",
       "      <td>004ea236-70ac-5e48-ad77-e301c231489c</td>\n",
       "      <td>3</td>\n",
       "      <td>digested</td>\n",
       "      <td>0</td>\n",
       "      <td>375</td>\n",
       "      <td>15</td>\n",
       "      <td>51039716</td>\n",
       "      <td>51040092.0</td>\n",
       "      <td>60</td>\n",
       "      <td>True</td>\n",
       "      <td>False</td>\n",
       "      <td>726</td>\n",
       "    </tr>\n",
       "    <tr>\n",
       "      <th>1</th>\n",
       "      <td>004ea236-70ac-5e48-ad77-e301c231489c</td>\n",
       "      <td>0</td>\n",
       "      <td>full</td>\n",
       "      <td>44</td>\n",
       "      <td>477</td>\n",
       "      <td>15</td>\n",
       "      <td>51039658</td>\n",
       "      <td>51040092.0</td>\n",
       "      <td>60</td>\n",
       "      <td>True</td>\n",
       "      <td>False</td>\n",
       "      <td>842</td>\n",
       "    </tr>\n",
       "    <tr>\n",
       "      <th>2</th>\n",
       "      <td>004ea236-70ac-5e48-ad77-e301c231489c</td>\n",
       "      <td>1</td>\n",
       "      <td>digested</td>\n",
       "      <td>761</td>\n",
       "      <td>819</td>\n",
       "      <td>15</td>\n",
       "      <td>51039658</td>\n",
       "      <td>51039716.0</td>\n",
       "      <td>19</td>\n",
       "      <td>True</td>\n",
       "      <td>False</td>\n",
       "      <td>116</td>\n",
       "    </tr>\n",
       "    <tr>\n",
       "      <th>3</th>\n",
       "      <td>004ea236-70ac-5e48-ad77-e301c231489c</td>\n",
       "      <td>2</td>\n",
       "      <td>digested</td>\n",
       "      <td>761</td>\n",
       "      <td>819</td>\n",
       "      <td>15</td>\n",
       "      <td>51039658</td>\n",
       "      <td>51039716.0</td>\n",
       "      <td>19</td>\n",
       "      <td>True</td>\n",
       "      <td>False</td>\n",
       "      <td>116</td>\n",
       "    </tr>\n",
       "    <tr>\n",
       "      <th>4</th>\n",
       "      <td>0058c399-3fba-4b7b-a06b-b6b7e04d421d</td>\n",
       "      <td>0</td>\n",
       "      <td>full</td>\n",
       "      <td>0</td>\n",
       "      <td>410</td>\n",
       "      <td>None</td>\n",
       "      <td>-1</td>\n",
       "      <td>NaN</td>\n",
       "      <td>0</td>\n",
       "      <td>False</td>\n",
       "      <td>False</td>\n",
       "      <td>0</td>\n",
       "    </tr>\n",
       "  </tbody>\n",
       "</table>\n",
       "</div>"
      ],
      "text/plain": [
       "                              read_name  align_idx align_type  read_start  \\\n",
       "0  004ea236-70ac-5e48-ad77-e301c231489c          3   digested           0   \n",
       "1  004ea236-70ac-5e48-ad77-e301c231489c          0       full          44   \n",
       "2  004ea236-70ac-5e48-ad77-e301c231489c          1   digested         761   \n",
       "3  004ea236-70ac-5e48-ad77-e301c231489c          2   digested         761   \n",
       "4  0058c399-3fba-4b7b-a06b-b6b7e04d421d          0       full           0   \n",
       "\n",
       "   read_end chrom  ref_start     ref_end  mapping_quality  is_reverse  \\\n",
       "0       375    15   51039716  51040092.0               60        True   \n",
       "1       477    15   51039658  51040092.0               60        True   \n",
       "2       819    15   51039658  51039716.0               19        True   \n",
       "3       819    15   51039658  51039716.0               19        True   \n",
       "4       410  None         -1         NaN                0       False   \n",
       "\n",
       "   is_duplicate  alignment_score  \n",
       "0         False              726  \n",
       "1         False              842  \n",
       "2         False              116  \n",
       "3         False              116  \n",
       "4         False                0  "
      ]
     },
     "execution_count": 8,
     "metadata": {},
     "output_type": "execute_result"
    }
   ],
   "source": [
    "# but how many of the total reads did we get?\n",
    "fpath = \"/scratch/indikar_root/indikar1/cstansbu/scpc_test/align_table/\"\n",
    "df = pd.read_parquet(fpath)\n",
    "print(f\"{df.shape=}\")\n",
    "print(f\"{df['read_name'].nunique()=}\")\n",
    "df.head()"
   ]
  },
  {
   "cell_type": "code",
   "execution_count": 9,
   "id": "eb16f02d-87ce-422e-884d-732a1d872b6f",
   "metadata": {},
   "outputs": [
    {
     "data": {
      "text/plain": [
       "0.021082117057349255"
      ]
     },
     "execution_count": 9,
     "metadata": {},
     "output_type": "execute_result"
    }
   ],
   "source": [
    "2145 / 101745"
   ]
  },
  {
   "cell_type": "markdown",
   "id": "9dc7baf2-980c-41ff-b8b4-f484dfc78b0c",
   "metadata": {},
   "source": [
    "$${\\rm R} = {\\rm log2(reads\\,in\\,129\\,allele/reads\\,in\\,Castaneus\\,allele)}$$"
   ]
  },
  {
   "cell_type": "code",
   "execution_count": 4,
   "id": "712dee08-7a81-491f-b161-246486f086cf",
   "metadata": {},
   "outputs": [
    {
     "ename": "SyntaxError",
     "evalue": "'break' outside loop (668683560.py, line 1)",
     "output_type": "error",
     "traceback": [
      "\u001b[0;36m  Cell \u001b[0;32mIn[4], line 1\u001b[0;36m\u001b[0m\n\u001b[0;31m    break\u001b[0m\n\u001b[0m    ^\u001b[0m\n\u001b[0;31mSyntaxError\u001b[0m\u001b[0;31m:\u001b[0m 'break' outside loop\n"
     ]
    }
   ],
   "source": [
    "break"
   ]
  },
  {
   "cell_type": "code",
   "execution_count": 13,
   "id": "80902757-7ee2-4e49-851b-8ef5df818485",
   "metadata": {},
   "outputs": [
    {
     "name": "stdout",
     "output_type": "stream",
     "text": [
      "cdf.shape=(6935, 12)\n",
      "cdf['read_name'].nunique()=471\n"
     ]
    },
    {
     "data": {
      "text/html": [
       "<div>\n",
       "<style scoped>\n",
       "    .dataframe tbody tr th:only-of-type {\n",
       "        vertical-align: middle;\n",
       "    }\n",
       "\n",
       "    .dataframe tbody tr th {\n",
       "        vertical-align: top;\n",
       "    }\n",
       "\n",
       "    .dataframe thead th {\n",
       "        text-align: right;\n",
       "    }\n",
       "</style>\n",
       "<table border=\"1\" class=\"dataframe\">\n",
       "  <thead>\n",
       "    <tr style=\"text-align: right;\">\n",
       "      <th></th>\n",
       "      <th>read_name</th>\n",
       "      <th>read_length_on_ref</th>\n",
       "      <th>align_idx</th>\n",
       "      <th>reference_base</th>\n",
       "      <th>read_base</th>\n",
       "      <th>read_base_quality</th>\n",
       "      <th>read_mapping_quality</th>\n",
       "      <th>129S1_SvImJ</th>\n",
       "      <th>CAST_EiJ</th>\n",
       "      <th>read_match_ref</th>\n",
       "      <th>read_match_129S1_SvImJ</th>\n",
       "      <th>read_match_CAST_EiJ</th>\n",
       "    </tr>\n",
       "  </thead>\n",
       "  <tbody>\n",
       "    <tr>\n",
       "      <th>0</th>\n",
       "      <td>a64d8e74-1a5a-5b3e-ad30-6115efbe07e2</td>\n",
       "      <td>87</td>\n",
       "      <td>0</td>\n",
       "      <td>G</td>\n",
       "      <td>A</td>\n",
       "      <td>4</td>\n",
       "      <td>47</td>\n",
       "      <td>G</td>\n",
       "      <td>G</td>\n",
       "      <td>False</td>\n",
       "      <td>False</td>\n",
       "      <td>False</td>\n",
       "    </tr>\n",
       "    <tr>\n",
       "      <th>1</th>\n",
       "      <td>a64d8e74-1a5a-5b3e-ad30-6115efbe07e2</td>\n",
       "      <td>87</td>\n",
       "      <td>0</td>\n",
       "      <td>G</td>\n",
       "      <td>T</td>\n",
       "      <td>8</td>\n",
       "      <td>47</td>\n",
       "      <td>G</td>\n",
       "      <td>G</td>\n",
       "      <td>False</td>\n",
       "      <td>False</td>\n",
       "      <td>False</td>\n",
       "    </tr>\n",
       "    <tr>\n",
       "      <th>2</th>\n",
       "      <td>a64d8e74-1a5a-5b3e-ad30-6115efbe07e2</td>\n",
       "      <td>87</td>\n",
       "      <td>0</td>\n",
       "      <td>G</td>\n",
       "      <td>A</td>\n",
       "      <td>6</td>\n",
       "      <td>47</td>\n",
       "      <td>G</td>\n",
       "      <td>G</td>\n",
       "      <td>False</td>\n",
       "      <td>False</td>\n",
       "      <td>False</td>\n",
       "    </tr>\n",
       "    <tr>\n",
       "      <th>371</th>\n",
       "      <td>b5a5cf85-e533-4f98-b6c7-771542aaf7d2</td>\n",
       "      <td>1001</td>\n",
       "      <td>0</td>\n",
       "      <td>A</td>\n",
       "      <td>G</td>\n",
       "      <td>22</td>\n",
       "      <td>60</td>\n",
       "      <td>A</td>\n",
       "      <td>A</td>\n",
       "      <td>False</td>\n",
       "      <td>False</td>\n",
       "      <td>False</td>\n",
       "    </tr>\n",
       "    <tr>\n",
       "      <th>372</th>\n",
       "      <td>b5a5cf85-e533-4f98-b6c7-771542aaf7d2</td>\n",
       "      <td>1001</td>\n",
       "      <td>0</td>\n",
       "      <td>G</td>\n",
       "      <td>C</td>\n",
       "      <td>14</td>\n",
       "      <td>60</td>\n",
       "      <td>G</td>\n",
       "      <td>G</td>\n",
       "      <td>False</td>\n",
       "      <td>False</td>\n",
       "      <td>False</td>\n",
       "    </tr>\n",
       "  </tbody>\n",
       "</table>\n",
       "</div>"
      ],
      "text/plain": [
       "                                read_name  read_length_on_ref  align_idx  \\\n",
       "0    a64d8e74-1a5a-5b3e-ad30-6115efbe07e2                  87          0   \n",
       "1    a64d8e74-1a5a-5b3e-ad30-6115efbe07e2                  87          0   \n",
       "2    a64d8e74-1a5a-5b3e-ad30-6115efbe07e2                  87          0   \n",
       "371  b5a5cf85-e533-4f98-b6c7-771542aaf7d2                1001          0   \n",
       "372  b5a5cf85-e533-4f98-b6c7-771542aaf7d2                1001          0   \n",
       "\n",
       "    reference_base read_base  read_base_quality  read_mapping_quality  \\\n",
       "0                G         A                  4                    47   \n",
       "1                G         T                  8                    47   \n",
       "2                G         A                  6                    47   \n",
       "371              A         G                 22                    60   \n",
       "372              G         C                 14                    60   \n",
       "\n",
       "    129S1_SvImJ CAST_EiJ  read_match_ref  read_match_129S1_SvImJ  \\\n",
       "0             G        G           False                   False   \n",
       "1             G        G           False                   False   \n",
       "2             G        G           False                   False   \n",
       "371           A        A           False                   False   \n",
       "372           G        G           False                   False   \n",
       "\n",
       "     read_match_CAST_EiJ  \n",
       "0                  False  \n",
       "1                  False  \n",
       "2                  False  \n",
       "371                False  \n",
       "372                False  "
      ]
     },
     "execution_count": 13,
     "metadata": {},
     "output_type": "execute_result"
    }
   ],
   "source": [
    "cdf = snp.copy()\n",
    "\n",
    "cdf = cdf[~cdf['read_name'].isin(pdf['read_name'].unique())]\n",
    "print(f\"{cdf.shape=}\")\n",
    "print(f\"{cdf['read_name'].nunique()=}\")\n",
    "\n",
    "cdf.head()"
   ]
  },
  {
   "cell_type": "code",
   "execution_count": null,
   "id": "27511aaf-f836-437f-87b0-c40ff00c7fc9",
   "metadata": {},
   "outputs": [],
   "source": [
    "snp[snp['129S1_SvImJ'] != snp['CAST_EiJ']]"
   ]
  },
  {
   "cell_type": "code",
   "execution_count": null,
   "id": "1e6ad404-d34d-4ade-a121-693ab3bab64c",
   "metadata": {},
   "outputs": [],
   "source": []
  },
  {
   "cell_type": "code",
   "execution_count": null,
   "id": "5d788949-a8af-4656-816f-afa66d5af674",
   "metadata": {},
   "outputs": [],
   "source": []
  },
  {
   "cell_type": "code",
   "execution_count": null,
   "id": "8e405645-7176-4bb4-8ffa-ae77149bef8f",
   "metadata": {},
   "outputs": [],
   "source": []
  },
  {
   "cell_type": "code",
   "execution_count": null,
   "id": "c873f3da-dd89-4e5b-92fa-1d471514acdb",
   "metadata": {},
   "outputs": [],
   "source": [
    "print(f\"{snp.shape=}\")\n",
    "\n",
    "test = snp[['read_name', 'align_idx']].drop_duplicates()\n",
    "print(f\"{test.shape=}\")"
   ]
  },
  {
   "cell_type": "code",
   "execution_count": null,
   "id": "c58f94a3-de37-4454-a7c8-a5b360897707",
   "metadata": {},
   "outputs": [],
   "source": []
  },
  {
   "cell_type": "code",
   "execution_count": null,
   "id": "abca337f-883a-4c44-a710-a09afa5e8db1",
   "metadata": {},
   "outputs": [],
   "source": []
  },
  {
   "cell_type": "code",
   "execution_count": null,
   "id": "d24ae933-d099-4f53-b204-954bbe92fb91",
   "metadata": {},
   "outputs": [],
   "source": [
    "fpath =  \"/scratch/indikar_root/indikar1/cstansbu/scpc_test/align_table/b11.GRCm39.alignments.pq\"\n",
    "\n",
    "df = pd.read_parquet(fpath)\n",
    "print(f\"{df.shape=}\")\n",
    "print(f\"{df['read_name'].nunique()=}\")\n",
    "df.head()"
   ]
  },
  {
   "cell_type": "code",
   "execution_count": null,
   "id": "7cdb904f-9b68-4a24-acb0-cdb62657d3f5",
   "metadata": {},
   "outputs": [],
   "source": []
  },
  {
   "cell_type": "code",
   "execution_count": null,
   "id": "b5b66de6-ae1a-4fc7-8614-7b5b727e401e",
   "metadata": {},
   "outputs": [],
   "source": []
  },
  {
   "cell_type": "code",
   "execution_count": null,
   "id": "734993c1-d9b5-4a59-9896-5fdd96c576ce",
   "metadata": {},
   "outputs": [],
   "source": [
    "dir(vcf_file)"
   ]
  },
  {
   "cell_type": "code",
   "execution_count": null,
   "id": "29465d9d-6c85-4e8c-acf2-c46cc4376aaa",
   "metadata": {},
   "outputs": [],
   "source": []
  }
 ],
 "metadata": {
  "kernelspec": {
   "display_name": "Python 3 (ipykernel)",
   "language": "python",
   "name": "python3"
  },
  "language_info": {
   "codemirror_mode": {
    "name": "ipython",
    "version": 3
   },
   "file_extension": ".py",
   "mimetype": "text/x-python",
   "name": "python",
   "nbconvert_exporter": "python",
   "pygments_lexer": "ipython3",
   "version": "3.9.7"
  }
 },
 "nbformat": 4,
 "nbformat_minor": 5
}
