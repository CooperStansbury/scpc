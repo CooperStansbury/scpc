{
 "cells": [
  {
   "cell_type": "code",
   "execution_count": 1,
   "id": "46a28494-9a03-4469-be23-c5f30565b489",
   "metadata": {},
   "outputs": [],
   "source": [
    "import sys\n",
    "import re\n",
    "import numpy as np\n",
    "import pandas as pd\n",
    "import pysam\n",
    "import matplotlib.pyplot as plt\n",
    "import seaborn as sns\n",
    "import pysam\n",
    "import gget"
   ]
  },
  {
   "cell_type": "code",
   "execution_count": 7,
   "id": "c3a2c2c9-1595-4677-97c7-eb83a9151f22",
   "metadata": {},
   "outputs": [
    {
     "name": "stdout",
     "output_type": "stream",
     "text": [
      "res.shape=(968405, 6)\n"
     ]
    },
    {
     "data": {
      "text/html": [
       "<div>\n",
       "<style scoped>\n",
       "    .dataframe tbody tr th:only-of-type {\n",
       "        vertical-align: middle;\n",
       "    }\n",
       "\n",
       "    .dataframe tbody tr th {\n",
       "        vertical-align: top;\n",
       "    }\n",
       "\n",
       "    .dataframe thead th {\n",
       "        text-align: right;\n",
       "    }\n",
       "</style>\n",
       "<table border=\"1\" class=\"dataframe\">\n",
       "  <thead>\n",
       "    <tr style=\"text-align: right;\">\n",
       "      <th></th>\n",
       "      <th>fastq_name</th>\n",
       "      <th>read_name</th>\n",
       "      <th>mean_base_quality</th>\n",
       "      <th>median_base_quality</th>\n",
       "      <th>min_base_quality</th>\n",
       "      <th>max_base_quality</th>\n",
       "      <th>read_in</th>\n",
       "    </tr>\n",
       "  </thead>\n",
       "  <tbody>\n",
       "    <tr>\n",
       "      <th>0</th>\n",
       "      <td>old</td>\n",
       "      <td>a6771700-9e14-487e-9ecc-e3afced24202</td>\n",
       "      <td>26.400593</td>\n",
       "      <td>32.0</td>\n",
       "      <td>3</td>\n",
       "      <td>50</td>\n",
       "      <td>2</td>\n",
       "    </tr>\n",
       "    <tr>\n",
       "      <th>1</th>\n",
       "      <td>old</td>\n",
       "      <td>726023a8-4a0f-42c4-9943-b2e6593af884</td>\n",
       "      <td>17.374690</td>\n",
       "      <td>15.0</td>\n",
       "      <td>2</td>\n",
       "      <td>50</td>\n",
       "      <td>2</td>\n",
       "    </tr>\n",
       "    <tr>\n",
       "      <th>2</th>\n",
       "      <td>old</td>\n",
       "      <td>573b9ae0-ab96-4e8b-94d4-086bee8988e1</td>\n",
       "      <td>24.705882</td>\n",
       "      <td>25.5</td>\n",
       "      <td>2</td>\n",
       "      <td>50</td>\n",
       "      <td>2</td>\n",
       "    </tr>\n",
       "    <tr>\n",
       "      <th>3</th>\n",
       "      <td>old</td>\n",
       "      <td>4b24ca4e-8c30-4b4f-8e53-89245c600e5f</td>\n",
       "      <td>21.502907</td>\n",
       "      <td>21.0</td>\n",
       "      <td>2</td>\n",
       "      <td>50</td>\n",
       "      <td>2</td>\n",
       "    </tr>\n",
       "    <tr>\n",
       "      <th>4</th>\n",
       "      <td>old</td>\n",
       "      <td>8a5266bb-54a5-425b-aea0-8cca816eb769</td>\n",
       "      <td>29.705298</td>\n",
       "      <td>33.5</td>\n",
       "      <td>3</td>\n",
       "      <td>50</td>\n",
       "      <td>2</td>\n",
       "    </tr>\n",
       "  </tbody>\n",
       "</table>\n",
       "</div>"
      ],
      "text/plain": [
       "  fastq_name                             read_name  mean_base_quality  \\\n",
       "0        old  a6771700-9e14-487e-9ecc-e3afced24202          26.400593   \n",
       "1        old  726023a8-4a0f-42c4-9943-b2e6593af884          17.374690   \n",
       "2        old  573b9ae0-ab96-4e8b-94d4-086bee8988e1          24.705882   \n",
       "3        old  4b24ca4e-8c30-4b4f-8e53-89245c600e5f          21.502907   \n",
       "4        old  8a5266bb-54a5-425b-aea0-8cca816eb769          29.705298   \n",
       "\n",
       "   median_base_quality  min_base_quality  max_base_quality  read_in  \n",
       "0                 32.0                 3                50        2  \n",
       "1                 15.0                 2                50        2  \n",
       "2                 25.5                 2                50        2  \n",
       "3                 21.0                 2                50        2  \n",
       "4                 33.5                 3                50        2  "
      ]
     },
     "execution_count": 7,
     "metadata": {},
     "output_type": "execute_result"
    }
   ],
   "source": [
    "old_path = f\"/nfs/turbo/umms-indikar/shared/projects/poreC/data/fastq/p2/scPC96o_3/merged_fastq/barcode01.fastq\"\n",
    "new_path = f\"/scratch/indikar_root/indikar1/cstansbu/scpc_test/fastq/b01.raw.fastq\"\n",
    "\n",
    "\n",
    "res = []\n",
    "\n",
    "for i, fpath in enumerate([old_path, new_path]):\n",
    "    fastq = pysam.FastxFile(fpath)\n",
    "    fastq_name = 'old' if i == 0 else 'new'\n",
    "\n",
    "    for read in fastq:\n",
    "        read_name = read.name\n",
    "        quals = read.get_quality_array()\n",
    "\n",
    "        row = {\n",
    "            'fastq_name' : fastq_name,\n",
    "            'read_name' : read_name,\n",
    "            'mean_base_quality' : np.mean(quals),\n",
    "            'median_base_quality' : np.median(quals),\n",
    "            'min_base_quality' : np.min(quals),\n",
    "            'max_base_quality' : np.max(quals),\n",
    "        }\n",
    "        res.append(row)\n",
    "\n",
    "        \n",
    "res = pd.DataFrame(res)\n",
    "print(f\"{res.shape=}\")\n",
    "res['read_in'] = res.groupby('read_name')['fastq_name'].transform('count')\n",
    "res.head()"
   ]
  },
  {
   "cell_type": "code",
   "execution_count": 14,
   "id": "bbee89f3-af3f-4ec4-957b-0e633b4b2734",
   "metadata": {},
   "outputs": [
    {
     "data": {
      "image/png": "[encoded data removed]",
      "text/plain": [
       "<Figure size 640x480 with 1 Axes>"
      ]
     },
     "metadata": {},
     "output_type": "display_data"
    }
   ],
   "source": [
    "res['basecaller'] = np.where(res['fastq_name'] == 'old', 'guppy', 'dorado')\n",
    "\n",
    "sns.histplot(data=res, \n",
    "             x='mean_base_quality',\n",
    "             bins=100,\n",
    "             hue='basecaller')\n",
    "\n",
    "sns.despine()"
   ]
  },
  {
   "cell_type": "code",
   "execution_count": 16,
   "id": "2821d3de-d20e-4884-b0be-f2ae28e326d1",
   "metadata": {},
   "outputs": [
    {
     "data": {
      "text/plain": [
       "read_in\n",
       "2    0.931649\n",
       "1    0.068351\n",
       "Name: proportion, dtype: float64"
      ]
     },
     "execution_count": 16,
     "metadata": {},
     "output_type": "execute_result"
    }
   ],
   "source": [
    "res['read_in'].value_counts(normalize=True)"
   ]
  },
  {
   "cell_type": "code",
   "execution_count": null,
   "id": "9befc9ce-66e9-4416-9a36-70ae1c0a949d",
   "metadata": {},
   "outputs": [],
   "source": []
  },
  {
   "cell_type": "code",
   "execution_count": null,
   "id": "4c15c85d-d3ec-401d-bc91-3922fef3b9c3",
   "metadata": {},
   "outputs": [],
   "source": []
  },
  {
   "cell_type": "code",
   "execution_count": null,
   "id": "109b3322-d899-4612-8c7f-c96062533cdd",
   "metadata": {},
   "outputs": [],
   "source": []
  },
  {
   "cell_type": "code",
   "execution_count": null,
   "id": "d86eaf26-196e-4e21-9c01-a3e50fefa2f8",
   "metadata": {},
   "outputs": [],
   "source": []
  },
  {
   "cell_type": "code",
   "execution_count": null,
   "id": "5f53298e-90cd-44d7-98f0-9e0969e2046e",
   "metadata": {},
   "outputs": [],
   "source": []
  },
  {
   "cell_type": "code",
   "execution_count": null,
   "id": "3184c62e-c9d3-4cdc-bc06-64aca8d3ba3b",
   "metadata": {},
   "outputs": [],
   "source": []
  },
  {
   "cell_type": "code",
   "execution_count": null,
   "id": "d37505b6-d0c9-4a69-86bf-f98ae4363eca",
   "metadata": {},
   "outputs": [],
   "source": []
  },
  {
   "cell_type": "code",
   "execution_count": null,
   "id": "ea041b15-baef-4f8e-804e-c76584f5afa5",
   "metadata": {},
   "outputs": [],
   "source": []
  }
 ],
 "metadata": {
  "kernelspec": {
   "display_name": "Python 3 (ipykernel)",
   "language": "python",
   "name": "python3"
  },
  "language_info": {
   "codemirror_mode": {
    "name": "ipython",
    "version": 3
   },
   "file_extension": ".py",
   "mimetype": "text/x-python",
   "name": "python",
   "nbconvert_exporter": "python",
   "pygments_lexer": "ipython3",
   "version": "3.9.7"
  }
 },
 "nbformat": 4,
 "nbformat_minor": 5
}
