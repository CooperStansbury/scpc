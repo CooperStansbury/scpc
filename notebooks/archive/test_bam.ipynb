{
 "cells": [
  {
   "cell_type": "code",
   "execution_count": 15,
   "id": "3e72acfa-053e-4e4f-b333-820732509146",
   "metadata": {},
   "outputs": [],
   "source": [
    "import pysam\n",
    "import pandas as pd"
   ]
  },
  {
   "cell_type": "code",
   "execution_count": 16,
   "id": "2cf9e309-ae2a-4905-b31f-f2355cf7047d",
   "metadata": {},
   "outputs": [
    {
     "data": {
      "text/html": [
       "<div>\n",
       "<style scoped>\n",
       "    .dataframe tbody tr th:only-of-type {\n",
       "        vertical-align: middle;\n",
       "    }\n",
       "\n",
       "    .dataframe tbody tr th {\n",
       "        vertical-align: top;\n",
       "    }\n",
       "\n",
       "    .dataframe thead th {\n",
       "        text-align: right;\n",
       "    }\n",
       "</style>\n",
       "<table border=\"1\" class=\"dataframe\">\n",
       "  <thead>\n",
       "    <tr style=\"text-align: right;\">\n",
       "      <th></th>\n",
       "      <th>read_name</th>\n",
       "      <th>chrom</th>\n",
       "      <th>mapping_quality</th>\n",
       "    </tr>\n",
       "  </thead>\n",
       "  <tbody>\n",
       "    <tr>\n",
       "      <th>0</th>\n",
       "      <td>8eda7024-69f5-4b9a-897c-58355e993c02:000:419</td>\n",
       "      <td>None</td>\n",
       "      <td>0</td>\n",
       "    </tr>\n",
       "    <tr>\n",
       "      <th>1</th>\n",
       "      <td>87453d7f-6313-4c87-a18f-5acac3e40913:000:348</td>\n",
       "      <td>None</td>\n",
       "      <td>0</td>\n",
       "    </tr>\n",
       "    <tr>\n",
       "      <th>2</th>\n",
       "      <td>851124af-7dcb-4241-abe3-49e990381f44:000:456</td>\n",
       "      <td>None</td>\n",
       "      <td>0</td>\n",
       "    </tr>\n",
       "    <tr>\n",
       "      <th>3</th>\n",
       "      <td>5bd6f8e7-f426-438a-8dc5-0a8ace3ee7e4:000:254</td>\n",
       "      <td>None</td>\n",
       "      <td>0</td>\n",
       "    </tr>\n",
       "    <tr>\n",
       "      <th>4</th>\n",
       "      <td>5bd6f8e7-f426-438a-8dc5-0a8ace3ee7e4:254:286</td>\n",
       "      <td>None</td>\n",
       "      <td>0</td>\n",
       "    </tr>\n",
       "  </tbody>\n",
       "</table>\n",
       "</div>"
      ],
      "text/plain": [
       "                                      read_name chrom  mapping_quality\n",
       "0  8eda7024-69f5-4b9a-897c-58355e993c02:000:419  None                0\n",
       "1  87453d7f-6313-4c87-a18f-5acac3e40913:000:348  None                0\n",
       "2  851124af-7dcb-4241-abe3-49e990381f44:000:456  None                0\n",
       "3  5bd6f8e7-f426-438a-8dc5-0a8ace3ee7e4:000:254  None                0\n",
       "4  5bd6f8e7-f426-438a-8dc5-0a8ace3ee7e4:254:286  None                0"
      ]
     },
     "execution_count": 16,
     "metadata": {},
     "output_type": "execute_result"
    }
   ],
   "source": [
    "fpath = \"../scripts/alignments.bam\"\n",
    "\n",
    "bam_file = pysam.AlignmentFile(fpath)\n",
    "\n",
    "res = []\n",
    "\n",
    "for read in bam_file:\n",
    "\n",
    "    read_rec = {\n",
    "        'read_name' : read.query_name,\n",
    "        'chrom' : read.reference_name,\n",
    "        'mapping_quality' : read.mapping_quality,\n",
    "    }\n",
    "    res.append(read_rec)\n",
    "    \n",
    "res = pd.DataFrame(res)\n",
    "res.head()"
   ]
  },
  {
   "cell_type": "code",
   "execution_count": 19,
   "id": "1fe97c6a-96a2-400c-a6c3-893ca97871d6",
   "metadata": {},
   "outputs": [
    {
     "data": {
      "text/plain": [
       "mapping_quality\n",
       "0     42130\n",
       "60     8467\n",
       "1       655\n",
       "35      140\n",
       "18      130\n",
       "      ...  \n",
       "5        28\n",
       "27       24\n",
       "56       22\n",
       "57       22\n",
       "51       20\n",
       "Name: count, Length: 61, dtype: int64"
      ]
     },
     "execution_count": 19,
     "metadata": {},
     "output_type": "execute_result"
    }
   ],
   "source": [
    "res['mapping_quality'].value_counts()"
   ]
  },
  {
   "cell_type": "code",
   "execution_count": 20,
   "id": "fd56745a-70e8-4f07-8480-b8cb437e93f3",
   "metadata": {},
   "outputs": [
    {
     "data": {
      "text/html": [
       "<div>\n",
       "<style scoped>\n",
       "    .dataframe tbody tr th:only-of-type {\n",
       "        vertical-align: middle;\n",
       "    }\n",
       "\n",
       "    .dataframe tbody tr th {\n",
       "        vertical-align: top;\n",
       "    }\n",
       "\n",
       "    .dataframe thead th {\n",
       "        text-align: right;\n",
       "    }\n",
       "</style>\n",
       "<table border=\"1\" class=\"dataframe\">\n",
       "  <thead>\n",
       "    <tr style=\"text-align: right;\">\n",
       "      <th></th>\n",
       "      <th>cid</th>\n",
       "      <th>read_name</th>\n",
       "      <th>chrom</th>\n",
       "      <th>start</th>\n",
       "      <th>end</th>\n",
       "      <th>num_fragments</th>\n",
       "      <th>pass_filter</th>\n",
       "    </tr>\n",
       "  </thead>\n",
       "  <tbody>\n",
       "    <tr>\n",
       "      <th>0</th>\n",
       "      <td>1d750b1d-f2b6-435e-9581-2c0aac2d2df0</td>\n",
       "      <td>1d750b1d-f2b6-435e-9581-2c0aac2d2df0</td>\n",
       "      <td>2</td>\n",
       "      <td>60903253</td>\n",
       "      <td>60903337</td>\n",
       "      <td>1</td>\n",
       "      <td>TRUE</td>\n",
       "    </tr>\n",
       "    <tr>\n",
       "      <th>1</th>\n",
       "      <td>1d750b1d-f2b6-435e-9581-2c0aac2d2df0</td>\n",
       "      <td>1d750b1d-f2b6-435e-9581-2c0aac2d2df0</td>\n",
       "      <td>13</td>\n",
       "      <td>18145454</td>\n",
       "      <td>18145628</td>\n",
       "      <td>1</td>\n",
       "      <td>TRUE</td>\n",
       "    </tr>\n",
       "    <tr>\n",
       "      <th>2</th>\n",
       "      <td>1d750b1d-f2b6-435e-9581-2c0aac2d2df0</td>\n",
       "      <td>1d750b1d-f2b6-435e-9581-2c0aac2d2df0</td>\n",
       "      <td>13</td>\n",
       "      <td>18146032</td>\n",
       "      <td>18146169</td>\n",
       "      <td>1</td>\n",
       "      <td>TRUE</td>\n",
       "    </tr>\n",
       "    <tr>\n",
       "      <th>3</th>\n",
       "      <td>1d750b1d-f2b6-435e-9581-2c0aac2d2df0</td>\n",
       "      <td>1d750b1d-f2b6-435e-9581-2c0aac2d2df0</td>\n",
       "      <td>13</td>\n",
       "      <td>18145628</td>\n",
       "      <td>18145945</td>\n",
       "      <td>1</td>\n",
       "      <td>TRUE</td>\n",
       "    </tr>\n",
       "    <tr>\n",
       "      <th>4</th>\n",
       "      <td>4f2bbbfc-55e4-421e-8e36-0ca1b22e12bf</td>\n",
       "      <td>4f2bbbfc-55e4-421e-8e36-0ca1b22e12bf</td>\n",
       "      <td>10</td>\n",
       "      <td>5316121</td>\n",
       "      <td>5316346</td>\n",
       "      <td>1</td>\n",
       "      <td>TRUE</td>\n",
       "    </tr>\n",
       "  </tbody>\n",
       "</table>\n",
       "</div>"
      ],
      "text/plain": [
       "                                    cid                             read_name  \\\n",
       "0  1d750b1d-f2b6-435e-9581-2c0aac2d2df0  1d750b1d-f2b6-435e-9581-2c0aac2d2df0   \n",
       "1  1d750b1d-f2b6-435e-9581-2c0aac2d2df0  1d750b1d-f2b6-435e-9581-2c0aac2d2df0   \n",
       "2  1d750b1d-f2b6-435e-9581-2c0aac2d2df0  1d750b1d-f2b6-435e-9581-2c0aac2d2df0   \n",
       "3  1d750b1d-f2b6-435e-9581-2c0aac2d2df0  1d750b1d-f2b6-435e-9581-2c0aac2d2df0   \n",
       "4  4f2bbbfc-55e4-421e-8e36-0ca1b22e12bf  4f2bbbfc-55e4-421e-8e36-0ca1b22e12bf   \n",
       "\n",
       "  chrom     start       end  num_fragments pass_filter  \n",
       "0     2  60903253  60903337              1        TRUE  \n",
       "1    13  18145454  18145628              1        TRUE  \n",
       "2    13  18146032  18146169              1        TRUE  \n",
       "3    13  18145628  18145945              1        TRUE  \n",
       "4    10   5316121   5316346              1        TRUE  "
      ]
     },
     "execution_count": 20,
     "metadata": {},
     "output_type": "execute_result"
    }
   ],
   "source": [
    "fpath = \"../scripts/test.chromunity.parquet\"\n",
    "\n",
    "df = pd.read_parquet(fpath)\n",
    "df.head()"
   ]
  },
  {
   "cell_type": "code",
   "execution_count": null,
   "id": "da9c94b6-5d15-4ecb-a06f-5924f102bae2",
   "metadata": {},
   "outputs": [],
   "source": []
  }
 ],
 "metadata": {
  "kernelspec": {
   "display_name": "Python 3 (ipykernel)",
   "language": "python",
   "name": "python3"
  },
  "language_info": {
   "codemirror_mode": {
    "name": "ipython",
    "version": 3
   },
   "file_extension": ".py",
   "mimetype": "text/x-python",
   "name": "python",
   "nbconvert_exporter": "python",
   "pygments_lexer": "ipython3",
   "version": "3.9.7"
  }
 },
 "nbformat": 4,
 "nbformat_minor": 5
}
