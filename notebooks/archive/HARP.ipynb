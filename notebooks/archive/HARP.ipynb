{
 "cells": [
  {
   "cell_type": "code",
   "execution_count": 1,
   "id": "ebfab620-91ad-44ce-90b9-a2598a38a660",
   "metadata": {},
   "outputs": [
    {
     "ename": "ERROR",
     "evalue": "Error in loadNamespace(i, c(lib.loc, .libPaths()), versionCheck = vI[[i]]): there is no package called ‘shiny’\n",
     "output_type": "error",
     "traceback": [
      "Error in loadNamespace(i, c(lib.loc, .libPaths()), versionCheck = vI[[i]]): there is no package called ‘shiny’\nTraceback:\n",
      "1. loadNamespace(x)",
      "2. namespaceImportFrom(ns, loadNamespace(j <- i[[1L]], c(lib.loc, \n .     .libPaths()), versionCheck = vI[[j]]), i[[2L]], from = package)",
      "3. asNamespace(ns)",
      "4. loadNamespace(j <- i[[1L]], c(lib.loc, .libPaths()), versionCheck = vI[[j]])",
      "5. namespaceImport(ns, loadNamespace(i, c(lib.loc, .libPaths()), \n .     versionCheck = vI[[i]]), from = package)",
      "6. loadNamespace(i, c(lib.loc, .libPaths()), versionCheck = vI[[i]])",
      "7. withRestarts(stop(cond), retry_loadNamespace = function() NULL)",
      "8. withOneRestart(expr, restarts[[1L]])",
      "9. doWithOneRestart(return(expr), restart)"
     ]
    }
   ],
   "source": [
    "devtools::install_github(\"dvera/harp\")"
   ]
  },
  {
   "cell_type": "code",
   "execution_count": null,
   "id": "5e9e0813-2e07-42fb-8245-1d0159edb3e7",
   "metadata": {},
   "outputs": [],
   "source": []
  }
 ],
 "metadata": {
  "kernelspec": {
   "display_name": "R",
   "language": "R",
   "name": "ir"
  },
  "language_info": {
   "codemirror_mode": "r",
   "file_extension": ".r",
   "mimetype": "text/x-r-source",
   "name": "R",
   "pygments_lexer": "r",
   "version": "4.2.2"
  }
 },
 "nbformat": 4,
 "nbformat_minor": 5
}
