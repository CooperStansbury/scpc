{
 "cells": [
  {
   "cell_type": "code",
   "execution_count": 26,
   "id": "464d4094-2c1e-4ef7-b071-0662433e262d",
   "metadata": {},
   "outputs": [],
   "source": [
    "import pandas as pd\n",
    "import os \n",
    "import sys\n",
    "import seaborn as sns\n",
    "import matplotlib.pyplot as plt"
   ]
  },
  {
   "cell_type": "code",
   "execution_count": 28,
   "id": "82bfe279-63c4-4d59-b490-8645ccd57a7e",
   "metadata": {},
   "outputs": [
    {
     "data": {
      "text/html": [
       "<div>\n",
       "<style scoped>\n",
       "    .dataframe tbody tr th:only-of-type {\n",
       "        vertical-align: middle;\n",
       "    }\n",
       "\n",
       "    .dataframe tbody tr th {\n",
       "        vertical-align: top;\n",
       "    }\n",
       "\n",
       "    .dataframe thead th {\n",
       "        text-align: right;\n",
       "    }\n",
       "</style>\n",
       "<table border=\"1\" class=\"dataframe\">\n",
       "  <thead>\n",
       "    <tr style=\"text-align: right;\">\n",
       "      <th></th>\n",
       "      <th>#rname</th>\n",
       "      <th>startpos</th>\n",
       "      <th>endpos</th>\n",
       "      <th>numreads</th>\n",
       "      <th>covbases</th>\n",
       "      <th>coverage</th>\n",
       "      <th>meandepth</th>\n",
       "      <th>meanbaseq</th>\n",
       "      <th>meanmapq</th>\n",
       "      <th>ref</th>\n",
       "    </tr>\n",
       "  </thead>\n",
       "  <tbody>\n",
       "    <tr>\n",
       "      <th>0</th>\n",
       "      <td>1</td>\n",
       "      <td>1</td>\n",
       "      <td>195154279</td>\n",
       "      <td>1633</td>\n",
       "      <td>151307</td>\n",
       "      <td>0.077532</td>\n",
       "      <td>0.001843</td>\n",
       "      <td>19.9</td>\n",
       "      <td>46.6</td>\n",
       "      <td>GRCm39</td>\n",
       "    </tr>\n",
       "    <tr>\n",
       "      <th>1</th>\n",
       "      <td>2</td>\n",
       "      <td>1</td>\n",
       "      <td>181755017</td>\n",
       "      <td>2542</td>\n",
       "      <td>150329</td>\n",
       "      <td>0.082710</td>\n",
       "      <td>0.003009</td>\n",
       "      <td>21.8</td>\n",
       "      <td>35.9</td>\n",
       "      <td>GRCm39</td>\n",
       "    </tr>\n",
       "    <tr>\n",
       "      <th>2</th>\n",
       "      <td>3</td>\n",
       "      <td>1</td>\n",
       "      <td>159745316</td>\n",
       "      <td>1321</td>\n",
       "      <td>134187</td>\n",
       "      <td>0.084001</td>\n",
       "      <td>0.001902</td>\n",
       "      <td>20.0</td>\n",
       "      <td>48.2</td>\n",
       "      <td>GRCm39</td>\n",
       "    </tr>\n",
       "    <tr>\n",
       "      <th>3</th>\n",
       "      <td>4</td>\n",
       "      <td>1</td>\n",
       "      <td>156860686</td>\n",
       "      <td>1473</td>\n",
       "      <td>153526</td>\n",
       "      <td>0.097874</td>\n",
       "      <td>0.002213</td>\n",
       "      <td>20.0</td>\n",
       "      <td>45.0</td>\n",
       "      <td>GRCm39</td>\n",
       "    </tr>\n",
       "    <tr>\n",
       "      <th>4</th>\n",
       "      <td>5</td>\n",
       "      <td>1</td>\n",
       "      <td>151758149</td>\n",
       "      <td>1347</td>\n",
       "      <td>120486</td>\n",
       "      <td>0.079393</td>\n",
       "      <td>0.001913</td>\n",
       "      <td>20.3</td>\n",
       "      <td>47.0</td>\n",
       "      <td>GRCm39</td>\n",
       "    </tr>\n",
       "  </tbody>\n",
       "</table>\n",
       "</div>"
      ],
      "text/plain": [
       "  #rname  startpos     endpos  numreads  covbases  coverage  meandepth  \\\n",
       "0      1         1  195154279      1633    151307  0.077532   0.001843   \n",
       "1      2         1  181755017      2542    150329  0.082710   0.003009   \n",
       "2      3         1  159745316      1321    134187  0.084001   0.001902   \n",
       "3      4         1  156860686      1473    153526  0.097874   0.002213   \n",
       "4      5         1  151758149      1347    120486  0.079393   0.001913   \n",
       "\n",
       "   meanbaseq  meanmapq     ref  \n",
       "0       19.9      46.6  GRCm39  \n",
       "1       21.8      35.9  GRCm39  \n",
       "2       20.0      48.2  GRCm39  \n",
       "3       20.0      45.0  GRCm39  \n",
       "4       20.3      47.0  GRCm39  "
      ]
     },
     "execution_count": 28,
     "metadata": {},
     "output_type": "execute_result"
    }
   ],
   "source": [
    "dpath = \"/scratch/indikar_root/indikar1/cstansbu/scpc_test/reports/coverage_by_reference/\"\n",
    "\n",
    "\n",
    "chroms = ['1', '2', '3', '4', '5', '6', '7', '8', '9', '10', '11', '12',\n",
    "       '13', '14', '15', '16', '17', '18', '19', 'X',]\n",
    "\n",
    "res = []\n",
    "\n",
    "for f in os.listdir(dpath):\n",
    "    ref = f.split(\".\")[0]\n",
    "    fpath = f\"{dpath}{f}\"\n",
    "    df = pd.read_csv(fpath, sep='\\t')\n",
    "    df = df[df['#rname'].isin(chroms)]\n",
    "    df['ref'] = ref\n",
    "    res.append(df)\n",
    "\n",
    "\n",
    "df = pd.concat(res)\n",
    "df.head()"
   ]
  },
  {
   "cell_type": "code",
   "execution_count": 30,
   "id": "eefb4fcc-a6e5-4813-80fd-fafddfe11154",
   "metadata": {},
   "outputs": [
    {
     "data": {
      "text/plain": [
       "Text(0.5, 0, 'chrom')"
      ]
     },
     "execution_count": 30,
     "metadata": {},
     "output_type": "execute_result"
    },
    {
     "data": {
      "image/png": "[encoded data removed]",
      "text/plain": [
       "<Figure size 640x480 with 1 Axes>"
      ]
     },
     "metadata": {},
     "output_type": "display_data"
    }
   ],
   "source": [
    "mask = (df['#rname'].isin(['1', '2', '5', '7', '19']))\n",
    "\n",
    "sns.barplot(data=df[mask], \n",
    "            x='#rname',\n",
    "            y='numreads',\n",
    "            ec='k',\n",
    "            hue='ref')\n",
    "\n",
    "plt.xlabel('chrom')"
   ]
  },
  {
   "cell_type": "code",
   "execution_count": null,
   "id": "f5b4a3d7-612e-435f-af2d-1dffa3cd82da",
   "metadata": {},
   "outputs": [],
   "source": []
  }
 ],
 "metadata": {
  "kernelspec": {
   "display_name": "Python 3 (ipykernel)",
   "language": "python",
   "name": "python3"
  },
  "language_info": {
   "codemirror_mode": {
    "name": "ipython",
    "version": 3
   },
   "file_extension": ".py",
   "mimetype": "text/x-python",
   "name": "python",
   "nbconvert_exporter": "python",
   "pygments_lexer": "ipython3",
   "version": "3.9.7"
  }
 },
 "nbformat": 4,
 "nbformat_minor": 5
}
