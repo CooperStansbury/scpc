{
 "cells": [
  {
   "cell_type": "code",
   "execution_count": 1,
   "id": "05791af8-a0ba-4c22-80ef-85dfde15b2eb",
   "metadata": {},
   "outputs": [],
   "source": [
    "import pysam \n",
    "import pandas as pd"
   ]
  },
  {
   "cell_type": "code",
   "execution_count": 11,
   "id": "0b6f893d-3ed2-42b0-8033-f77c7efa7b28",
   "metadata": {},
   "outputs": [
    {
     "name": "stdout",
     "output_type": "stream",
     "text": [
      "total=12255\n",
      "tagged=4\n"
     ]
    },
    {
     "name": "stderr",
     "output_type": "stream",
     "text": [
      "[E::idx_find_and_load] Could not retrieve index file for '/scratch/indikar_root/indikar1/cstansbu/scpc_test/longread/b01.f1219.phased.bam'\n"
     ]
    }
   ],
   "source": [
    "fpath = \"/scratch/indikar_root/indikar1/cstansbu/scpc_test/longread/b01.f1219.phased.bam\"\n",
    "\n",
    "bamfile = pysam.AlignmentFile(fpath, \"rb\")\n",
    "\n",
    "total = 0\n",
    "tagged = 0\n",
    "for rec in bamfile:\n",
    "    total += 1\n",
    "\n",
    "    if rec.has_tag('HP'):\n",
    "        tagged += 1\n",
    "        d = rec.to_dict()\n",
    "\n",
    "\n",
    "print(f\"{total=}\")\n",
    "print(f\"{tagged=}\")"
   ]
  },
  {
   "cell_type": "code",
   "execution_count": 12,
   "id": "4c9fcee7-c60e-4883-b7ad-ac58daff2960",
   "metadata": {},
   "outputs": [
    {
     "data": {
      "text/plain": [
       "{'name': '3e7b4add-077a-4034-95df-82e0a8118e85_11',\n",
       " 'flag': '0',\n",
       " 'ref_name': '2',\n",
       " 'ref_pos': '145651009',\n",
       " 'map_quality': '60',\n",
       " 'cigar': '4S5M2D150M2I43M5D91M8I5M2I16M3D57M1S',\n",
       " 'next_ref_name': '*',\n",
       " 'next_ref_pos': '0',\n",
       " 'length': '0',\n",
       " 'seq': 'AATGGCTCAGCATAGCCTGTGCTCAGTGCATAGCCTGTGCTCAATGCAGCTCCTGGGCTTCCTGCACGCCAGAATTGTAAGAAATAAACCTGTTGTTTATAAATTACCCCAACCTCAGGTACTCTGTTATAACAGCGTAAAACAGTATGTTGCAGATTATTTTTTTTCTCACTAGTGAGAAAATCAATAGCTTTTTGAAAAGACTTATGTGTTTAAGTGTTAGGCCTTATGTGTATGTCTGTATACTCTATGTGTGTGTGTGTGTGTGTGTGTGTGTGTGTGTGTGTGTGTGTGTGTGTGTGCACTCGCACACACACACACACAGTCATACTGTTTGGAAGAGGGTGTTGGATCCCTTAGAACTGAAGTTTTGGGTGGTCATGG',\n",
       " 'qual': \"022222254553++++,4676645432332----.46876564211123655678865433445740---./431121132233332223344431232121102012346422246632222467432////01.-,--.12243222000135310.-..5778:;65321000/012323422100/01238943323222232334445432100/('''())-***65422222544432223511112<=@@BEHFEEFFDDCDCCHDDD@AFDCCDCDJKFFGFDDHGEEF@>:8755''%%%)*<;;999=:<765/-+)(('&&''((2210011133////.00011543334454321112234553231012\",\n",
       " 'tags': ['NM:i:29',\n",
       "  'ms:i:643',\n",
       "  'AS:i:624',\n",
       "  'nn:i:0',\n",
       "  'tp:A:P',\n",
       "  'cm:i:32',\n",
       "  's1:i:233',\n",
       "  's2:i:0',\n",
       "  'de:f:0.0349',\n",
       "  'rl:i:72',\n",
       "  'HP:i:1',\n",
       "  'PS:i:145651263',\n",
       "  'PQ:i:40']}"
      ]
     },
     "execution_count": 12,
     "metadata": {},
     "output_type": "execute_result"
    }
   ],
   "source": [
    "d"
   ]
  },
  {
   "cell_type": "code",
   "execution_count": null,
   "id": "0dd46f6d-2ff4-4c60-9b29-95175b9ef7b1",
   "metadata": {},
   "outputs": [],
   "source": []
  }
 ],
 "metadata": {
  "kernelspec": {
   "display_name": "Python 3 (ipykernel)",
   "language": "python",
   "name": "python3"
  },
  "language_info": {
   "codemirror_mode": {
    "name": "ipython",
    "version": 3
   },
   "file_extension": ".py",
   "mimetype": "text/x-python",
   "name": "python",
   "nbconvert_exporter": "python",
   "pygments_lexer": "ipython3",
   "version": "3.9.7"
  }
 },
 "nbformat": 4,
 "nbformat_minor": 5
}
