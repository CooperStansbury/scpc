{
 "cells": [
  {
   "cell_type": "code",
   "execution_count": 1,
   "id": "2a501d37-44e1-4fe7-a0d9-2c8d557016de",
   "metadata": {},
   "outputs": [],
   "source": [
    "import pandas as pd"
   ]
  },
  {
   "cell_type": "code",
   "execution_count": 2,
   "id": "92b6dbc3-87ac-4215-bcd3-1b18f0efacd8",
   "metadata": {},
   "outputs": [
    {
     "data": {
      "text/html": [
       "<div>\n",
       "<style scoped>\n",
       "    .dataframe tbody tr th:only-of-type {\n",
       "        vertical-align: middle;\n",
       "    }\n",
       "\n",
       "    .dataframe tbody tr th {\n",
       "        vertical-align: top;\n",
       "    }\n",
       "\n",
       "    .dataframe thead th {\n",
       "        text-align: right;\n",
       "    }\n",
       "</style>\n",
       "<table border=\"1\" class=\"dataframe\">\n",
       "  <thead>\n",
       "    <tr style=\"text-align: right;\">\n",
       "      <th></th>\n",
       "      <th>Barcode</th>\n",
       "      <th>Sequence</th>\n",
       "      <th>IDs</th>\n",
       "    </tr>\n",
       "  </thead>\n",
       "  <tbody>\n",
       "    <tr>\n",
       "      <th>0</th>\n",
       "      <td>BC01</td>\n",
       "      <td>AAGAAAGTTGTCGGTGTCTTTGTG</td>\n",
       "      <td>BC01 / RB01</td>\n",
       "    </tr>\n",
       "    <tr>\n",
       "      <th>1</th>\n",
       "      <td>BC02</td>\n",
       "      <td>TCGATTCCGTTTGTAGTCGTCTGT</td>\n",
       "      <td>BC02 / RB02</td>\n",
       "    </tr>\n",
       "    <tr>\n",
       "      <th>2</th>\n",
       "      <td>BC03</td>\n",
       "      <td>GAGTCTTGTGTCCCAGTTACCAGG</td>\n",
       "      <td>BC03 / RB03</td>\n",
       "    </tr>\n",
       "    <tr>\n",
       "      <th>3</th>\n",
       "      <td>BC04</td>\n",
       "      <td>TTCGGATTCTATCGTGTTTCCCTA</td>\n",
       "      <td>BC04 / RB04</td>\n",
       "    </tr>\n",
       "    <tr>\n",
       "      <th>4</th>\n",
       "      <td>BC05</td>\n",
       "      <td>CTTGTCCAGGGTTTGTGTAACCTT</td>\n",
       "      <td>BC05 / RB05</td>\n",
       "    </tr>\n",
       "  </tbody>\n",
       "</table>\n",
       "</div>"
      ],
      "text/plain": [
       "  Barcode                  Sequence            IDs\n",
       "0    BC01  AAGAAAGTTGTCGGTGTCTTTGTG  BC01 / RB01  \n",
       "1    BC02  TCGATTCCGTTTGTAGTCGTCTGT  BC02 / RB02  \n",
       "2    BC03  GAGTCTTGTGTCCCAGTTACCAGG  BC03 / RB03  \n",
       "3    BC04  TTCGGATTCTATCGTGTTTCCCTA  BC04 / RB04  \n",
       "4    BC05  CTTGTCCAGGGTTTGTGTAACCTT  BC05 / RB05  "
      ]
     },
     "execution_count": 2,
     "metadata": {},
     "output_type": "execute_result"
    }
   ],
   "source": [
    "fpath = \"../../resources/ONT_barcode_96_sequences.csv\"\n",
    "\n",
    "df = pd.read_csv(fpath)\n",
    "df.head()"
   ]
  },
  {
   "cell_type": "code",
   "execution_count": 9,
   "id": "fe9bb1fe-08ca-4de3-afda-8d058df7d18e",
   "metadata": {},
   "outputs": [
    {
     "data": {
      "text/html": [
       "<div>\n",
       "<style scoped>\n",
       "    .dataframe tbody tr th:only-of-type {\n",
       "        vertical-align: middle;\n",
       "    }\n",
       "\n",
       "    .dataframe tbody tr th {\n",
       "        vertical-align: top;\n",
       "    }\n",
       "\n",
       "    .dataframe thead th {\n",
       "        text-align: right;\n",
       "    }\n",
       "</style>\n",
       "<table border=\"1\" class=\"dataframe\">\n",
       "  <thead>\n",
       "    <tr style=\"text-align: right;\">\n",
       "      <th></th>\n",
       "      <th>cell_id</th>\n",
       "      <th>barcode</th>\n",
       "    </tr>\n",
       "  </thead>\n",
       "  <tbody>\n",
       "    <tr>\n",
       "      <th>0</th>\n",
       "      <td>b01</td>\n",
       "      <td>AAGAAAGTTGTCGGTGTCTTTGTG</td>\n",
       "    </tr>\n",
       "    <tr>\n",
       "      <th>1</th>\n",
       "      <td>b02</td>\n",
       "      <td>TCGATTCCGTTTGTAGTCGTCTGT</td>\n",
       "    </tr>\n",
       "    <tr>\n",
       "      <th>2</th>\n",
       "      <td>b03</td>\n",
       "      <td>GAGTCTTGTGTCCCAGTTACCAGG</td>\n",
       "    </tr>\n",
       "    <tr>\n",
       "      <th>3</th>\n",
       "      <td>b04</td>\n",
       "      <td>TTCGGATTCTATCGTGTTTCCCTA</td>\n",
       "    </tr>\n",
       "    <tr>\n",
       "      <th>4</th>\n",
       "      <td>b05</td>\n",
       "      <td>CTTGTCCAGGGTTTGTGTAACCTT</td>\n",
       "    </tr>\n",
       "  </tbody>\n",
       "</table>\n",
       "</div>"
      ],
      "text/plain": [
       "  cell_id                   barcode\n",
       "0     b01  AAGAAAGTTGTCGGTGTCTTTGTG\n",
       "1     b02  TCGATTCCGTTTGTAGTCGTCTGT\n",
       "2     b03  GAGTCTTGTGTCCCAGTTACCAGG\n",
       "3     b04  TTCGGATTCTATCGTGTTTCCCTA\n",
       "4     b05  CTTGTCCAGGGTTTGTGTAACCTT"
      ]
     },
     "execution_count": 9,
     "metadata": {},
     "output_type": "execute_result"
    }
   ],
   "source": [
    "outpath = \"../../config/barcodes.txt\"\n",
    "pdf = df.copy()\n",
    "pdf = pdf[['Barcode', 'Sequence']]\n",
    "pdf.columns = ['cell_id', 'barcode']\n",
    "\n",
    "pdf['cell_id'] = pdf['cell_id'].str.replace('BC', 'b')\n",
    "pdf.to_csv(outpath, index=False)\n",
    "pdf.head()"
   ]
  },
  {
   "cell_type": "code",
   "execution_count": null,
   "id": "bb5ec5f7-043a-48c8-a675-73a63479969c",
   "metadata": {},
   "outputs": [],
   "source": []
  }
 ],
 "metadata": {
  "kernelspec": {
   "display_name": "Python 3 (ipykernel)",
   "language": "python",
   "name": "python3"
  },
  "language_info": {
   "codemirror_mode": {
    "name": "ipython",
    "version": 3
   },
   "file_extension": ".py",
   "mimetype": "text/x-python",
   "name": "python",
   "nbconvert_exporter": "python",
   "pygments_lexer": "ipython3",
   "version": "3.9.7"
  }
 },
 "nbformat": 4,
 "nbformat_minor": 5
}
