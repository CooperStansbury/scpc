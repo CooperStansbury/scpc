{
 "cells": [
  {
   "cell_type": "code",
   "execution_count": 1,
   "id": "1754c4b2-30f2-41d3-abe0-f1d5ff2d58b7",
   "metadata": {},
   "outputs": [],
   "source": [
    "import os\n",
    "import sys\n",
    "import pandas as pd\n",
    "import subprocess\n",
    "import shutil\n",
    "import numpy as np\n",
    "from pathlib import Path"
   ]
  },
  {
   "cell_type": "code",
   "execution_count": 2,
   "id": "2ffd2389-0970-4e94-8461-ca0623c13678",
   "metadata": {},
   "outputs": [
    {
     "name": "stdout",
     "output_type": "stream",
     "text": [
      "done\n"
     ]
    }
   ],
   "source": [
    "root_dir = \"/nfs/turbo/umms-indikar/shared/projects/poreC/data/raw_sequencing_files/\"\n",
    "\n",
    "barcodes = [f\"barcode{str(x).zfill(2)}\" for x in range(1, 97)]\n",
    "\n",
    "run_files = {}\n",
    "\n",
    "\n",
    "# collect all the files to merge\n",
    "for subdir in os.listdir(root_dir):\n",
    "    subdir_path = f\"{root_dir}{subdir}/\"\n",
    "\n",
    "    if not subdir in run_files:\n",
    "        run_files[subdir] = {}\n",
    "    \n",
    "    for pod5_dir in os.listdir(subdir_path):\n",
    "        source_path = f\"{root_dir}{subdir}/{pod5_dir}/\"\n",
    "\n",
    "        for barcode in barcodes:\n",
    "            barcode_path = f\"{source_path}{barcode}/\"\n",
    "            \n",
    "            if  not os.path.isdir(barcode_path):\n",
    "                continue\n",
    "            \n",
    "            file_list = os.listdir(barcode_path)\n",
    "            file_path_list = [f\"{barcode_path}{x}\" for x in file_list]\n",
    "\n",
    "            if not barcode in run_files[subdir]:\n",
    "                run_files[subdir][barcode] = file_path_list\n",
    "            else:\n",
    "                run_files[subdir][barcode].extend(file_path_list)\n",
    "\n",
    "print('done')"
   ]
  },
  {
   "cell_type": "code",
   "execution_count": 3,
   "id": "7e401fd5-3c16-4fe0-a738-e8f52cd93c34",
   "metadata": {},
   "outputs": [
    {
     "name": "stdout",
     "output_type": "stream",
     "text": [
      "done\n"
     ]
    }
   ],
   "source": [
    "# GLOBAL VARS\n",
    "outpath = \"/nfs/turbo/umms-indikar/shared/projects/poreC/data/raw_sequencing_files/\"\n",
    "new_dir_name = \"merged_pod5/\"\n",
    "pod5 = \"~/miniconda3/envs/scpc/bin/pod5\"\n",
    "threads = 36\n",
    "\n",
    "# LAUNCHER PARAMS\n",
    "\n",
    "# build the launcher script\n",
    "sub_commands = os.path.abspath(\"launcher_scripts/\")\n",
    "job_file_path = 'merge_pod5_launch.sh'\n",
    "\n",
    "try:\n",
    "    os.remove(job_file_path)\n",
    "except OSError:\n",
    "    pass\n",
    "\n",
    "# build the launcher script and sub_commands iteratively\n",
    "for run, barcodes in run_files.items():\n",
    "    for barcode, file_list in barcodes.items():\n",
    "        outname = f\"{outpath}{run}/{new_dir_name}{barcode}.pod5\"\n",
    "\n",
    "        cmd = f\"{pod5} merge {' '.join(file_list)} --threads {threads} -f --output {outname}\"\n",
    "\n",
    "        # add file to job list\n",
    "        launcher_command_path = f\"{sub_commands}/{run}_{barcode}.sh\"\n",
    "        print(launcher_command_path, file=open(job_file_path, \"a\"))\n",
    "\n",
    "        try:\n",
    "            os.remove(launcher_command_path)\n",
    "        except OSError:\n",
    "            pass\n",
    "\n",
    "        # build individual sub_commands\n",
    "        print(cmd, file=open(launcher_command_path, \"a\"))\n",
    "\n",
    "print('done')"
   ]
  },
  {
   "cell_type": "code",
   "execution_count": null,
   "id": "2340940f-586e-435c-96c9-a39ee6d88480",
   "metadata": {},
   "outputs": [],
   "source": []
  },
  {
   "cell_type": "code",
   "execution_count": null,
   "id": "59a8e1c1-fe93-4b9d-9581-8fccdc43f0c6",
   "metadata": {},
   "outputs": [],
   "source": []
  }
 ],
 "metadata": {
  "kernelspec": {
   "display_name": "Python 3 (ipykernel)",
   "language": "python",
   "name": "python3"
  },
  "language_info": {
   "codemirror_mode": {
    "name": "ipython",
    "version": 3
   },
   "file_extension": ".py",
   "mimetype": "text/x-python",
   "name": "python",
   "nbconvert_exporter": "python",
   "pygments_lexer": "ipython3",
   "version": "3.9.7"
  }
 },
 "nbformat": 4,
 "nbformat_minor": 5
}
