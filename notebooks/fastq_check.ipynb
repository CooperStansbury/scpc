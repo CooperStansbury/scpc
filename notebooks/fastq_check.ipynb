{
 "cells": [
  {
   "cell_type": "code",
   "execution_count": 1,
   "id": "46a28494-9a03-4469-be23-c5f30565b489",
   "metadata": {},
   "outputs": [],
   "source": [
    "import sys\n",
    "import re\n",
    "import numpy as np\n",
    "import pandas as pd\n",
    "import pysam\n",
    "import matplotlib.pyplot as plt\n",
    "import seaborn as sns\n",
    "import pysam\n",
    "import gget"
   ]
  },
  {
   "cell_type": "code",
   "execution_count": 2,
   "id": "7f75037d-126e-4610-bfad-5a944b9bfb7e",
   "metadata": {},
   "outputs": [
    {
     "data": {
      "text/html": [
       "<div>\n",
       "<style scoped>\n",
       "    .dataframe tbody tr th:only-of-type {\n",
       "        vertical-align: middle;\n",
       "    }\n",
       "\n",
       "    .dataframe tbody tr th {\n",
       "        vertical-align: top;\n",
       "    }\n",
       "\n",
       "    .dataframe thead th {\n",
       "        text-align: right;\n",
       "    }\n",
       "</style>\n",
       "<table border=\"1\" class=\"dataframe\">\n",
       "  <thead>\n",
       "    <tr style=\"text-align: right;\">\n",
       "      <th></th>\n",
       "      <th>n_frg</th>\n",
       "      <th>seq_len</th>\n",
       "    </tr>\n",
       "  </thead>\n",
       "  <tbody>\n",
       "    <tr>\n",
       "      <th>0</th>\n",
       "      <td>0</td>\n",
       "      <td>548</td>\n",
       "    </tr>\n",
       "    <tr>\n",
       "      <th>1</th>\n",
       "      <td>0</td>\n",
       "      <td>736</td>\n",
       "    </tr>\n",
       "    <tr>\n",
       "      <th>2</th>\n",
       "      <td>0</td>\n",
       "      <td>665</td>\n",
       "    </tr>\n",
       "    <tr>\n",
       "      <th>3</th>\n",
       "      <td>0</td>\n",
       "      <td>527</td>\n",
       "    </tr>\n",
       "    <tr>\n",
       "      <th>4</th>\n",
       "      <td>0</td>\n",
       "      <td>825</td>\n",
       "    </tr>\n",
       "  </tbody>\n",
       "</table>\n",
       "</div>"
      ],
      "text/plain": [
       "   n_frg  seq_len\n",
       "0      0      548\n",
       "1      0      736\n",
       "2      0      665\n",
       "3      0      527\n",
       "4      0      825"
      ]
     },
     "execution_count": 2,
     "metadata": {},
     "output_type": "execute_result"
    }
   ],
   "source": [
    "fpath = f\"/nfs/turbo/umms-indikar/shared/projects/poreC/data/fastq/p2/scPC96o_3/2024-02-01-scPC96o_3_run2/fastq_pass/barcode01/PAS93920_pass_barcode01_4b64fd13_79b31b3b_12.fastq.gz\"\n",
    "\n",
    "fastq = pysam.FastxFile(fpath)\n",
    "cutter = \"CATG\"\n",
    "\n",
    "res = []\n",
    "\n",
    "for read in fastq:\n",
    "    n_frg = read.sequence.count(cutter)\n",
    "    seq_len = len(read.sequence)\n",
    "\n",
    "    row = {\n",
    "        'n_frg' : n_frg,\n",
    "        'seq_len' : seq_len,\n",
    "    }\n",
    "    res.append(row)\n",
    "\n",
    "res = pd.DataFrame(res)\n",
    "res.head()"
   ]
  },
  {
   "cell_type": "code",
   "execution_count": 3,
   "id": "af482c17-b30c-4b15-a9e0-a038b12bd337",
   "metadata": {},
   "outputs": [
    {
     "data": {
      "text/plain": [
       "n_frg\n",
       "0     3672\n",
       "1      285\n",
       "2       30\n",
       "3        5\n",
       "4        2\n",
       "20       1\n",
       "17       1\n",
       "6        1\n",
       "12       1\n",
       "7        1\n",
       "5        1\n",
       "Name: count, dtype: int64"
      ]
     },
     "execution_count": 3,
     "metadata": {},
     "output_type": "execute_result"
    }
   ],
   "source": [
    "res['n_frg'].value_counts()"
   ]
  },
  {
   "cell_type": "code",
   "execution_count": 4,
   "id": "090f86f3-386e-4153-b93d-67ec25f87ae9",
   "metadata": {},
   "outputs": [
    {
     "data": {
      "text/plain": [
       "n_frg\n",
       "0     0.91800\n",
       "1     0.07125\n",
       "2     0.00750\n",
       "3     0.00125\n",
       "4     0.00050\n",
       "20    0.00025\n",
       "17    0.00025\n",
       "6     0.00025\n",
       "12    0.00025\n",
       "7     0.00025\n",
       "5     0.00025\n",
       "Name: proportion, dtype: float64"
      ]
     },
     "execution_count": 4,
     "metadata": {},
     "output_type": "execute_result"
    }
   ],
   "source": [
    "res['n_frg'].value_counts(normalize=True)"
   ]
  },
  {
   "cell_type": "code",
   "execution_count": 5,
   "id": "85e39687-b4bc-4af7-bba4-b0de5f274da1",
   "metadata": {},
   "outputs": [
    {
     "data": {
      "text/plain": [
       "<AxesSubplot: xlabel='n_frg', ylabel='seq_len'>"
      ]
     },
     "execution_count": 5,
     "metadata": {},
     "output_type": "execute_result"
    },
    {
     "data": {
      "image/png": "[encoded data removed]",
      "text/plain": [
       "<Figure size 640x480 with 1 Axes>"
      ]
     },
     "metadata": {},
     "output_type": "display_data"
    }
   ],
   "source": [
    "sns.histplot(data=res, \n",
    "             x='n_frg',\n",
    "             y='seq_len',\n",
    "             bins=(4, 10),\n",
    "             stat='percent',\n",
    "             discrete=(True, False),\n",
    "             )"
   ]
  },
  {
   "cell_type": "code",
   "execution_count": 28,
   "id": "582a395d-bc57-41dc-b75a-54037ad1ed95",
   "metadata": {},
   "outputs": [
    {
     "name": "stderr",
     "output_type": "stream",
     "text": [
      "Fri Feb 23 14:53:29 2024 INFO Sequence recognized as nucleotide sequence.\n",
      "Fri Feb 23 14:53:29 2024 INFO BLAST will use program 'blastn' with database 'nt'.\n"
     ]
    },
    {
     "name": "stdout",
     "output_type": "stream",
     "text": [
      "\n",
      "n_frg=0 seq_len=548\n",
      "ATGTGGCGCCTGACTCATTTCGCGTGTGCTGGTGCTGAAGAAGAGTCTGGTGTTTGTGTTAACCTTTATCTGGCTGTATGATGGTCAGGCCGCAACAGCAAGTCGTTAACACAAACGTCAGCAACTTTCTTCACACACAATATCCACACCAACAGAAAGGTTAACACAAAGACACCGACAACTTTTTTCAGCACCACAATATCAGCACCAACAGAAAGGTTAACGCGAAGACACCGACAACTTATTACTCAGCACCACGATCCAGCACCCAACAGAAAGGTTAACGCGAAGACACCGACAACTTTCTTCAGCACCACAATATCCAGCACGGACGGAAAGGTTGACGCAAAGACACCGACAACTTCTGGGCACGGCAATATCAGCACCAACAGAAAGGTTAACACGAAGACACCGACAACTTTCTTCAGCGCCGCAATATCAGCACCAACAGAAAGGTTAACGCAAAGACACCAACGGTTTCTTCAGCACCACAATATTCAGCACCAACCGAAAGGTTGACGCAAAGACACCGACAACTTTATTCAGCG\n"
     ]
    },
    {
     "name": "stderr",
     "output_type": "stream",
     "text": [
      "Fri Feb 23 14:53:29 2024 INFO BLAST initiated with search ID XHXXTVFR013. Estimated time to completion: 30 seconds.\n",
      "Fri Feb 23 14:54:01 2024 INFO Retrieving results...\n",
      "Fri Feb 23 14:54:01 2024 INFO Sequence recognized as nucleotide sequence.\n",
      "Fri Feb 23 14:54:01 2024 INFO BLAST will use program 'blastn' with database 'nt'.\n"
     ]
    },
    {
     "name": "stdout",
     "output_type": "stream",
     "text": [
      "\n",
      "n_frg=0 seq_len=736\n",
      "TATGTTTTGTTAGCATTTTACTTCGTTCAGTTACGTATTGCTGTGCTGAAGAAAGTTGTCGGTGTCTTTGTGTTAACCTACTTGCCTGTCGCTCTATCATCAGCACCAACAGAAAGGTTAACACAAAGACACCGACAACTTTCTTCAGCACCACAATATCAGCACCAACAGAAAGGTTAACACAGAAAGAACACCAACAACTTTTTTCACACCAACAGAAAGGTTAACACAAAGACACCGACAACTTTCTTCAGCACCACAATATCAGCACCAACAGAAAGGTTAACACAAAGACACCGACAACTTTCTTCAGCACCAAAGATAGAGCGACAGGCAAGTAGGTTAACACAAAGACACCGACAACTTTCTTCAGCACCGCAATATCAGCACCAACAGAAAGGTTAACACAAAGACACCGACAACTTTCTTCAGCACCGCAATATCAGCACCAACAGAAAGGTTAACACAAAGACACCGACAACTTTCTTCAGCAGCAATATCAGCACCAACAGAAAGGTTAACACAAAGACACCGACAACTTTCTTCAGCACCAATATCAGCACTAACAGAAAGGTTAACACAAAGACACCGACAACTTTCTTCAGCACCGCAATATCAGCACCAACAGAAAGGTTAACACAAAGACACCGACAACTTTCTTTTCAGCACCGCAATATCAGCACCAACAGAAAGGTTAACACAAAGACACCGACAACTTTCTTCAGAGCAATACGTT\n"
     ]
    },
    {
     "name": "stderr",
     "output_type": "stream",
     "text": [
      "Fri Feb 23 14:54:01 2024 INFO BLAST initiated with search ID XHXYTFEB013. Estimated time to completion: 30 seconds.\n",
      "Fri Feb 23 14:54:32 2024 INFO Retrieving results...\n",
      "Fri Feb 23 14:54:32 2024 INFO Sequence recognized as nucleotide sequence.\n",
      "Fri Feb 23 14:54:32 2024 INFO BLAST will use program 'blastn' with database 'nt'.\n"
     ]
    },
    {
     "name": "stdout",
     "output_type": "stream",
     "text": [
      "\n",
      "n_frg=0 seq_len=665\n",
      "ATGTCTGCTTCGTTCAGTTACGTATTGCTGGTGCTGAAGAAAGTTGTCGGTGTCTTTGTGTTAACCTTTCTGTTGGTGCTGATATTGCGGTGCTGAAGAAAGTTGTCGGTGTCTTTGTGTTAACCTTTCTGTTGGTGCTGATATTGCGGTGCTGAAGGAAGTTGTCGGTGTCTTTGTGTTAACCTTTCTGTTGGTGCTGATATTGCGGTGCTGAAGAAAGTTGTCGGTGTCTTTGTGTTAACCTTTCTGTTGGTGCTGATATTGCGGTGCTGAAGAAAGTTGTCGGTGTCTTTGTGTTAACCTTTCTGTTGGTGCTGATATTGCGGTGCTGAAGAAAGTTTGTCGGTGTCTTTGTGTTAACCTACTTGCCTGTCGCTCTATCTTCAGCACCAACGGAAGGGTTGACGCAAAGACACCGACAACTTTCTTCAGCACCGCAATATCAGCACCAACAGAAAGGTTGACGCAAAGACACCGACAACTTTCTTCAGCACAATGTAGGCACCAACAGAAAAGGCATACGCAAAGACACCAACAACTTATTTCAGCACCGCAATCTGGCCGACAGAAAGGTTAACACAAAGACACCGACAACTTTCTTCAGCACCGCAATATCGGCGCCAACAGAAAGGTTAACACAAAGACACCAGCACCAGCAATACGTT\n"
     ]
    },
    {
     "name": "stderr",
     "output_type": "stream",
     "text": [
      "Fri Feb 23 14:54:33 2024 INFO BLAST initiated with search ID XHXZSX4K013. Estimated time to completion: 30 seconds.\n",
      "Fri Feb 23 14:55:04 2024 INFO Retrieving results...\n",
      "Fri Feb 23 14:55:04 2024 INFO Sequence recognized as nucleotide sequence.\n",
      "Fri Feb 23 14:55:04 2024 INFO BLAST will use program 'blastn' with database 'nt'.\n"
     ]
    },
    {
     "name": "stdout",
     "output_type": "stream",
     "text": [
      "\n",
      "n_frg=0 seq_len=527\n",
      "GTTGTGCCTGTTGCTTCGTTCGTTCATCTGCTCTTTGTGTTAACCTACTTGCCTGTCGCTCTATCTTCAGCACCAACAGAAAGGTTAACACAAAGACACCGACAACTTTCTTCAGCACCACAATATCAGCACCAACAGAAAGGTTAACACAAAGACACCGACAACTTTCTTCAGCACCACAATATCAGCACCAACAGAAAGGTTAACACAAAGACACCGACAACTTTCTTCAGCACCGCAATATCAGCACCTACAGAAAGGTTAACACAAAGACACCGACAACTTTCTTCAGCACCGCAATATCAGCACCAACAGAAAGGTTAACACAAAGACACCGACAACTACGCCGCCACCGCTTACTTAACGCAATATGACGCGAACAAAGCTAACGCAAAAACACCGACAACTTTCTTCAGCACCACAATATCAGCACCAACAGAAAGGTTAACACAGAGACACCGACAACTTTCTTCAGCACCGCAATATCAGCACCAACAGAAAGGTTAACAGGATTCATTCCCACAGTA\n"
     ]
    },
    {
     "name": "stderr",
     "output_type": "stream",
     "text": [
      "Fri Feb 23 14:55:05 2024 INFO BLAST initiated with search ID XHY0SJ7X016. Estimated time to completion: 30 seconds.\n",
      "Fri Feb 23 14:55:35 2024 INFO Retrieving results...\n"
     ]
    },
    {
     "data": {
      "text/html": [
       "<div>\n",
       "<style scoped>\n",
       "    .dataframe tbody tr th:only-of-type {\n",
       "        vertical-align: middle;\n",
       "    }\n",
       "\n",
       "    .dataframe tbody tr th {\n",
       "        vertical-align: top;\n",
       "    }\n",
       "\n",
       "    .dataframe thead th {\n",
       "        text-align: right;\n",
       "    }\n",
       "</style>\n",
       "<table border=\"1\" class=\"dataframe\">\n",
       "  <thead>\n",
       "    <tr style=\"text-align: right;\">\n",
       "      <th></th>\n",
       "      <th>Description</th>\n",
       "      <th>Scientific Name</th>\n",
       "      <th>Common Name</th>\n",
       "      <th>Taxid</th>\n",
       "      <th>Max Score</th>\n",
       "      <th>Total Score</th>\n",
       "      <th>Query Cover</th>\n",
       "      <th>E value</th>\n",
       "      <th>Per. Ident</th>\n",
       "      <th>Acc. Len</th>\n",
       "      <th>Accession</th>\n",
       "      <th>read_name</th>\n",
       "    </tr>\n",
       "  </thead>\n",
       "  <tbody>\n",
       "    <tr>\n",
       "      <th>0</th>\n",
       "      <td>Uncultured Parasutterella sp. clone MinION_con...</td>\n",
       "      <td>uncultured Parasutterella sp.</td>\n",
       "      <td>NaN</td>\n",
       "      <td>1263098</td>\n",
       "      <td>104.0</td>\n",
       "      <td>456.0</td>\n",
       "      <td>55%</td>\n",
       "      <td>3.000000e-17</td>\n",
       "      <td>95.45%</td>\n",
       "      <td>4379</td>\n",
       "      <td>MN135767.1</td>\n",
       "      <td>0ae815fa-92c7-4af0-a36d-8683d9225b03</td>\n",
       "    </tr>\n",
       "    <tr>\n",
       "      <th>1</th>\n",
       "      <td>Uncultured Parasutterella sp. clone MinION_con...</td>\n",
       "      <td>uncultured Parasutterella sp.</td>\n",
       "      <td>NaN</td>\n",
       "      <td>1263098</td>\n",
       "      <td>91.6</td>\n",
       "      <td>382.0</td>\n",
       "      <td>44%</td>\n",
       "      <td>2.000000e-13</td>\n",
       "      <td>92.42%</td>\n",
       "      <td>4114</td>\n",
       "      <td>MN135768.1</td>\n",
       "      <td>0ae815fa-92c7-4af0-a36d-8683d9225b03</td>\n",
       "    </tr>\n",
       "    <tr>\n",
       "      <th>2</th>\n",
       "      <td>Uncultured Parasutterella sp. clone MinION_con...</td>\n",
       "      <td>uncultured Parasutterella sp.</td>\n",
       "      <td>NaN</td>\n",
       "      <td>1263098</td>\n",
       "      <td>75.0</td>\n",
       "      <td>199.0</td>\n",
       "      <td>25%</td>\n",
       "      <td>2.000000e-08</td>\n",
       "      <td>87.69%</td>\n",
       "      <td>4151</td>\n",
       "      <td>MN135764.1</td>\n",
       "      <td>0ae815fa-92c7-4af0-a36d-8683d9225b03</td>\n",
       "    </tr>\n",
       "    <tr>\n",
       "      <th>3</th>\n",
       "      <td>[Candida] auris isolate B12043 chromosome 5</td>\n",
       "      <td>[Candida] auris</td>\n",
       "      <td>NaN</td>\n",
       "      <td>498019</td>\n",
       "      <td>71.3</td>\n",
       "      <td>137.0</td>\n",
       "      <td>14%</td>\n",
       "      <td>3.000000e-07</td>\n",
       "      <td>97.56%</td>\n",
       "      <td>1029387</td>\n",
       "      <td>CP050670.1</td>\n",
       "      <td>0ae815fa-92c7-4af0-a36d-8683d9225b03</td>\n",
       "    </tr>\n",
       "    <tr>\n",
       "      <th>4</th>\n",
       "      <td>[Candida] auris isolate B12043 chromosome 2</td>\n",
       "      <td>[Candida] auris</td>\n",
       "      <td>NaN</td>\n",
       "      <td>498019</td>\n",
       "      <td>69.4</td>\n",
       "      <td>200.0</td>\n",
       "      <td>14%</td>\n",
       "      <td>1.000000e-06</td>\n",
       "      <td>97.50%</td>\n",
       "      <td>2565939</td>\n",
       "      <td>CP050667.1</td>\n",
       "      <td>0ae815fa-92c7-4af0-a36d-8683d9225b03</td>\n",
       "    </tr>\n",
       "  </tbody>\n",
       "</table>\n",
       "</div>"
      ],
      "text/plain": [
       "                                         Description  \\\n",
       "0  Uncultured Parasutterella sp. clone MinION_con...   \n",
       "1  Uncultured Parasutterella sp. clone MinION_con...   \n",
       "2  Uncultured Parasutterella sp. clone MinION_con...   \n",
       "3        [Candida] auris isolate B12043 chromosome 5   \n",
       "4        [Candida] auris isolate B12043 chromosome 2   \n",
       "\n",
       "                 Scientific Name Common Name    Taxid  Max Score  Total Score  \\\n",
       "0  uncultured Parasutterella sp.         NaN  1263098      104.0        456.0   \n",
       "1  uncultured Parasutterella sp.         NaN  1263098       91.6        382.0   \n",
       "2  uncultured Parasutterella sp.         NaN  1263098       75.0        199.0   \n",
       "3                [Candida] auris         NaN   498019       71.3        137.0   \n",
       "4                [Candida] auris         NaN   498019       69.4        200.0   \n",
       "\n",
       "  Query Cover       E value Per. Ident  Acc. Len   Accession  \\\n",
       "0         55%  3.000000e-17     95.45%      4379  MN135767.1   \n",
       "1         44%  2.000000e-13     92.42%      4114  MN135768.1   \n",
       "2         25%  2.000000e-08     87.69%      4151  MN135764.1   \n",
       "3         14%  3.000000e-07     97.56%   1029387  CP050670.1   \n",
       "4         14%  1.000000e-06     97.50%   2565939  CP050667.1   \n",
       "\n",
       "                              read_name  \n",
       "0  0ae815fa-92c7-4af0-a36d-8683d9225b03  \n",
       "1  0ae815fa-92c7-4af0-a36d-8683d9225b03  \n",
       "2  0ae815fa-92c7-4af0-a36d-8683d9225b03  \n",
       "3  0ae815fa-92c7-4af0-a36d-8683d9225b03  \n",
       "4  0ae815fa-92c7-4af0-a36d-8683d9225b03  "
      ]
     },
     "execution_count": 28,
     "metadata": {},
     "output_type": "execute_result"
    }
   ],
   "source": [
    "stop = 4\n",
    "count = -1\n",
    "fastq = pysam.FastxFile(fpath)\n",
    "\n",
    "res = []\n",
    "for read in fastq:\n",
    "    n_frg = read.sequence.count(cutter)\n",
    "    seq_len = len(read.sequence)\n",
    "    count += 1\n",
    "    if count == stop:\n",
    "        break\n",
    "\n",
    "    print()\n",
    "    print(f\"{n_frg=} {seq_len=}\")\n",
    "    print(read.sequence)\n",
    "    edf = gget.blast(read.sequence)\n",
    "    edf['read_name'] = read.name\n",
    "    res.append(edf)\n",
    "\n",
    "\n",
    "res = pd.concat(res)\n",
    "res.head()"
   ]
  },
  {
   "cell_type": "code",
   "execution_count": 7,
   "id": "c68c73ee-cbbd-42ab-aa01-a15bfdb33090",
   "metadata": {},
   "outputs": [
    {
     "data": {
      "text/plain": [
       "Scientific Name\n",
       "Trichoderma virens FT-333                          315\n",
       "uncultured Parasutterella sp.                      277\n",
       "[Candida] auris                                    225\n",
       "Lactiplantibacillus carotarum                      135\n",
       "Enterobacter hormaechei                             89\n",
       "uncultured Turicimonas sp.                          88\n",
       "Luteimonas granuli                                  45\n",
       "Streptomyces koelreuteriae                          45\n",
       "Nephridiophagidae sp.                               27\n",
       "Staphylococcus pseudintermedius                     27\n",
       "Heterocephalus glaber                               26\n",
       "Severe acute respiratory syndrome coronavirus 2     18\n",
       "Hebeloma theobrominum                               12\n",
       "Chrysodeixis includens                               8\n",
       "Staphylococcus phage S-CoN_Ph14                      4\n",
       "Mucor sp.                                            4\n",
       "Saccharomyces uvarum                                 3\n",
       "Mycolicibacterium novocastrense                      3\n",
       "Arsenophonus nasoniae                                2\n",
       "Pan troglodytes verus                                2\n",
       "Plasmodium berghei ANKA                              1\n",
       "Streptococcus dysgalactiae subsp. equisimilis        1\n",
       "Norovirus GII                                        1\n",
       "Antheraea yamamai                                    1\n",
       "Macaca mulatta                                       1\n",
       "Klebsiella pneumoniae                                1\n",
       "Name: count, dtype: int64"
      ]
     },
     "execution_count": 7,
     "metadata": {},
     "output_type": "execute_result"
    }
   ],
   "source": [
    "res['Scientific Name'].value_counts()"
   ]
  },
  {
   "cell_type": "code",
   "execution_count": 8,
   "id": "aa360b6b-54a6-49c6-adcc-fd512919d815",
   "metadata": {},
   "outputs": [
    {
     "data": {
      "text/plain": [
       "'Uncultured Parasutterella sp. clone MinION_consensus13 16S ribosomal RNA gene, partial sequence; 16S-23S ribosomal RNA intergenic spacer, complete sequence; and 23S ribosomal RNA gene, partial sequence'"
      ]
     },
     "execution_count": 8,
     "metadata": {},
     "output_type": "execute_result"
    }
   ],
   "source": [
    "res['Description'].values[0]"
   ]
  },
  {
   "cell_type": "code",
   "execution_count": 9,
   "id": "7c8f2349-46d5-43fe-aaea-9946fe617cdf",
   "metadata": {},
   "outputs": [
    {
     "data": {
      "text/html": [
       "<div>\n",
       "<style scoped>\n",
       "    .dataframe tbody tr th:only-of-type {\n",
       "        vertical-align: middle;\n",
       "    }\n",
       "\n",
       "    .dataframe tbody tr th {\n",
       "        vertical-align: top;\n",
       "    }\n",
       "\n",
       "    .dataframe thead th {\n",
       "        text-align: right;\n",
       "    }\n",
       "</style>\n",
       "<table border=\"1\" class=\"dataframe\">\n",
       "  <thead>\n",
       "    <tr style=\"text-align: right;\">\n",
       "      <th></th>\n",
       "      <th>Description</th>\n",
       "      <th>Scientific Name</th>\n",
       "      <th>Common Name</th>\n",
       "      <th>Taxid</th>\n",
       "      <th>Max Score</th>\n",
       "      <th>Total Score</th>\n",
       "      <th>Query Cover</th>\n",
       "      <th>E value</th>\n",
       "      <th>Per. Ident</th>\n",
       "      <th>Acc. Len</th>\n",
       "      <th>Accession</th>\n",
       "      <th>read_name</th>\n",
       "    </tr>\n",
       "  </thead>\n",
       "  <tbody>\n",
       "    <tr>\n",
       "      <th>0</th>\n",
       "      <td>Uncultured Parasutterella sp. clone MinION_con...</td>\n",
       "      <td>uncultured Parasutterella sp.</td>\n",
       "      <td>NaN</td>\n",
       "      <td>1263098</td>\n",
       "      <td>104.0</td>\n",
       "      <td>456.0</td>\n",
       "      <td>55%</td>\n",
       "      <td>3.000000e-17</td>\n",
       "      <td>95.45%</td>\n",
       "      <td>4379</td>\n",
       "      <td>MN135767.1</td>\n",
       "      <td>0ae815fa-92c7-4af0-a36d-8683d9225b03</td>\n",
       "    </tr>\n",
       "    <tr>\n",
       "      <th>1</th>\n",
       "      <td>Uncultured Parasutterella sp. clone MinION_con...</td>\n",
       "      <td>uncultured Parasutterella sp.</td>\n",
       "      <td>NaN</td>\n",
       "      <td>1263098</td>\n",
       "      <td>91.6</td>\n",
       "      <td>382.0</td>\n",
       "      <td>44%</td>\n",
       "      <td>2.000000e-13</td>\n",
       "      <td>92.42%</td>\n",
       "      <td>4114</td>\n",
       "      <td>MN135768.1</td>\n",
       "      <td>0ae815fa-92c7-4af0-a36d-8683d9225b03</td>\n",
       "    </tr>\n",
       "    <tr>\n",
       "      <th>2</th>\n",
       "      <td>Uncultured Parasutterella sp. clone MinION_con...</td>\n",
       "      <td>uncultured Parasutterella sp.</td>\n",
       "      <td>NaN</td>\n",
       "      <td>1263098</td>\n",
       "      <td>75.0</td>\n",
       "      <td>199.0</td>\n",
       "      <td>25%</td>\n",
       "      <td>2.000000e-08</td>\n",
       "      <td>87.69%</td>\n",
       "      <td>4151</td>\n",
       "      <td>MN135764.1</td>\n",
       "      <td>0ae815fa-92c7-4af0-a36d-8683d9225b03</td>\n",
       "    </tr>\n",
       "    <tr>\n",
       "      <th>3</th>\n",
       "      <td>[Candida] auris isolate B12043 chromosome 5</td>\n",
       "      <td>[Candida] auris</td>\n",
       "      <td>NaN</td>\n",
       "      <td>498019</td>\n",
       "      <td>71.3</td>\n",
       "      <td>137.0</td>\n",
       "      <td>14%</td>\n",
       "      <td>3.000000e-07</td>\n",
       "      <td>97.56%</td>\n",
       "      <td>1029387</td>\n",
       "      <td>CP050670.1</td>\n",
       "      <td>0ae815fa-92c7-4af0-a36d-8683d9225b03</td>\n",
       "    </tr>\n",
       "    <tr>\n",
       "      <th>4</th>\n",
       "      <td>[Candida] auris isolate B12043 chromosome 2</td>\n",
       "      <td>[Candida] auris</td>\n",
       "      <td>NaN</td>\n",
       "      <td>498019</td>\n",
       "      <td>69.4</td>\n",
       "      <td>200.0</td>\n",
       "      <td>14%</td>\n",
       "      <td>1.000000e-06</td>\n",
       "      <td>97.50%</td>\n",
       "      <td>2565939</td>\n",
       "      <td>CP050667.1</td>\n",
       "      <td>0ae815fa-92c7-4af0-a36d-8683d9225b03</td>\n",
       "    </tr>\n",
       "  </tbody>\n",
       "</table>\n",
       "</div>"
      ],
      "text/plain": [
       "                                         Description  \\\n",
       "0  Uncultured Parasutterella sp. clone MinION_con...   \n",
       "1  Uncultured Parasutterella sp. clone MinION_con...   \n",
       "2  Uncultured Parasutterella sp. clone MinION_con...   \n",
       "3        [Candida] auris isolate B12043 chromosome 5   \n",
       "4        [Candida] auris isolate B12043 chromosome 2   \n",
       "\n",
       "                 Scientific Name Common Name    Taxid  Max Score  Total Score  \\\n",
       "0  uncultured Parasutterella sp.         NaN  1263098      104.0        456.0   \n",
       "1  uncultured Parasutterella sp.         NaN  1263098       91.6        382.0   \n",
       "2  uncultured Parasutterella sp.         NaN  1263098       75.0        199.0   \n",
       "3                [Candida] auris         NaN   498019       71.3        137.0   \n",
       "4                [Candida] auris         NaN   498019       69.4        200.0   \n",
       "\n",
       "  Query Cover       E value Per. Ident  Acc. Len   Accession  \\\n",
       "0         55%  3.000000e-17     95.45%      4379  MN135767.1   \n",
       "1         44%  2.000000e-13     92.42%      4114  MN135768.1   \n",
       "2         25%  2.000000e-08     87.69%      4151  MN135764.1   \n",
       "3         14%  3.000000e-07     97.56%   1029387  CP050670.1   \n",
       "4         14%  1.000000e-06     97.50%   2565939  CP050667.1   \n",
       "\n",
       "                              read_name  \n",
       "0  0ae815fa-92c7-4af0-a36d-8683d9225b03  \n",
       "1  0ae815fa-92c7-4af0-a36d-8683d9225b03  \n",
       "2  0ae815fa-92c7-4af0-a36d-8683d9225b03  \n",
       "3  0ae815fa-92c7-4af0-a36d-8683d9225b03  \n",
       "4  0ae815fa-92c7-4af0-a36d-8683d9225b03  "
      ]
     },
     "execution_count": 9,
     "metadata": {},
     "output_type": "execute_result"
    }
   ],
   "source": [
    "res.head()"
   ]
  },
  {
   "cell_type": "code",
   "execution_count": 21,
   "id": "2cc1e03f-7464-4784-adce-ad25bdb28aed",
   "metadata": {},
   "outputs": [
    {
     "name": "stdout",
     "output_type": "stream",
     "text": [
      "ATGTGGCGCCTGACTCATTTCGCGTGTGCTGGTGCTGAAGAAGAGTCTGGTGTTTGTGTTAACCTTTATCTGGCTGTATGATGGTCAGGCCGCAACAGCAAGTCGTTAACACAAACGTCAGCAACTTTCTTCACACACAATATCCACACCAACAGAAAGGTTAACACAAAGACACCGACAACTTTTTTCAGCACCACAATATCAGCACCAACAGAAAGGTTAACGCGAAGACACCGACAACTTATTACTCAGCACCACGATCCAGCACCCAACAGAAAGGTTAACGCGAAGACACCGACAACTTTCTTCAGCACCACAATATCCAGCACGGACGGAAAGGTTGACGCAAAGACACCGACAACTTCTGGGCACGGCAATATCAGCACCAACAGAAAGGTTAACACGAAGACACCGACAACTTTCTTCAGCGCCGCAATATCAGCACCAACAGAAAGGTTAACGCAAAGACACCAACGGTTTCTTCAGCACCACAATATTCAGCACCAACCGAAAGGTTGACGCAAAGACACCGACAACTTTATTCAGCG\n",
      "\n",
      "array('B', [4, 5, 6, 6, 3, 3, 2, 3, 3, 3, 2, 3, 4, 3, 3, 2, 2, 2, 3, 4, 5, 5, 4, 4, 4, 3, 3, 3, 4, 8, 4, 5, 5, 6, 15, 15, 9, 9, 9, 8, 12, 14, 7, 8, 6, 7, 8, 8, 6, 5, 6, 9, 8, 7, 6, 7, 12, 12, 12, 19, 17, 18, 24, 20, 18, 18, 12, 8, 12, 7, 7, 5, 5, 5, 4, 7, 6, 5, 5, 4, 4, 7, 7, 7, 7, 4, 3, 3, 4, 5, 6, 7, 7, 4, 3, 4, 4, 4, 4, 8, 6, 6, 10, 12, 11, 12, 14, 15, 18, 22, 6, 5, 5, 7, 17, 14, 6, 5, 4, 4, 4, 4, 4, 5, 9, 9, 7, 5, 3, 5, 7, 8, 9, 7, 6, 7, 3, 3, 6, 8, 16, 15, 15, 11, 5, 5, 4, 5, 5, 10, 8, 13, 13, 22, 25, 29, 29, 39, 36, 41, 35, 32, 17, 16, 16, 15, 17, 10, 9, 10, 17, 24, 19, 19, 18, 22, 18, 18, 19, 19, 21, 19, 21, 16, 9, 7, 6, 10, 12, 14, 14, 28, 36, 34, 37, 31, 32, 27, 27, 28, 27, 29, 16, 13, 13, 13, 11, 12, 11, 10, 13, 17, 14, 11, 11, 13, 20, 19, 21, 21, 17, 15, 14, 14, 5, 5, 5, 5, 9, 11, 14, 13, 6, 6, 6, 6, 10, 10, 8, 7, 8, 8, 8, 5, 8, 6, 6, 6, 6, 7, 9, 12, 14, 12, 13, 13, 5, 5, 3, 4, 5, 5, 5, 4, 4, 6, 6, 7, 16, 13, 10, 22, 22, 22, 25, 25, 26, 33, 27, 28, 27, 14, 13, 14, 14, 8, 8, 6, 9, 10, 10, 14, 11, 8, 7, 8, 8, 13, 14, 13, 13, 13, 13, 13, 8, 9, 10, 12, 6, 16, 19, 19, 20, 27, 27, 24, 24, 9, 9, 9, 12, 21, 13, 8, 5, 7, 7, 3, 4, 4, 4, 14, 15, 15, 13, 13, 14, 21, 23, 28, 26, 26, 8, 7, 7, 8, 16, 8, 6, 6, 8, 9, 7, 5, 4, 7, 8, 9, 12, 11, 12, 13, 11, 11, 4, 7, 3, 3, 3, 5, 16, 18, 11, 11, 10, 12, 17, 18, 21, 22, 22, 20, 19, 21, 16, 16, 16, 9, 9, 9, 8, 9, 6, 6, 16, 15, 18, 24, 10, 9, 9, 10, 6, 6, 4, 5, 8, 8, 12, 10, 7, 8, 9, 9, 19, 21, 16, 16, 16, 17, 18, 15, 15, 15, 15, 15, 20, 26, 32, 15, 14, 14, 13, 18, 18, 17, 18, 18, 17, 17, 17, 22, 27, 22, 22, 22, 12, 12, 12, 12, 18, 17, 17, 23, 28, 36, 35, 34, 29, 28, 28, 6, 6, 5, 6, 5, 5, 18, 16, 10, 10, 9, 5, 5, 6, 4, 4, 4, 4, 5, 4, 4, 5, 5, 7, 5, 6, 12, 12, 13, 10, 12, 5, 5, 5, 5, 6, 6, 4, 5, 9, 12, 12, 13, 17, 12, 12, 15, 10, 9, 9, 10, 13, 28, 31, 29, 27, 9, 8, 8, 8, 11, 10, 11, 21, 21, 23, 21, 19, 21, 22, 22, 34, 35, 35, 36, 41, 32, 34, 26, 15, 16, 15, 10, 11, 11, 11, 11])\n"
     ]
    }
   ],
   "source": [
    "stop = 45\n",
    "count = -1\n",
    "fastq = pysam.FastxFile(fpath)\n",
    "\n",
    "res = []\n",
    "for read in fastq:\n",
    "    seq = read.sequence\n",
    "    quals = read.get_quality_array()\n",
    "    \n",
    "    print(seq)\n",
    "    print()\n",
    "    print(quals)\n",
    "\n",
    "    break"
   ]
  },
  {
   "cell_type": "code",
   "execution_count": 22,
   "id": "6aa722e0-9112-43e9-a263-507f142baaed",
   "metadata": {},
   "outputs": [
    {
     "data": {
      "text/plain": [
       "12.364963503649635"
      ]
     },
     "execution_count": 22,
     "metadata": {},
     "output_type": "execute_result"
    }
   ],
   "source": [
    "np.mean(quals)"
   ]
  },
  {
   "cell_type": "code",
   "execution_count": 26,
   "id": "8c92d523-4699-49c3-b2c0-7f0df0cc7a28",
   "metadata": {},
   "outputs": [
    {
     "data": {
      "text/plain": [
       "<AxesSubplot: ylabel='Count'>"
      ]
     },
     "execution_count": 26,
     "metadata": {},
     "output_type": "execute_result"
    },
    {
     "data": {
      "image/png": "[encoded data removed]",
      "text/plain": [
       "<Figure size 640x480 with 1 Axes>"
      ]
     },
     "metadata": {},
     "output_type": "display_data"
    }
   ],
   "source": [
    "fpath = f\"/nfs/turbo/umms-indikar/shared/projects/poreC/data/fastq/p2/scPC96o_2/Run2/fastq_pass/barcode01/PAS87012_pass_barcode01_a3fcacfb_67c73f7f_0.fastq.gz\"\n",
    "\n",
    "stop = 45\n",
    "count = -1\n",
    "fastq = pysam.FastxFile(fpath)\n",
    "\n",
    "res = []\n",
    "for read in fastq:\n",
    "    seq = read.sequence\n",
    "    quals = read.get_quality_array()\n",
    "    res.append(np.mean(quals))\n",
    "\n",
    "\n",
    "sns.histplot(res)"
   ]
  },
  {
   "cell_type": "code",
   "execution_count": 27,
   "id": "8d54671e-e035-43ae-a9ed-361723b5e642",
   "metadata": {},
   "outputs": [
    {
     "data": {
      "text/plain": [
       "<AxesSubplot: ylabel='Count'>"
      ]
     },
     "execution_count": 27,
     "metadata": {},
     "output_type": "execute_result"
    },
    {
     "data": {
      "image/png": "[encoded data removed]",
      "text/plain": [
       "<Figure size 640x480 with 1 Axes>"
      ]
     },
     "metadata": {},
     "output_type": "display_data"
    }
   ],
   "source": [
    "fpath = f\"/nfs/turbo/umms-indikar/shared/projects/poreC/data/fastq/p2/scPC96o_3/2024-02-01-scPC96o_3_run2/fastq_pass/barcode01/PAS93920_pass_barcode01_4b64fd13_79b31b3b_12.fastq.gz\"\n",
    "\n",
    "stop = 45\n",
    "count = -1\n",
    "fastq = pysam.FastxFile(fpath)\n",
    "\n",
    "res = []\n",
    "for read in fastq:\n",
    "    seq = read.sequence\n",
    "    quals = read.get_quality_array()\n",
    "    res.append(np.mean(quals))\n",
    "\n",
    "sns.histplot(res)"
   ]
  },
  {
   "cell_type": "code",
   "execution_count": null,
   "id": "ea041b15-baef-4f8e-804e-c76584f5afa5",
   "metadata": {},
   "outputs": [],
   "source": []
  }
 ],
 "metadata": {
  "kernelspec": {
   "display_name": "Python 3 (ipykernel)",
   "language": "python",
   "name": "python3"
  },
  "language_info": {
   "codemirror_mode": {
    "name": "ipython",
    "version": 3
   },
   "file_extension": ".py",
   "mimetype": "text/x-python",
   "name": "python",
   "nbconvert_exporter": "python",
   "pygments_lexer": "ipython3",
   "version": "3.9.7"
  }
 },
 "nbformat": 4,
 "nbformat_minor": 5
}
