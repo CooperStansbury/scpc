{
 "cells": [
  {
   "cell_type": "code",
   "execution_count": 4,
   "id": "791631da-48fb-4a84-a99d-91c524412c04",
   "metadata": {},
   "outputs": [],
   "source": [
    "import sys\n",
    "import re\n",
    "import os\n",
    "import numpy as np\n",
    "import pandas as pd\n",
    "import pysam\n",
    "import matplotlib.pyplot as plt\n",
    "import seaborn as sns\n",
    "import pysam\n",
    "from Bio.Seq import Seq\n",
    "import gget\n",
    "import mappy as mp"
   ]
  },
  {
   "cell_type": "code",
   "execution_count": 5,
   "id": "f1298498-fd6f-440a-86ca-1020f5de7352",
   "metadata": {},
   "outputs": [
    {
     "name": "stdout",
     "output_type": "stream",
     "text": [
      "96\n"
     ]
    },
    {
     "ename": "KeyboardInterrupt",
     "evalue": "",
     "output_type": "error",
     "traceback": [
      "\u001b[0;31m---------------------------------------------------------------------------\u001b[0m",
      "\u001b[0;31mKeyboardInterrupt\u001b[0m                         Traceback (most recent call last)",
      "Cell \u001b[0;32mIn[5], line 38\u001b[0m\n\u001b[1;32m     35\u001b[0m bc_number \u001b[38;5;241m=\u001b[39m sample\u001b[38;5;241m.\u001b[39mreplace(\u001b[38;5;124m\"\u001b[39m\u001b[38;5;124mbarcode\u001b[39m\u001b[38;5;124m\"\u001b[39m, \u001b[38;5;124m\"\u001b[39m\u001b[38;5;124m\"\u001b[39m)\u001b[38;5;241m.\u001b[39mreplace(\u001b[38;5;124m\"\u001b[39m\u001b[38;5;124m.fastq\u001b[39m\u001b[38;5;124m\"\u001b[39m, \u001b[38;5;124m\"\u001b[39m\u001b[38;5;124m\"\u001b[39m)\n\u001b[1;32m     36\u001b[0m bc_id \u001b[38;5;241m=\u001b[39m \u001b[38;5;124mf\u001b[39m\u001b[38;5;124m\"\u001b[39m\u001b[38;5;124mBC\u001b[39m\u001b[38;5;132;01m{\u001b[39;00mbc_number\u001b[38;5;132;01m}\u001b[39;00m\u001b[38;5;124m\"\u001b[39m\n\u001b[0;32m---> 38\u001b[0m df \u001b[38;5;241m=\u001b[39m \u001b[43mread_fastq\u001b[49m\u001b[43m(\u001b[49m\u001b[43msample_path\u001b[49m\u001b[43m)\u001b[49m\n\u001b[1;32m     39\u001b[0m df[\u001b[38;5;124m'\u001b[39m\u001b[38;5;124mrun\u001b[39m\u001b[38;5;124m'\u001b[39m] \u001b[38;5;241m=\u001b[39m run\n\u001b[1;32m     40\u001b[0m df[\u001b[38;5;124m'\u001b[39m\u001b[38;5;124mbarcode\u001b[39m\u001b[38;5;124m'\u001b[39m] \u001b[38;5;241m=\u001b[39m bc_id\n",
      "Cell \u001b[0;32mIn[5], line 10\u001b[0m, in \u001b[0;36mread_fastq\u001b[0;34m(fpath)\u001b[0m\n\u001b[1;32m      8\u001b[0m \u001b[38;5;28;01mfor\u001b[39;00m read \u001b[38;5;129;01min\u001b[39;00m pysam\u001b[38;5;241m.\u001b[39mFastxFile(fpath):\n\u001b[1;32m      9\u001b[0m     NlaIII \u001b[38;5;241m=\u001b[39m read\u001b[38;5;241m.\u001b[39msequence\u001b[38;5;241m.\u001b[39mcount(\u001b[38;5;124m'\u001b[39m\u001b[38;5;124mCATG\u001b[39m\u001b[38;5;124m'\u001b[39m)\n\u001b[0;32m---> 10\u001b[0m     quals \u001b[38;5;241m=\u001b[39m \u001b[43mread\u001b[49m\u001b[38;5;241;43m.\u001b[39;49m\u001b[43mget_quality_array\u001b[49m\u001b[43m(\u001b[49m\u001b[43m)\u001b[49m\n\u001b[1;32m     11\u001b[0m     row \u001b[38;5;241m=\u001b[39m {\n\u001b[1;32m     12\u001b[0m         \u001b[38;5;124m'\u001b[39m\u001b[38;5;124mread_name\u001b[39m\u001b[38;5;124m'\u001b[39m : read\u001b[38;5;241m.\u001b[39mname,\n\u001b[1;32m     13\u001b[0m         \u001b[38;5;124m'\u001b[39m\u001b[38;5;124mseq_length\u001b[39m\u001b[38;5;124m'\u001b[39m : \u001b[38;5;28mlen\u001b[39m(read\u001b[38;5;241m.\u001b[39msequence),\n\u001b[0;32m   (...)\u001b[0m\n\u001b[1;32m     19\u001b[0m         \u001b[38;5;124m'\u001b[39m\u001b[38;5;124msequence\u001b[39m\u001b[38;5;124m'\u001b[39m : read\u001b[38;5;241m.\u001b[39msequence,\n\u001b[1;32m     20\u001b[0m     }\n\u001b[1;32m     22\u001b[0m     res\u001b[38;5;241m.\u001b[39mappend(row)\n",
      "\u001b[0;31mKeyboardInterrupt\u001b[0m: "
     ]
    }
   ],
   "source": [
    "root_dir = \"/nfs/turbo/umms-indikar/shared/projects/poreC/data/fastq/p2/\"\n",
    "\n",
    "res = []\n",
    "\n",
    "def read_fastq(fpath):\n",
    "    \"\"\"a function to parse a fastq file \"\"\"\n",
    "    res = []\n",
    "    for read in pysam.FastxFile(fpath):\n",
    "        NlaIII = read.sequence.count('CATG')\n",
    "        quals = read.get_quality_array()\n",
    "        row = {\n",
    "            'read_name' : read.name,\n",
    "            'seq_length' : len(read.sequence),\n",
    "            'n_NlaIII' : NlaIII,\n",
    "            'mean_base_quality' : np.mean(quals),\n",
    "            'median_base_quality' : np.median(quals),\n",
    "            'min_base_quality' : np.min(quals),\n",
    "            'max_base_quality' : np.max(quals),\n",
    "            'sequence' : read.sequence,\n",
    "        }\n",
    "\n",
    "        res.append(row)\n",
    "    return pd.DataFrame(res)\n",
    "    \n",
    "res = []\n",
    "for run in os.listdir(root_dir):\n",
    "\n",
    "    subdir_path = f\"{root_dir}{run}/merged_fastq/\"\n",
    "    sample_files = os.listdir(subdir_path)\n",
    "    sample_files = [x for x in sample_files if not x == 'unclassified.fastq']\n",
    "    print(len(sample_files))\n",
    "\n",
    "    for sample in sample_files:\n",
    "        sample_path = f\"{subdir_path}{sample}\"\n",
    "        bc_number = sample.replace(\"barcode\", \"\").replace(\".fastq\", \"\")\n",
    "        bc_id = f\"BC{bc_number}\"\n",
    "\n",
    "        df = read_fastq(sample_path)\n",
    "        df['run'] = run\n",
    "        df['barcode'] = bc_id\n",
    "        res.append(df)\n",
    "\n",
    "res = pd.concat(res)\n",
    "print(f\"{res.shape=}\")\n",
    "print(f\"{res['read_name'].nunique()=}\")\n",
    "res.head()"
   ]
  },
  {
   "cell_type": "code",
   "execution_count": null,
   "id": "d24ddd3f-ee05-4291-ae9e-454e94952eac",
   "metadata": {},
   "outputs": [],
   "source": [
    "break"
   ]
  },
  {
   "cell_type": "code",
   "execution_count": null,
   "id": "c618be6f-7525-4feb-b968-9c0470ad8d1e",
   "metadata": {},
   "outputs": [],
   "source": [
    "# load ont_barcodes\n",
    "fpath = \"../resources/ONT_barcode_96_sequences.csv\"\n",
    "df = pd.read_csv(fpath)\n",
    "codes = dict(zip(df.Barcode.values, df.Sequence.values))\n",
    "df.head()"
   ]
  },
  {
   "cell_type": "code",
   "execution_count": null,
   "id": "67e45a66-d71b-41e2-9a38-6d03fa9fd7f4",
   "metadata": {},
   "outputs": [],
   "source": [
    "# for _, record in res.sample(40).iterrows():\n",
    "#     barcode = record['barcode']\n",
    "#     read_name = record['read_name']\n",
    "#     ont_seq = codes[barcode]\n",
    "#     read_seq = record['sequence']\n",
    "#     seq_len = record[\"seq_length\"]\n",
    "#     n_NlaIII = record[\"n_NlaIII\"]\n",
    "\n",
    "#     rev_comp = str(Seq(barcode).reverse_complement())\n",
    "\n",
    "#     has_code = ont_seq in read_seq\n",
    "#     has_code_rev = rev_comp in read_seq\n",
    "#     print(f\"{barcode=} {n_NlaIII=} {seq_len=} {has_code=}\")"
   ]
  },
  {
   "cell_type": "code",
   "execution_count": null,
   "id": "635bfa08-fcb6-4db6-9c2d-edc7bb8c5bf0",
   "metadata": {},
   "outputs": [],
   "source": [
    "df = []\n",
    "\n",
    "for _, record in res.iterrows():\n",
    "    barcode = record['barcode']\n",
    "    read_name = record['read_name']\n",
    "    ont_seq = codes[barcode]\n",
    "    read_seq = record['sequence']\n",
    "    seq_len = record[\"seq_length\"]\n",
    "    n_NlaIII = record[\"n_NlaIII\"]\n",
    "\n",
    "    hits = read_seq.count(ont_seq)\n",
    "    hits_rc = read_seq.count(str(Seq(ont_seq).reverse_complement()))\n",
    "\n",
    "    row = {\n",
    "        'run' : record['run'],\n",
    "        'read_name' : read_name,\n",
    "        'barcode' : barcode,\n",
    "        'seq_len' : seq_len,\n",
    "        'n_NlaIII' : n_NlaIII,\n",
    "        'n_barcodes' : hits,\n",
    "        'n_barcodes_rc' : hits_rc,\n",
    "        'mean_base_quality' : record['mean_base_quality'],\n",
    "    }\n",
    "\n",
    "    df.append(row)\n",
    "\n",
    "df  = pd.DataFrame(df)\n",
    "df.head()\n"
   ]
  },
  {
   "cell_type": "markdown",
   "id": "ecd2dff4-a87e-4a64-8296-ae0f993a37ae",
   "metadata": {},
   "source": [
    "# count NlaIII sites"
   ]
  },
  {
   "cell_type": "code",
   "execution_count": null,
   "id": "93ab6f2a-13b4-4696-b513-9d1081331164",
   "metadata": {},
   "outputs": [],
   "source": [
    "df['ord'] = np.where(df['n_NlaIII'] == 0, 'none', 'higher')\n",
    "df['ord'] = np.where(df['n_NlaIII'] == 1, 'pair', df['ord'] )\n",
    "df['ord'].value_counts(normalize=True)"
   ]
  },
  {
   "cell_type": "markdown",
   "id": "6c852518-3bc7-4062-a51f-3b3e0fa17243",
   "metadata": {},
   "source": [
    "# count barcodes"
   ]
  },
  {
   "cell_type": "code",
   "execution_count": null,
   "id": "446bf17a-0243-4878-bfb0-79ba241560a8",
   "metadata": {},
   "outputs": [],
   "source": [
    "df['cat'] = np.where(df['n_barcodes'] == 1, 'one', 'none')\n",
    "df['cat'] = np.where(df['n_barcodes'] > 1, 'mulitple', df['cat'])\n",
    "\n",
    "print(df.shape)\n",
    "print(df['barcode'].nunique())\n",
    "df['cat'].value_counts(normalize=True)"
   ]
  },
  {
   "cell_type": "code",
   "execution_count": null,
   "id": "12de30bc-571d-420c-a82d-f74e80cb9f76",
   "metadata": {},
   "outputs": [],
   "source": [
    "df['cat_rc'] = np.where(df['n_barcodes_rc'] == 1, 'one', 'none')\n",
    "df['cat_rc'] = np.where(df['n_barcodes_rc'] > 1, 'mulitple', df['cat_rc'])\n",
    "\n",
    "print(df.shape)\n",
    "print(df['barcode'].nunique())\n",
    "df['cat_rc'].value_counts(normalize=True)"
   ]
  },
  {
   "cell_type": "code",
   "execution_count": null,
   "id": "e461fd06-a2dc-4037-ac0f-f41415461dfb",
   "metadata": {},
   "outputs": [],
   "source": [
    "plt.rcParams['figure.figsize'] = 5, 3\n",
    "plt.rcParams['figure.dpi'] = 200\n",
    "\n",
    "M = pd.crosstab(df['cat'], df['ord'], normalize=True)\n",
    "print(M)\n",
    "sns.heatmap(M, annot=True,  fmt=\".2f\", lw=1, cbar=False)"
   ]
  },
  {
   "cell_type": "code",
   "execution_count": null,
   "id": "3b3d9d74-1ee9-4d21-a42b-4c1286bdf287",
   "metadata": {},
   "outputs": [],
   "source": [
    "plt.rcParams['figure.figsize'] = 5, 3\n",
    "plt.rcParams['figure.dpi'] = 200\n",
    "\n",
    "M = pd.crosstab(df['cat_rc'], df['ord'], normalize=True)\n",
    "print(M)\n",
    "sns.heatmap(M, annot=True,  fmt=\".2f\", lw=1, cbar=False)"
   ]
  },
  {
   "cell_type": "code",
   "execution_count": null,
   "id": "68b7e084-2abe-46fe-8eb0-9eda1482216f",
   "metadata": {},
   "outputs": [],
   "source": [
    "plt.rcParams['figure.figsize'] = 5, 3\n",
    "plt.rcParams['figure.dpi'] = 200\n",
    "\n",
    "M = pd.crosstab(df['cat'], df['cat_rc'], normalize=True)\n",
    "print(M)\n",
    "sns.heatmap(M, annot=True,  fmt=\".2f\", lw=1, cbar=False)"
   ]
  },
  {
   "cell_type": "markdown",
   "id": "e68fda3a-aa0c-41ec-8e0a-680abc46011e",
   "metadata": {},
   "source": [
    "# number of reads with exactly one barcode (RC + forward)"
   ]
  },
  {
   "cell_type": "code",
   "execution_count": null,
   "id": "f6f73682-809f-40ad-a645-8bb3053dab09",
   "metadata": {},
   "outputs": [],
   "source": [
    "test = df[df['n_barcodes'].isin([0, 1])]\n",
    "test = test[test['n_barcodes_rc'].isin([0, 1])]\n",
    "\n",
    "test = test[(test['n_barcodes'] != 0) & (test['n_barcodes_rc'] != 0)]\n",
    "\n",
    "print(f\"{test.shape=}\")\n",
    "print(test['ord'].value_counts(normalize=True))\n",
    "\n",
    "test.head()"
   ]
  },
  {
   "cell_type": "code",
   "execution_count": null,
   "id": "4e64b1fc-c78a-47eb-ba9f-1651193688c5",
   "metadata": {},
   "outputs": [],
   "source": [
    "plt.rcParams['figure.figsize'] = 8, 2.5\n",
    "plt.rcParams['figure.dpi'] = 200\n",
    "\n",
    "sns.boxplot(data=df, \n",
    "                x='n_barcodes',\n",
    "                y='mean_base_quality',\n",
    "                showfliers=False)\n",
    "\n",
    "plt.show()"
   ]
  },
  {
   "cell_type": "code",
   "execution_count": null,
   "id": "24f4350b-7825-453b-851f-f181159c20a8",
   "metadata": {},
   "outputs": [],
   "source": [
    "plt.rcParams['figure.figsize'] = 8, 2.5\n",
    "plt.rcParams['figure.dpi'] = 200\n",
    "\n",
    "sns.boxplot(data=df, \n",
    "                x='n_barcodes',\n",
    "                y='seq_len',\n",
    "                showfliers=False)\n",
    "plt.show()"
   ]
  },
  {
   "cell_type": "code",
   "execution_count": null,
   "id": "7f270bcf-978d-49e3-bca5-a1d161af79fb",
   "metadata": {},
   "outputs": [],
   "source": [
    "plt.rcParams['figure.figsize'] = 4, 3\n",
    "plt.rcParams['figure.dpi'] = 200\n",
    "\n",
    "sns.boxplot(data=df, \n",
    "                x='run',\n",
    "                y='n_barcodes')\n",
    "plt.show()"
   ]
  },
  {
   "cell_type": "code",
   "execution_count": null,
   "id": "d36f7a29-c426-46c8-86bd-d47933fbb26d",
   "metadata": {},
   "outputs": [],
   "source": [
    "plt.rcParams['figure.figsize'] = 8, 2.5\n",
    "plt.rcParams['figure.dpi'] = 200\n",
    "\n",
    "sns.boxplot(data=df,\n",
    "            x='barcode',\n",
    "            y='n_barcodes',\n",
    "            showfliers=False)\n",
    "\n",
    "plt.xticks([])\n",
    "plt.show()"
   ]
  },
  {
   "cell_type": "markdown",
   "id": "5eef2ce6-ee06-4a0a-adae-45286b83b00f",
   "metadata": {},
   "source": [
    "# multiple barcodes"
   ]
  },
  {
   "cell_type": "code",
   "execution_count": null,
   "id": "cca137e6-9617-4edf-a918-367d039803f6",
   "metadata": {},
   "outputs": [],
   "source": [
    "# let's look at a few extreme cases\n",
    "barcodes = df[df['n_barcodes'] > 15]['read_name'].unique()\n",
    "pdf = res[res['read_name'].isin(barcodes)]\n",
    "\n",
    "for _, record in pdf.head(10).iterrows():\n",
    "    print(\"===== \", record['run'], record['barcode'], \" =====\")\n",
    "    ont_seq = codes[record['barcode']]\n",
    "    ont_seq_rc = str(Seq(ont_seq).reverse_complement())\n",
    "    print('READ NAME: ', record['read_name'])\n",
    "    print('NUMBER NlaIII SITES: ', record['n_NlaIII'])\n",
    "    print('ONT BARCODE: ', ont_seq)\n",
    "    print('ONT BARCODE (RC): ', ont_seq_rc)\n",
    "\n",
    "    red_ont = f\"\\033[91m{ont_seq}\\033[0m\"\n",
    "    blue_ont = f\"\\033[94m{ont_seq_rc}\\033[0m\"\n",
    "    cutter = f\"\\033[92mCATG\\033[0m\"\n",
    "    highlighted_text = re.sub(ont_seq, red_ont, record['sequence'])\n",
    "    highlighted_text = re.sub(ont_seq_rc, blue_ont, highlighted_text)\n",
    "    highlighted_text = re.sub('CATG', cutter, highlighted_text)\n",
    "    print('READ SEQUENCE: ', highlighted_text)\n",
    "    print()"
   ]
  },
  {
   "cell_type": "markdown",
   "id": "8957522e-c1b8-401b-ba7d-7ca59b16dca5",
   "metadata": {},
   "source": [
    "# Extactly one forward barcode"
   ]
  },
  {
   "cell_type": "code",
   "execution_count": null,
   "id": "f7dfb0fd-ff02-4d81-bc69-d0c46b969406",
   "metadata": {},
   "outputs": [],
   "source": [
    "# let's look at a few extreme cases\n",
    "barcodes = df[(df['n_barcodes'] == 1) ]['read_name'].unique()\n",
    "pdf = res[res['read_name'].isin(barcodes)]\n",
    "\n",
    "\n",
    "for _, record in pdf.head(10).iterrows():\n",
    "    print(\"===== \", record['run'], record['barcode'], \" =====\")\n",
    "    ont_seq = codes[record['barcode']]\n",
    "    ont_seq_rc = str(Seq(ont_seq).reverse_complement())\n",
    "    print('READ NAME: ', record['read_name'])\n",
    "    print('NUMBER NlaIII SITES: ', record['n_NlaIII'])\n",
    "    print('ONT BARCODE: ', ont_seq)\n",
    "    print('ONT BARCODE (RC): ', ont_seq_rc)\n",
    "\n",
    "    red_ont = f\"\\033[91m{ont_seq}\\033[0m\"\n",
    "    blue_ont = f\"\\033[94m{ont_seq_rc}\\033[0m\"\n",
    "    cutter = f\"\\033[92mCATG\\033[0m\"\n",
    "    highlighted_text = re.sub(ont_seq, red_ont, record['sequence'])\n",
    "    highlighted_text = re.sub(ont_seq_rc, blue_ont, highlighted_text)\n",
    "    highlighted_text = re.sub('CATG', cutter, highlighted_text)\n",
    "    print('READ SEQUENCE: ', highlighted_text)\n",
    "    print()\n"
   ]
  },
  {
   "cell_type": "code",
   "execution_count": null,
   "id": "fe545fed-8c37-45b7-a6ef-4a5066460416",
   "metadata": {},
   "outputs": [],
   "source": [
    "# let's look at a few extreme cases\n",
    "barcodes = df[(df['n_barcodes_rc'] == 1) ]['read_name'].unique()\n",
    "pdf = res[res['read_name'].isin(barcodes)]\n",
    "\n",
    "\n",
    "for _, record in pdf.head(10).iterrows():\n",
    "    print(\"===== \", record['run'], record['barcode'], \" =====\")\n",
    "    ont_seq = codes[record['barcode']]\n",
    "    ont_seq_rc = str(Seq(ont_seq).reverse_complement())\n",
    "    print('READ NAME: ', record['read_name'])\n",
    "    print('NUMBER NlaIII SITES: ', record['n_NlaIII'])\n",
    "    print('ONT BARCODE: ', ont_seq)\n",
    "    print('ONT BARCODE (RC): ', ont_seq_rc)\n",
    "\n",
    "    red_ont = f\"\\033[91m{ont_seq}\\033[0m\"\n",
    "    blue_ont = f\"\\033[94m{ont_seq_rc}\\033[0m\"\n",
    "    cutter = f\"\\033[92mCATG\\033[0m\"\n",
    "    highlighted_text = re.sub(ont_seq, red_ont, record['sequence'])\n",
    "    highlighted_text = re.sub(ont_seq_rc, blue_ont, highlighted_text)\n",
    "    highlighted_text = re.sub('CATG', cutter, highlighted_text)\n",
    "    print('READ SEQUENCE: ', highlighted_text)\n",
    "    print()"
   ]
  },
  {
   "cell_type": "markdown",
   "id": "53db8942-5357-440a-856a-a190fd6832ff",
   "metadata": {},
   "source": [
    "# No forward barcodes, reverse only"
   ]
  },
  {
   "cell_type": "code",
   "execution_count": null,
   "id": "046614cb-5ac1-4cc0-b33a-7052f66fe5b3",
   "metadata": {},
   "outputs": [],
   "source": [
    "# let's look at a few extreme cases\n",
    "barcodes = df[(df['n_barcodes'] == 0) & (df['n_barcodes_rc'] == 1) ]['read_name'].unique()\n",
    "pdf = res[res['read_name'].isin(barcodes)]\n",
    "\n",
    "\n",
    "for _, record in pdf.head(10).iterrows():\n",
    "    print(\"===== \", record['run'], record['barcode'], \" =====\")\n",
    "    ont_seq = codes[record['barcode']]\n",
    "    ont_seq_rc = str(Seq(ont_seq).reverse_complement())\n",
    "    print('READ NAME: ', record['read_name'])\n",
    "    print('NUMBER NlaIII SITES: ', record['n_NlaIII'])\n",
    "    print('ONT BARCODE: ', ont_seq)\n",
    "    print('ONT BARCODE (RC): ', ont_seq_rc)\n",
    "\n",
    "    red_ont = f\"\\033[91m{ont_seq}\\033[0m\"\n",
    "    blue_ont = f\"\\033[94m{ont_seq_rc}\\033[0m\"\n",
    "    cutter = f\"\\033[92mCATG\\033[0m\"\n",
    "    highlighted_text = re.sub(ont_seq, red_ont, record['sequence'])\n",
    "    highlighted_text = re.sub(ont_seq_rc, blue_ont, highlighted_text)\n",
    "    highlighted_text = re.sub('CATG', cutter, highlighted_text)\n",
    "    print('READ SEQUENCE: ', highlighted_text)\n",
    "    print()\n"
   ]
  },
  {
   "cell_type": "code",
   "execution_count": null,
   "id": "fbd256fc-1a29-4b88-a7f0-f37b1ca891e5",
   "metadata": {},
   "outputs": [],
   "source": [
    "break"
   ]
  },
  {
   "cell_type": "code",
   "execution_count": null,
   "id": "b466e611-2677-4b2a-a5f4-c09be0f35515",
   "metadata": {},
   "outputs": [],
   "source": []
  },
  {
   "cell_type": "code",
   "execution_count": null,
   "id": "1b0cf771-3b23-49cb-9d32-216a392a5f2d",
   "metadata": {},
   "outputs": [],
   "source": []
  },
  {
   "cell_type": "code",
   "execution_count": null,
   "id": "82ed146c-5fe5-4d4e-abd4-c15c3ecdd7d9",
   "metadata": {},
   "outputs": [],
   "source": []
  },
  {
   "cell_type": "code",
   "execution_count": null,
   "id": "cc567b30-c7f7-4933-b3bc-86b06d9429ab",
   "metadata": {},
   "outputs": [],
   "source": [
    "# look for all barcodes in a few sequences\n",
    "for _, record in res.sample(100).iterrows():\n",
    "    read_seq = record['sequence']\n",
    "    barcode = record['barcode']\n",
    "    for bc, ont_seq in codes.items():\n",
    "        if ont_seq in read_seq:\n",
    "            print(f\"cell barcode: {barcode} found: {bc}\")"
   ]
  },
  {
   "cell_type": "code",
   "execution_count": null,
   "id": "23f4f5cf-674f-466a-a137-1c29e83812c2",
   "metadata": {},
   "outputs": [],
   "source": []
  }
 ],
 "metadata": {
  "kernelspec": {
   "display_name": "Python 3 (ipykernel)",
   "language": "python",
   "name": "python3"
  },
  "language_info": {
   "codemirror_mode": {
    "name": "ipython",
    "version": 3
   },
   "file_extension": ".py",
   "mimetype": "text/x-python",
   "name": "python",
   "nbconvert_exporter": "python",
   "pygments_lexer": "ipython3",
   "version": "3.9.7"
  }
 },
 "nbformat": 4,
 "nbformat_minor": 5
}
